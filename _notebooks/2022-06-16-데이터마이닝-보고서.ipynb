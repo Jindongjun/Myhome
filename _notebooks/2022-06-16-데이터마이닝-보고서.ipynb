{
 "cells": [
  {
   "cell_type": "markdown",
   "metadata": {},
   "source": [
    "### Table of Contents in this notebook \n",
    "\n",
    "* [분석배경 및 목적](#chapter1)\n",
    "    \n",
    "* [EDA 및 시각화](#chapter2)\n",
    "    * [데이터 소개](#section_2_1)\n",
    "    * [연속형 변수 EDA 및 시각화](#section_2_2)\n",
    "    * [target, odometer 변수 상관관계 분석](#section_2_3)\n",
    "    * [odommter, year 변수 EDA 및 시각화](#section_2_4)\n",
    "    * [odometer, year 인사이트](#section_2_5)\n",
    "    * [target, odometer, year 상관관계 분석 및 히트맵 시각화](#section_2_6)\n",
    "    * [범주형 변수 분석](#section_2_7)\n",
    "    * [범주형 변수 시각화(히스토그램)](#section_2_8)\n",
    "    * [범주형 변수 인사이트](#section_2_9)\n",
    "    * [title 라벨링](#section_2_10)\n",
    "    * [location 라벨링](#section_2_11)\n",
    "    * [paint 라벨링](#section_2_12)\n",
    "    * [engine 라벨링](#section_2_13)\n",
    "    * [year 라벨링](#section_2_14)\n",
    "    * [특이점이 없는 isimported, transmission, fuel 라벨링](#section_2_15)\n",
    "    * [라벨링 처리 후 데이터](#section_2_16)\n",
    "* [모델링](#chapter3)\n",
    "    * [linear Regression 모델](#section_3_1)\n",
    "* [결과](#chapter4)\n"
   ]
  },
  {
   "cell_type": "markdown",
   "metadata": {},
   "source": [
    "# 분석배경 및 목적 <a class=\"anchor\" id=\"chapter1\"></a>"
   ]
  },
  {
   "cell_type": "markdown",
   "metadata": {},
   "source": [
    "전부터 자동차에 관심이 많았고, 자동차 관련 데이터 분석을 하고 싶다는 생각을 가지고 있었습니다.\n",
    "\n",
    "마침 데이콘에서 중고차 가격 예측이라는 BASIC 대회가 열려 참가하게 되었고, 이 주제를 가지고 분석발표\n",
    "목적은 중고차 가격 예측입니다."
   ]
  },
  {
   "cell_type": "markdown",
   "metadata": {},
   "source": [
    "# EDA 및 시각화 <a class=\"anchor\" id=\"chapter2\"></a>"
   ]
  },
  {
   "cell_type": "markdown",
   "metadata": {},
   "source": [
    "# 데이터 소개 <a class=\"anchor\" id=\"section_2_1\"></a>\n"
   ]
  },
  {
   "cell_type": "code",
   "execution_count": 150,
   "metadata": {},
   "outputs": [],
   "source": [
    "# 파일을 불러오고 분석할때 필요한 패키지 다운\n",
    "import pandas as pd \n",
    "import numpy as np \n",
    "import matplotlib.pyplot as plt   \n",
    "%matplotlib inline  "
   ]
  },
  {
   "cell_type": "code",
   "execution_count": 151,
   "metadata": {},
   "outputs": [],
   "source": [
    "# csv 형식으로 된 데이터 파일을 읽어옵니다. \n",
    "train = pd.read_csv('./train.csv')\n",
    "test = pd.read_csv('./test.csv')\n",
    "sample_submission = pd.read_csv('./sample_submission.csv')"
   ]
  },
  {
   "cell_type": "code",
   "execution_count": 152,
   "metadata": {},
   "outputs": [
    {
     "data": {
      "text/html": [
       "<div>\n",
       "<style scoped>\n",
       "    .dataframe tbody tr th:only-of-type {\n",
       "        vertical-align: middle;\n",
       "    }\n",
       "\n",
       "    .dataframe tbody tr th {\n",
       "        vertical-align: top;\n",
       "    }\n",
       "\n",
       "    .dataframe thead th {\n",
       "        text-align: right;\n",
       "    }\n",
       "</style>\n",
       "<table border=\"1\" class=\"dataframe\">\n",
       "  <thead>\n",
       "    <tr style=\"text-align: right;\">\n",
       "      <th></th>\n",
       "      <th>id</th>\n",
       "      <th>title</th>\n",
       "      <th>odometer</th>\n",
       "      <th>location</th>\n",
       "      <th>isimported</th>\n",
       "      <th>engine</th>\n",
       "      <th>transmission</th>\n",
       "      <th>fuel</th>\n",
       "      <th>paint</th>\n",
       "      <th>year</th>\n",
       "    </tr>\n",
       "  </thead>\n",
       "  <tbody>\n",
       "    <tr>\n",
       "      <th>0</th>\n",
       "      <td>0</td>\n",
       "      <td>Mercedes-Benz C 300</td>\n",
       "      <td>1234</td>\n",
       "      <td>Abuja</td>\n",
       "      <td>New</td>\n",
       "      <td>4-cylinder(I4)</td>\n",
       "      <td>automatic</td>\n",
       "      <td>petrol</td>\n",
       "      <td>White</td>\n",
       "      <td>2017</td>\n",
       "    </tr>\n",
       "    <tr>\n",
       "      <th>1</th>\n",
       "      <td>1</td>\n",
       "      <td>Honda Accord</td>\n",
       "      <td>29938</td>\n",
       "      <td>Abuja</td>\n",
       "      <td>Foreign Used</td>\n",
       "      <td>4-cylinder(I4)</td>\n",
       "      <td>automatic</td>\n",
       "      <td>petrol</td>\n",
       "      <td>White</td>\n",
       "      <td>2013</td>\n",
       "    </tr>\n",
       "    <tr>\n",
       "      <th>2</th>\n",
       "      <td>2</td>\n",
       "      <td>Mercedes-Benz S 550</td>\n",
       "      <td>87501</td>\n",
       "      <td>Lagos</td>\n",
       "      <td>Foreign Used</td>\n",
       "      <td>4-cylinder(I4)</td>\n",
       "      <td>automatic</td>\n",
       "      <td>petrol</td>\n",
       "      <td>Black</td>\n",
       "      <td>2012</td>\n",
       "    </tr>\n",
       "    <tr>\n",
       "      <th>3</th>\n",
       "      <td>3</td>\n",
       "      <td>Toyota Sienna</td>\n",
       "      <td>180894</td>\n",
       "      <td>Lagos</td>\n",
       "      <td>Locally used</td>\n",
       "      <td>6-cylinder(V6)</td>\n",
       "      <td>automatic</td>\n",
       "      <td>petrol</td>\n",
       "      <td>Dark Grey</td>\n",
       "      <td>2001</td>\n",
       "    </tr>\n",
       "    <tr>\n",
       "      <th>4</th>\n",
       "      <td>4</td>\n",
       "      <td>Toyota Hiace</td>\n",
       "      <td>104814</td>\n",
       "      <td>Lagos</td>\n",
       "      <td>Foreign Used</td>\n",
       "      <td>4-cylinder(I4)</td>\n",
       "      <td>automatic</td>\n",
       "      <td>petrol</td>\n",
       "      <td>White</td>\n",
       "      <td>2000</td>\n",
       "    </tr>\n",
       "  </tbody>\n",
       "</table>\n",
       "</div>"
      ],
      "text/plain": [
       "   id                title  odometer location    isimported          engine  \\\n",
       "0   0  Mercedes-Benz C 300      1234    Abuja          New   4-cylinder(I4)   \n",
       "1   1         Honda Accord     29938    Abuja  Foreign Used  4-cylinder(I4)   \n",
       "2   2  Mercedes-Benz S 550     87501    Lagos  Foreign Used  4-cylinder(I4)   \n",
       "3   3        Toyota Sienna    180894    Lagos  Locally used  6-cylinder(V6)   \n",
       "4   4         Toyota Hiace    104814    Lagos  Foreign Used  4-cylinder(I4)   \n",
       "\n",
       "  transmission    fuel      paint  year  \n",
       "0    automatic  petrol      White  2017  \n",
       "1    automatic  petrol      White  2013  \n",
       "2    automatic  petrol      Black  2012  \n",
       "3    automatic  petrol  Dark Grey  2001  \n",
       "4    automatic  petrol      White  2000  "
      ]
     },
     "execution_count": 152,
     "metadata": {},
     "output_type": "execute_result"
    }
   ],
   "source": [
    "#test 데이터 상위5개 확인\n",
    "test.head()"
   ]
  },
  {
   "cell_type": "code",
   "execution_count": 153,
   "metadata": {},
   "outputs": [
    {
     "data": {
      "text/html": [
       "<div>\n",
       "<style scoped>\n",
       "    .dataframe tbody tr th:only-of-type {\n",
       "        vertical-align: middle;\n",
       "    }\n",
       "\n",
       "    .dataframe tbody tr th {\n",
       "        vertical-align: top;\n",
       "    }\n",
       "\n",
       "    .dataframe thead th {\n",
       "        text-align: right;\n",
       "    }\n",
       "</style>\n",
       "<table border=\"1\" class=\"dataframe\">\n",
       "  <thead>\n",
       "    <tr style=\"text-align: right;\">\n",
       "      <th></th>\n",
       "      <th>id</th>\n",
       "      <th>title</th>\n",
       "      <th>odometer</th>\n",
       "      <th>location</th>\n",
       "      <th>isimported</th>\n",
       "      <th>engine</th>\n",
       "      <th>transmission</th>\n",
       "      <th>fuel</th>\n",
       "      <th>paint</th>\n",
       "      <th>year</th>\n",
       "      <th>target</th>\n",
       "    </tr>\n",
       "  </thead>\n",
       "  <tbody>\n",
       "    <tr>\n",
       "      <th>0</th>\n",
       "      <td>0</td>\n",
       "      <td>Toyota RAV 4</td>\n",
       "      <td>18277</td>\n",
       "      <td>Lagos</td>\n",
       "      <td>Foreign Used</td>\n",
       "      <td>4-cylinder(I4)</td>\n",
       "      <td>automatic</td>\n",
       "      <td>petrol</td>\n",
       "      <td>Red</td>\n",
       "      <td>2016</td>\n",
       "      <td>13665000</td>\n",
       "    </tr>\n",
       "    <tr>\n",
       "      <th>1</th>\n",
       "      <td>1</td>\n",
       "      <td>Toyota Land Cruiser</td>\n",
       "      <td>10</td>\n",
       "      <td>Lagos</td>\n",
       "      <td>New</td>\n",
       "      <td>4-cylinder(I4)</td>\n",
       "      <td>automatic</td>\n",
       "      <td>petrol</td>\n",
       "      <td>Black</td>\n",
       "      <td>2019</td>\n",
       "      <td>33015000</td>\n",
       "    </tr>\n",
       "    <tr>\n",
       "      <th>2</th>\n",
       "      <td>2</td>\n",
       "      <td>Land Rover Range Rover Evoque</td>\n",
       "      <td>83091</td>\n",
       "      <td>Lagos</td>\n",
       "      <td>Foreign Used</td>\n",
       "      <td>6-cylinder(V6)</td>\n",
       "      <td>automatic</td>\n",
       "      <td>petrol</td>\n",
       "      <td>Red</td>\n",
       "      <td>2012</td>\n",
       "      <td>9915000</td>\n",
       "    </tr>\n",
       "    <tr>\n",
       "      <th>3</th>\n",
       "      <td>3</td>\n",
       "      <td>Lexus ES 350</td>\n",
       "      <td>91524</td>\n",
       "      <td>Lagos</td>\n",
       "      <td>Foreign Used</td>\n",
       "      <td>4-cylinder(I4)</td>\n",
       "      <td>automatic</td>\n",
       "      <td>petrol</td>\n",
       "      <td>Gray</td>\n",
       "      <td>2007</td>\n",
       "      <td>3815000</td>\n",
       "    </tr>\n",
       "    <tr>\n",
       "      <th>4</th>\n",
       "      <td>4</td>\n",
       "      <td>Toyota Venza</td>\n",
       "      <td>94177</td>\n",
       "      <td>Lagos</td>\n",
       "      <td>Foreign Used</td>\n",
       "      <td>6-cylinder(V6)</td>\n",
       "      <td>automatic</td>\n",
       "      <td>petrol</td>\n",
       "      <td>Red</td>\n",
       "      <td>2010</td>\n",
       "      <td>7385000</td>\n",
       "    </tr>\n",
       "  </tbody>\n",
       "</table>\n",
       "</div>"
      ],
      "text/plain": [
       "   id                          title  odometer location    isimported  \\\n",
       "0   0                   Toyota RAV 4     18277   Lagos   Foreign Used   \n",
       "1   1            Toyota Land Cruiser        10    Lagos          New    \n",
       "2   2  Land Rover Range Rover Evoque     83091    Lagos  Foreign Used   \n",
       "3   3                   Lexus ES 350     91524    Lagos  Foreign Used   \n",
       "4   4                   Toyota Venza     94177    Lagos  Foreign Used   \n",
       "\n",
       "           engine transmission    fuel  paint  year    target  \n",
       "0  4-cylinder(I4)    automatic  petrol    Red  2016  13665000  \n",
       "1  4-cylinder(I4)    automatic  petrol  Black  2019  33015000  \n",
       "2  6-cylinder(V6)    automatic  petrol    Red  2012   9915000  \n",
       "3  4-cylinder(I4)    automatic  petrol   Gray  2007   3815000  \n",
       "4  6-cylinder(V6)    automatic  petrol    Red  2010   7385000  "
      ]
     },
     "execution_count": 153,
     "metadata": {},
     "output_type": "execute_result"
    }
   ],
   "source": [
    "#train 데이터 상위 5개 확인\n",
    "train.head()"
   ]
  },
  {
   "cell_type": "code",
   "execution_count": 154,
   "metadata": {},
   "outputs": [
    {
     "data": {
      "text/html": [
       "<div>\n",
       "<style scoped>\n",
       "    .dataframe tbody tr th:only-of-type {\n",
       "        vertical-align: middle;\n",
       "    }\n",
       "\n",
       "    .dataframe tbody tr th {\n",
       "        vertical-align: top;\n",
       "    }\n",
       "\n",
       "    .dataframe thead th {\n",
       "        text-align: right;\n",
       "    }\n",
       "</style>\n",
       "<table border=\"1\" class=\"dataframe\">\n",
       "  <thead>\n",
       "    <tr style=\"text-align: right;\">\n",
       "      <th></th>\n",
       "      <th>id</th>\n",
       "      <th>target</th>\n",
       "    </tr>\n",
       "  </thead>\n",
       "  <tbody>\n",
       "    <tr>\n",
       "      <th>0</th>\n",
       "      <td>0</td>\n",
       "      <td>0</td>\n",
       "    </tr>\n",
       "    <tr>\n",
       "      <th>1</th>\n",
       "      <td>1</td>\n",
       "      <td>0</td>\n",
       "    </tr>\n",
       "    <tr>\n",
       "      <th>2</th>\n",
       "      <td>2</td>\n",
       "      <td>0</td>\n",
       "    </tr>\n",
       "    <tr>\n",
       "      <th>3</th>\n",
       "      <td>3</td>\n",
       "      <td>0</td>\n",
       "    </tr>\n",
       "    <tr>\n",
       "      <th>4</th>\n",
       "      <td>4</td>\n",
       "      <td>0</td>\n",
       "    </tr>\n",
       "  </tbody>\n",
       "</table>\n",
       "</div>"
      ],
      "text/plain": [
       "   id  target\n",
       "0   0       0\n",
       "1   1       0\n",
       "2   2       0\n",
       "3   3       0\n",
       "4   4       0"
      ]
     },
     "execution_count": 154,
     "metadata": {},
     "output_type": "execute_result"
    }
   ],
   "source": [
    "# sample_submission 데이터 확인\n",
    "sample_submission.head()"
   ]
  },
  {
   "cell_type": "code",
   "execution_count": 155,
   "metadata": {},
   "outputs": [
    {
     "data": {
      "text/plain": [
       "(436, 10)"
      ]
     },
     "execution_count": 155,
     "metadata": {},
     "output_type": "execute_result"
    }
   ],
   "source": [
    "# test 데이터 행 열 확인/np.shape() 함수를 사용\n",
    "np.shape(test)"
   ]
  },
  {
   "cell_type": "code",
   "execution_count": 156,
   "metadata": {},
   "outputs": [
    {
     "data": {
      "text/plain": [
       "(1015, 11)"
      ]
     },
     "execution_count": 156,
     "metadata": {},
     "output_type": "execute_result"
    }
   ],
   "source": [
    "# train 데이터 행 열 확인/np.shape() 함수를 사용\n",
    "np.shape(train)"
   ]
  },
  {
   "cell_type": "code",
   "execution_count": 157,
   "metadata": {},
   "outputs": [
    {
     "data": {
      "text/plain": [
       "id              0\n",
       "title           0\n",
       "odometer        0\n",
       "location        0\n",
       "isimported      0\n",
       "engine          0\n",
       "transmission    0\n",
       "fuel            0\n",
       "paint           0\n",
       "year            0\n",
       "target          0\n",
       "dtype: int64"
      ]
     },
     "execution_count": 157,
     "metadata": {},
     "output_type": "execute_result"
    }
   ],
   "source": [
    "#결측값 유무 확인/ isnull() 함수로 결측값을 확인후 sum()함수로 각 변수의 결측값 수 확인\n",
    "train.isnull().sum()"
   ]
  },
  {
   "cell_type": "code",
   "execution_count": 158,
   "metadata": {},
   "outputs": [
    {
     "data": {
      "text/plain": [
       "id              0\n",
       "title           0\n",
       "odometer        0\n",
       "location        0\n",
       "isimported      0\n",
       "engine          0\n",
       "transmission    0\n",
       "fuel            0\n",
       "paint           0\n",
       "year            0\n",
       "dtype: int64"
      ]
     },
     "execution_count": 158,
     "metadata": {},
     "output_type": "execute_result"
    }
   ],
   "source": [
    "#결측값 유무 확인\n",
    "test.isnull().sum()"
   ]
  },
  {
   "cell_type": "markdown",
   "metadata": {},
   "source": [
    "# 연속형 변수 EDA 및 시각화 <a class=\"anchor\" id=\"section_2_2\"></a>"
   ]
  },
  {
   "cell_type": "code",
   "execution_count": 159,
   "metadata": {},
   "outputs": [
    {
     "data": {
      "text/html": [
       "<div>\n",
       "<style scoped>\n",
       "    .dataframe tbody tr th:only-of-type {\n",
       "        vertical-align: middle;\n",
       "    }\n",
       "\n",
       "    .dataframe tbody tr th {\n",
       "        vertical-align: top;\n",
       "    }\n",
       "\n",
       "    .dataframe thead th {\n",
       "        text-align: right;\n",
       "    }\n",
       "</style>\n",
       "<table border=\"1\" class=\"dataframe\">\n",
       "  <thead>\n",
       "    <tr style=\"text-align: right;\">\n",
       "      <th></th>\n",
       "      <th>odometer</th>\n",
       "      <th>target</th>\n",
       "      <th>year</th>\n",
       "    </tr>\n",
       "  </thead>\n",
       "  <tbody>\n",
       "    <tr>\n",
       "      <th>count</th>\n",
       "      <td>1015.000000</td>\n",
       "      <td>1.015000e+03</td>\n",
       "      <td>1015.000000</td>\n",
       "    </tr>\n",
       "    <tr>\n",
       "      <th>mean</th>\n",
       "      <td>116842.121182</td>\n",
       "      <td>8.243204e+06</td>\n",
       "      <td>2008.385222</td>\n",
       "    </tr>\n",
       "    <tr>\n",
       "      <th>std</th>\n",
       "      <td>105162.545836</td>\n",
       "      <td>1.239567e+07</td>\n",
       "      <td>35.592123</td>\n",
       "    </tr>\n",
       "    <tr>\n",
       "      <th>min</th>\n",
       "      <td>0.000000</td>\n",
       "      <td>4.000000e+05</td>\n",
       "      <td>1217.000000</td>\n",
       "    </tr>\n",
       "    <tr>\n",
       "      <th>25%</th>\n",
       "      <td>55918.000000</td>\n",
       "      <td>2.535000e+06</td>\n",
       "      <td>2006.000000</td>\n",
       "    </tr>\n",
       "    <tr>\n",
       "      <th>50%</th>\n",
       "      <td>94972.000000</td>\n",
       "      <td>4.215000e+06</td>\n",
       "      <td>2010.000000</td>\n",
       "    </tr>\n",
       "    <tr>\n",
       "      <th>75%</th>\n",
       "      <td>153224.000000</td>\n",
       "      <td>8.927500e+06</td>\n",
       "      <td>2014.000000</td>\n",
       "    </tr>\n",
       "    <tr>\n",
       "      <th>max</th>\n",
       "      <td>987322.000000</td>\n",
       "      <td>1.500150e+08</td>\n",
       "      <td>2020.000000</td>\n",
       "    </tr>\n",
       "  </tbody>\n",
       "</table>\n",
       "</div>"
      ],
      "text/plain": [
       "            odometer        target         year\n",
       "count    1015.000000  1.015000e+03  1015.000000\n",
       "mean   116842.121182  8.243204e+06  2008.385222\n",
       "std    105162.545836  1.239567e+07    35.592123\n",
       "min         0.000000  4.000000e+05  1217.000000\n",
       "25%     55918.000000  2.535000e+06  2006.000000\n",
       "50%     94972.000000  4.215000e+06  2010.000000\n",
       "75%    153224.000000  8.927500e+06  2014.000000\n",
       "max    987322.000000  1.500150e+08  2020.000000"
      ]
     },
     "execution_count": 159,
     "metadata": {},
     "output_type": "execute_result"
    }
   ],
   "source": [
    "#odometer 와 target, year 변수를 연속형 변수로 봄. / describe() 다양한 통계량을 확인할수 있는 함수\n",
    "train[['odometer','target','year']].describe()"
   ]
  },
  {
   "cell_type": "code",
   "execution_count": 207,
   "metadata": {},
   "outputs": [
    {
     "name": "stderr",
     "output_type": "stream",
     "text": [
      "c:\\Users\\USER\\anaconda3\\lib\\site-packages\\seaborn\\distributions.py:2557: FutureWarning: `distplot` is a deprecated function and will be removed in a future version. Please adapt your code to use either `displot` (a figure-level function with similar flexibility) or `histplot` (an axes-level function for histograms).\n",
      "  warnings.warn(msg, FutureWarning)\n"
     ]
    },
    {
     "data": {
      "image/png": "[encoded data removed]",
      "text/plain": [
       "<Figure size 432x288 with 1 Axes>"
      ]
     },
     "metadata": {
      "needs_background": "light"
     },
     "output_type": "display_data"
    }
   ],
   "source": [
    "# tagret 변수 분포 확인\n",
    "import seaborn as sns\n",
    "import matplotlib.pyplot as plt\n",
    "\n",
    "sns.distplot((train['target']))\n",
    "plt.title(f'target')\n",
    "plt.show()"
   ]
  },
  {
   "cell_type": "code",
   "execution_count": 208,
   "metadata": {},
   "outputs": [
    {
     "name": "stderr",
     "output_type": "stream",
     "text": [
      "c:\\Users\\USER\\anaconda3\\lib\\site-packages\\seaborn\\distributions.py:2557: FutureWarning: `distplot` is a deprecated function and will be removed in a future version. Please adapt your code to use either `displot` (a figure-level function with similar flexibility) or `histplot` (an axes-level function for histograms).\n",
      "  warnings.warn(msg, FutureWarning)\n"
     ]
    },
    {
     "data": {
      "image/png": "[encoded data removed]",
      "text/plain": [
       "<Figure size 432x288 with 1 Axes>"
      ]
     },
     "metadata": {
      "needs_background": "light"
     },
     "output_type": "display_data"
    }
   ],
   "source": [
    "#보다 더 자세히 보기 위해 범위를 평균중심으로 3sigma 범위로 축소하여 중앙값과, 평균값 확인\n",
    "mean = np.mean(train['target'])\n",
    "std = np.sqrt(np.var(train['target']))\n",
    "\n",
    "sns.distplot((train[train['target'] <=mean+3*std]['target'])) # 3-sigma\n",
    "plt.title(f'target')\n",
    "plt.axvline(x=mean, color='r', linestyle=':')\n",
    "plt.axvline(x=np.median(train['target']), color='g', linestyle=':')\n",
    "plt.show()"
   ]
  },
  {
   "cell_type": "code",
   "execution_count": 209,
   "metadata": {},
   "outputs": [
    {
     "name": "stderr",
     "output_type": "stream",
     "text": [
      "c:\\Users\\USER\\anaconda3\\lib\\site-packages\\seaborn\\distributions.py:2557: FutureWarning: `distplot` is a deprecated function and will be removed in a future version. Please adapt your code to use either `displot` (a figure-level function with similar flexibility) or `histplot` (an axes-level function for histograms).\n",
      "  warnings.warn(msg, FutureWarning)\n"
     ]
    },
    {
     "data": {
      "image/png": "[encoded data removed]",
      "text/plain": [
       "<Figure size 432x288 with 1 Axes>"
      ]
     },
     "metadata": {
      "needs_background": "light"
     },
     "output_type": "display_data"
    }
   ],
   "source": [
    "# odometer도 target과 같은 방식으로 분포를 확인.\n",
    "sns.distplot((train['odometer']))\n",
    "plt.title(f'odometer')\n",
    "plt.show()"
   ]
  },
  {
   "cell_type": "code",
   "execution_count": 211,
   "metadata": {},
   "outputs": [
    {
     "name": "stderr",
     "output_type": "stream",
     "text": [
      "c:\\Users\\USER\\anaconda3\\lib\\site-packages\\seaborn\\distributions.py:2557: FutureWarning: `distplot` is a deprecated function and will be removed in a future version. Please adapt your code to use either `displot` (a figure-level function with similar flexibility) or `histplot` (an axes-level function for histograms).\n",
      "  warnings.warn(msg, FutureWarning)\n"
     ]
    },
    {
     "data": {
      "image/png": "[encoded data removed]",
      "text/plain": [
       "<Figure size 432x288 with 1 Axes>"
      ]
     },
     "metadata": {
      "needs_background": "light"
     },
     "output_type": "display_data"
    }
   ],
   "source": [
    "mean = np.mean(train['odometer'])\n",
    "std = np.sqrt(np.var(train['odometer']))\n",
    "md = np.median(train['odometer'])\n",
    "\n",
    "sns.distplot((train[train['odometer'] <=mean+3*std]['odometer'])) # 3-sigma\n",
    "plt.title(f'odometer')\n",
    "plt.axvline(x=mean, color='r', linestyle=':')\n",
    "plt.axvline(x=md, color='g', linestyle=':')\n",
    "plt.show()"
   ]
  },
  {
   "cell_type": "markdown",
   "metadata": {},
   "source": [
    "두개 모두 카이제곱 형태를 띠고 있음을 확인."
   ]
  },
  {
   "cell_type": "markdown",
   "metadata": {},
   "source": [
    "# target, odometer 변수 상관관계 분석 <a class=\"anchor\" id=\"section_2_3\"></a>"
   ]
  },
  {
   "cell_type": "code",
   "execution_count": 20,
   "metadata": {},
   "outputs": [
    {
     "name": "stdout",
     "output_type": "stream",
     "text": [
      "            target  odometer\n",
      "target    1.000000 -0.261147\n",
      "odometer -0.261147  1.000000\n"
     ]
    }
   ],
   "source": [
    "# target과 odometer 상관관계 분석\n",
    "print(train[['target','odometer']].corr())"
   ]
  },
  {
   "cell_type": "code",
   "execution_count": 18,
   "metadata": {},
   "outputs": [
    {
     "data": {
      "image/png": "[encoded data removed]",
      "text/plain": [
       "<Figure size 432x288 with 1 Axes>"
      ]
     },
     "metadata": {
      "needs_background": "light"
     },
     "output_type": "display_data"
    }
   ],
   "source": [
    "# target과 odometer 상관관계 분석\n",
    "plt.scatter(train['target'], train['odometer'])\n",
    "plt.xlabel('target')\n",
    "plt.ylabel('odometer')\n",
    "plt.show()"
   ]
  },
  {
   "cell_type": "markdown",
   "metadata": {},
   "source": [
    "0.26수준으로 높지 않음을 확인\n",
    "\n",
    "그래프를 보니 아래로 몰려있어 로그를 취해 재분석\n"
   ]
  },
  {
   "cell_type": "code",
   "execution_count": 22,
   "metadata": {},
   "outputs": [
    {
     "name": "stdout",
     "output_type": "stream",
     "text": [
      "            target  odometer\n",
      "target    1.000000  0.529695\n",
      "odometer  0.529695  1.000000\n"
     ]
    },
    {
     "name": "stderr",
     "output_type": "stream",
     "text": [
      "c:\\Users\\USER\\anaconda3\\lib\\site-packages\\pandas\\core\\arraylike.py:358: RuntimeWarning: divide by zero encountered in log\n",
      "  result = getattr(ufunc, method)(*inputs, **kwargs)\n"
     ]
    }
   ],
   "source": [
    "print(pd.DataFrame({'target':train['target'],'odometer': -1 * np.log(train['odometer'])}).corr())"
   ]
  },
  {
   "cell_type": "code",
   "execution_count": 23,
   "metadata": {},
   "outputs": [
    {
     "name": "stderr",
     "output_type": "stream",
     "text": [
      "c:\\Users\\USER\\anaconda3\\lib\\site-packages\\pandas\\core\\arraylike.py:358: RuntimeWarning: divide by zero encountered in log\n",
      "  result = getattr(ufunc, method)(*inputs, **kwargs)\n"
     ]
    },
    {
     "data": {
      "image/png": "[encoded data removed]",
      "text/plain": [
       "<Figure size 432x288 with 1 Axes>"
      ]
     },
     "metadata": {
      "needs_background": "light"
     },
     "output_type": "display_data"
    }
   ],
   "source": [
    "plt.scatter(train['target'], np.log(train['odometer']))\n",
    "plt.xlabel('target')\n",
    "plt.ylabel('odometer')\n",
    "plt.show()"
   ]
  },
  {
   "cell_type": "markdown",
   "metadata": {},
   "source": [
    "\n",
    "로그를 취한 후 이전보다 분산되는 것을 볼 수 있음.\n",
    "\n",
    "상관관계도 0.52로 약 2배정도 올라간 것을 확인\n",
    "\n",
    "이 변수는 그대로 사용하기보다는 로그를 취한 데이터로 사용하는 것이 더 적합해보임."
   ]
  },
  {
   "cell_type": "markdown",
   "metadata": {},
   "source": [
    "# odommter, year 변수 EDA 및 시각화 <a class=\"anchor\" id=\"section_2_4\"></a>"
   ]
  },
  {
   "cell_type": "code",
   "execution_count": 24,
   "metadata": {},
   "outputs": [
    {
     "data": {
      "image/png": "[encoded data removed]",
      "text/plain": [
       "<Figure size 864x432 with 2 Axes>"
      ]
     },
     "metadata": {},
     "output_type": "display_data"
    }
   ],
   "source": [
    "# odometer변수와 year변수를 막대그래프로 비교\n",
    "plt.style.use(\"ggplot\")\n",
    "\n",
    "plt.figure(figsize=(12,6))\n",
    "plt.suptitle(\"Histogram\", fontsize=20)\n",
    "\n",
    "plt.subplot(1,2,1)\n",
    "plt.hist(train.odometer, bins=50)\n",
    "plt.title('Odometer Histogram')\n",
    "\n",
    "plt.subplot(1,2,2)\n",
    "plt.hist(train.year, bins=50)\n",
    "plt.title('Year Histogram')\n",
    "plt.show()"
   ]
  },
  {
   "cell_type": "markdown",
   "metadata": {},
   "source": [
    "\n",
    "그래프를 보면, year에서 1900년도 이하인 데이터가 존재하여 데이터 분포 범위가 1200 범위부터 시작되는 것을 확인함.\n",
    "\n",
    "따라서 year변수에서 1900년도 이하인 데이터가 얼마나 존재하는지 확인"
   ]
  },
  {
   "cell_type": "code",
   "execution_count": 26,
   "metadata": {},
   "outputs": [
    {
     "data": {
      "text/html": [
       "<div>\n",
       "<style scoped>\n",
       "    .dataframe tbody tr th:only-of-type {\n",
       "        vertical-align: middle;\n",
       "    }\n",
       "\n",
       "    .dataframe tbody tr th {\n",
       "        vertical-align: top;\n",
       "    }\n",
       "\n",
       "    .dataframe thead th {\n",
       "        text-align: right;\n",
       "    }\n",
       "</style>\n",
       "<table border=\"1\" class=\"dataframe\">\n",
       "  <thead>\n",
       "    <tr style=\"text-align: right;\">\n",
       "      <th></th>\n",
       "      <th>id</th>\n",
       "      <th>title</th>\n",
       "      <th>odometer</th>\n",
       "      <th>location</th>\n",
       "      <th>isimported</th>\n",
       "      <th>engine</th>\n",
       "      <th>transmission</th>\n",
       "      <th>fuel</th>\n",
       "      <th>paint</th>\n",
       "      <th>year</th>\n",
       "      <th>target</th>\n",
       "    </tr>\n",
       "  </thead>\n",
       "  <tbody>\n",
       "    <tr>\n",
       "      <th>415</th>\n",
       "      <td>415</td>\n",
       "      <td>Mercedes-Benz ATEGO</td>\n",
       "      <td>403461</td>\n",
       "      <td>Lagos</td>\n",
       "      <td>Locally used</td>\n",
       "      <td>4-cylinder(I4)</td>\n",
       "      <td>manual</td>\n",
       "      <td>diesel</td>\n",
       "      <td>white</td>\n",
       "      <td>1218</td>\n",
       "      <td>6015000</td>\n",
       "    </tr>\n",
       "    <tr>\n",
       "      <th>827</th>\n",
       "      <td>827</td>\n",
       "      <td>Mercedes-Benz/52</td>\n",
       "      <td>510053</td>\n",
       "      <td>Lagos</td>\n",
       "      <td>Locally used</td>\n",
       "      <td>6-cylinder(V6)</td>\n",
       "      <td>manual</td>\n",
       "      <td>diesel</td>\n",
       "      <td>white</td>\n",
       "      <td>1217</td>\n",
       "      <td>75015000</td>\n",
       "    </tr>\n",
       "  </tbody>\n",
       "</table>\n",
       "</div>"
      ],
      "text/plain": [
       "      id                title  odometer location    isimported  \\\n",
       "415  415  Mercedes-Benz ATEGO    403461    Lagos  Locally used   \n",
       "827  827     Mercedes-Benz/52    510053    Lagos  Locally used   \n",
       "\n",
       "             engine transmission    fuel  paint  year    target  \n",
       "415  4-cylinder(I4)       manual  diesel  white  1218   6015000  \n",
       "827  6-cylinder(V6)       manual  diesel  white  1217  75015000  "
      ]
     },
     "execution_count": 26,
     "metadata": {},
     "output_type": "execute_result"
    }
   ],
   "source": [
    "#이상값 확인\n",
    "train[train['year'] < 1900]\n"
   ]
  },
  {
   "cell_type": "code",
   "execution_count": 28,
   "metadata": {},
   "outputs": [],
   "source": [
    "#### 1218,1217년도 데이터가 존재하는것을 확인 후 오기입된 데이터라 판단하여 제거\n",
    "train = train.drop('id', axis = 1).reset_index().drop('index', axis = 1).reset_index().rename({'index':'id'}, axis = 'columns')"
   ]
  },
  {
   "cell_type": "code",
   "execution_count": 33,
   "metadata": {},
   "outputs": [
    {
     "data": {
      "text/html": [
       "<div>\n",
       "<style scoped>\n",
       "    .dataframe tbody tr th:only-of-type {\n",
       "        vertical-align: middle;\n",
       "    }\n",
       "\n",
       "    .dataframe tbody tr th {\n",
       "        vertical-align: top;\n",
       "    }\n",
       "\n",
       "    .dataframe thead th {\n",
       "        text-align: right;\n",
       "    }\n",
       "</style>\n",
       "<table border=\"1\" class=\"dataframe\">\n",
       "  <thead>\n",
       "    <tr style=\"text-align: right;\">\n",
       "      <th></th>\n",
       "      <th>odometer</th>\n",
       "      <th>year</th>\n",
       "    </tr>\n",
       "  </thead>\n",
       "  <tbody>\n",
       "    <tr>\n",
       "      <th>count</th>\n",
       "      <td>1013.000000</td>\n",
       "      <td>1013.000000</td>\n",
       "    </tr>\n",
       "    <tr>\n",
       "      <th>mean</th>\n",
       "      <td>116171.015795</td>\n",
       "      <td>2009.946693</td>\n",
       "    </tr>\n",
       "    <tr>\n",
       "      <th>std</th>\n",
       "      <td>104147.052690</td>\n",
       "      <td>5.540466</td>\n",
       "    </tr>\n",
       "    <tr>\n",
       "      <th>min</th>\n",
       "      <td>0.000000</td>\n",
       "      <td>1980.000000</td>\n",
       "    </tr>\n",
       "    <tr>\n",
       "      <th>25%</th>\n",
       "      <td>55775.000000</td>\n",
       "      <td>2006.000000</td>\n",
       "    </tr>\n",
       "    <tr>\n",
       "      <th>50%</th>\n",
       "      <td>94803.000000</td>\n",
       "      <td>2010.000000</td>\n",
       "    </tr>\n",
       "    <tr>\n",
       "      <th>75%</th>\n",
       "      <td>152878.000000</td>\n",
       "      <td>2014.000000</td>\n",
       "    </tr>\n",
       "    <tr>\n",
       "      <th>max</th>\n",
       "      <td>987322.000000</td>\n",
       "      <td>2020.000000</td>\n",
       "    </tr>\n",
       "  </tbody>\n",
       "</table>\n",
       "</div>"
      ],
      "text/plain": [
       "            odometer         year\n",
       "count    1013.000000  1013.000000\n",
       "mean   116171.015795  2009.946693\n",
       "std    104147.052690     5.540466\n",
       "min         0.000000  1980.000000\n",
       "25%     55775.000000  2006.000000\n",
       "50%     94803.000000  2010.000000\n",
       "75%    152878.000000  2014.000000\n",
       "max    987322.000000  2020.000000"
      ]
     },
     "execution_count": 33,
     "metadata": {},
     "output_type": "execute_result"
    }
   ],
   "source": [
    "# odometer변수와 year변수를 통해 각 컬럼의 평균값, 최대값, 최소값, 편차 확인\n",
    "data_description = train.describe().iloc[:,1:3]\n",
    "data_description"
   ]
  },
  {
   "cell_type": "code",
   "execution_count": 34,
   "metadata": {},
   "outputs": [
    {
     "data": {
      "text/plain": [
       "<matplotlib.lines.Line2D at 0x28832713c10>"
      ]
     },
     "execution_count": 34,
     "metadata": {},
     "output_type": "execute_result"
    },
    {
     "data": {
      "image/png": "[encoded data removed]",
      "text/plain": [
       "<Figure size 864x432 with 2 Axes>"
      ]
     },
     "metadata": {},
     "output_type": "display_data"
    }
   ],
   "source": [
    "# 통계치를 숫자로만 보고 가늠하기 어렵다고 판단하여 각각 데이터를 히스토그램에 평균(빨강)과 중앙값(초록)을 선으로 표시\n",
    "plt.style.use(\"ggplot\")\n",
    "\n",
    "plt.figure(figsize=(12,6))\n",
    "plt.suptitle(\"Histogram\", fontsize=20)\n",
    "\n",
    "plt.subplot(1,2,1)\n",
    "plt.hist(train['odometer'], bins=50, color='#eaa18a', edgecolor='#7bcabf')\n",
    "plt.title('odometer')\n",
    "plt.axvline(data_description['odometer']['mean'], c='#f55354', label = f\"mean = {round(data_description['odometer']['mean'], 2)}\")\n",
    "plt.axvline(data_description['odometer']['50%'], c='#518d7d', label = f\"median = {round(data_description['odometer']['50%'], 2)}\")\n",
    "\n",
    "plt.subplot(1,2,2)\n",
    "# 수치형 데이터 통계치 그래프\n",
    "plt.hist(train['year'], bins = 50, color='#eaa18a', edgecolor='#7bcabf')\n",
    "plt.title('year')\n",
    "plt.axvline(data_description['year']['mean'], c='#f55354', label = f\"mean = {round(data_description['year']['mean'], 2)}\")\n",
    "plt.axvline(data_description['year']['50%'], c='#518d7d', label = f\"median = {round(data_description['year']['50%'], 2)}\")"
   ]
  },
  {
   "cell_type": "markdown",
   "metadata": {},
   "source": [
    "# odometer, year 인사이트 <a class=\"anchor\" id=\"section_2_5\"></a>"
   ]
  },
  {
   "cell_type": "code",
   "execution_count": 50,
   "metadata": {},
   "outputs": [
    {
     "name": "stdout",
     "output_type": "stream",
     "text": [
      "Odometer 평균은 116171 입니다\n",
      "Odometer 중앙값은 94803 입니다\n"
     ]
    }
   ],
   "source": [
    "# Odometer 인사이트\n",
    "print('Odometer 평균은', round(data_description['odometer']['mean']), '입니다')\n",
    "print('Odometer 중앙값은', round(data_description['odometer']['50%']), '입니다')"
   ]
  },
  {
   "cell_type": "markdown",
   "metadata": {},
   "source": [
    "평균 주행거리는 116171, 중앙값은 94803으로\n",
    "평균에 비해 중앙값이 좌측으로 치우쳐져 있는 것을 알 수 있음\n",
    "\n",
    "또한 데이터 분포를 보면 좌편향 되어있는 것을 보아 주행거리가 데이터 평균에 비하여 매우 큰 값이 드물게 존재하는 것을 확인해볼 수 있다\n",
    "\n",
    "-> 따라서 주행거리 0 ~ 987,322 사이 범위에서 비교적 적은 거리의 데이터가 많이 분포한다 것을 확인"
   ]
  },
  {
   "cell_type": "code",
   "execution_count": 92,
   "metadata": {},
   "outputs": [
    {
     "name": "stdout",
     "output_type": "stream",
     "text": [
      "Year 평균은 2010 입니다\n",
      "Year 중앙값은 2010 입니다\n"
     ]
    }
   ],
   "source": [
    "# year 인사이트\n",
    "print('Year 평균은', round(data_description['year']['mean']), '입니다')\n",
    "print('Year 중앙값은', round(data_description['year']['50%']), '입니다')"
   ]
  },
  {
   "cell_type": "markdown",
   "metadata": {},
   "source": [
    "평균 연식과 중앙값은 2010으로\n",
    "평균과 중앙값이 2010년도 인 것을 알 수 있음.\n",
    "\n",
    "또한 데이터 분포를 보면 우편향 되어있는 것을 보아 연식이 데이터 평균에 비하여 매우 작은 값이 드물게 존재하는 것을 확인해볼 수 있다.\n",
    "\n",
    "-> 따라서 1980~2020 범위에서 비교적 최신 연도의 데이터가 많이 분포한다는 것을 확인"
   ]
  },
  {
   "cell_type": "markdown",
   "metadata": {},
   "source": [
    "# target, odometer, year 상관관계 분석 및 히트맵 시각화 <a class=\"anchor\" id=\"section_2_6\"></a>"
   ]
  },
  {
   "cell_type": "code",
   "execution_count": 52,
   "metadata": {},
   "outputs": [
    {
     "name": "stderr",
     "output_type": "stream",
     "text": [
      "<ipython-input-52-2f0ff168659d>:6: SettingWithCopyWarning: \n",
      "A value is trying to be set on a copy of a slice from a DataFrame.\n",
      "Try using .loc[row_indexer,col_indexer] = value instead\n",
      "\n",
      "See the caveats in the documentation: https://pandas.pydata.org/pandas-docs/stable/user_guide/indexing.html#returning-a-view-versus-a-copy\n",
      "  train_corr[train_corr.columns] = scaler.fit_transform(train_corr[train_corr.columns])\n",
      "c:\\Users\\USER\\anaconda3\\lib\\site-packages\\pandas\\core\\indexing.py:1738: SettingWithCopyWarning: \n",
      "A value is trying to be set on a copy of a slice from a DataFrame.\n",
      "Try using .loc[row_indexer,col_indexer] = value instead\n",
      "\n",
      "See the caveats in the documentation: https://pandas.pydata.org/pandas-docs/stable/user_guide/indexing.html#returning-a-view-versus-a-copy\n",
      "  self._setitem_single_column(loc, value[:, i].tolist(), pi)\n"
     ]
    }
   ],
   "source": [
    "from sklearn.preprocessing import MinMaxScaler\n",
    "\n",
    "# 수치형 데이터 상관관계 히트맵 시각화\n",
    "train_corr = train[['odometer', 'year', 'target']]\n",
    "scaler= MinMaxScaler() \n",
    "train_corr[train_corr.columns] = scaler.fit_transform(train_corr[train_corr.columns])\n",
    "corr28 = train_corr.corr(method= 'pearson')"
   ]
  },
  {
   "cell_type": "code",
   "execution_count": 53,
   "metadata": {},
   "outputs": [
    {
     "data": {
      "text/plain": [
       "Text(0.5, 1.0, 'Correlation between features')"
      ]
     },
     "execution_count": 53,
     "metadata": {},
     "output_type": "execute_result"
    },
    {
     "data": {
      "image/png": "[encoded data removed]",
      "text/plain": [
       "<Figure size 864x720 with 2 Axes>"
      ]
     },
     "metadata": {
      "needs_background": "light"
     },
     "output_type": "display_data"
    }
   ],
   "source": [
    "plt.figure(figsize=(12,10))\n",
    "sns.heatmap(data = corr28, annot=True, fmt = '.2f', linewidths=.5, cmap='Blues')\n",
    "plt.title('Correlation between features', fontsize=30)"
   ]
  },
  {
   "cell_type": "code",
   "execution_count": 54,
   "metadata": {},
   "outputs": [
    {
     "data": {
      "text/html": [
       "<style  type=\"text/css\" >\n",
       "#T_fc3fe_row0_col0{\n",
       "            background-color:  #fde725;\n",
       "            color:  #000000;\n",
       "        }#T_fc3fe_row1_col0{\n",
       "            background-color:  #443b84;\n",
       "            color:  #f1f1f1;\n",
       "        }#T_fc3fe_row2_col0{\n",
       "            background-color:  #440154;\n",
       "            color:  #f1f1f1;\n",
       "        }</style><table id=\"T_fc3fe_\" ><thead>    <tr>        <th class=\"blank level0\" ></th>        <th class=\"col_heading level0 col0\" >target</th>    </tr></thead><tbody>\n",
       "                <tr>\n",
       "                        <th id=\"T_fc3fe_level0_row0\" class=\"row_heading level0 row0\" >target</th>\n",
       "                        <td id=\"T_fc3fe_row0_col0\" class=\"data row0 col0\" >1.000000</td>\n",
       "            </tr>\n",
       "            <tr>\n",
       "                        <th id=\"T_fc3fe_level0_row1\" class=\"row_heading level0 row1\" >year</th>\n",
       "                        <td id=\"T_fc3fe_row1_col0\" class=\"data row1 col0\" >-0.042637</td>\n",
       "            </tr>\n",
       "            <tr>\n",
       "                        <th id=\"T_fc3fe_level0_row2\" class=\"row_heading level0 row2\" >odometer</th>\n",
       "                        <td id=\"T_fc3fe_row2_col0\" class=\"data row2 col0\" >-0.261147</td>\n",
       "            </tr>\n",
       "    </tbody></table>"
      ],
      "text/plain": [
       "<pandas.io.formats.style.Styler at 0x28832754e50>"
      ]
     },
     "execution_count": 54,
     "metadata": {},
     "output_type": "execute_result"
    }
   ],
   "source": [
    "# Target을 기준으로 다른 변수와의 상관관계\n",
    "s28 = corr28.unstack()\n",
    "df_temp28 = pd.DataFrame(s28['target'].sort_values(ascending=False), columns=['target'])\n",
    "df_temp28.style.background_gradient(cmap='viridis')"
   ]
  },
  {
   "cell_type": "markdown",
   "metadata": {},
   "source": [
    "그래프를 보니 year가 높은 양의 상관관계가 있는것으로 이는 최근 연도일수록 가격이 높아진다는 것으로 해석\n",
    "\n",
    "또한 odometer도 -0.29로 음의 상관관계를 띄므로 전반적으로 주행거리가 많을 수록 가격이 낮아질 것이라고 해석"
   ]
  },
  {
   "cell_type": "markdown",
   "metadata": {},
   "source": [
    "# 범주형 변수 분석 <a class=\"anchor\" id=\"section_2_7\"></a>"
   ]
  },
  {
   "cell_type": "code",
   "execution_count": 56,
   "metadata": {},
   "outputs": [
    {
     "data": {
      "text/html": [
       "<div>\n",
       "<style scoped>\n",
       "    .dataframe tbody tr th:only-of-type {\n",
       "        vertical-align: middle;\n",
       "    }\n",
       "\n",
       "    .dataframe tbody tr th {\n",
       "        vertical-align: top;\n",
       "    }\n",
       "\n",
       "    .dataframe thead th {\n",
       "        text-align: right;\n",
       "    }\n",
       "</style>\n",
       "<table border=\"1\" class=\"dataframe\">\n",
       "  <thead>\n",
       "    <tr style=\"text-align: right;\">\n",
       "      <th></th>\n",
       "      <th>title</th>\n",
       "      <th>location</th>\n",
       "      <th>isimported</th>\n",
       "      <th>engine</th>\n",
       "      <th>transmission</th>\n",
       "      <th>fuel</th>\n",
       "      <th>paint</th>\n",
       "    </tr>\n",
       "  </thead>\n",
       "  <tbody>\n",
       "    <tr>\n",
       "      <th>count</th>\n",
       "      <td>1015</td>\n",
       "      <td>1015</td>\n",
       "      <td>1015</td>\n",
       "      <td>1015</td>\n",
       "      <td>1015</td>\n",
       "      <td>1015</td>\n",
       "      <td>1015</td>\n",
       "    </tr>\n",
       "    <tr>\n",
       "      <th>unique</th>\n",
       "      <td>203</td>\n",
       "      <td>13</td>\n",
       "      <td>3</td>\n",
       "      <td>8</td>\n",
       "      <td>2</td>\n",
       "      <td>2</td>\n",
       "      <td>76</td>\n",
       "    </tr>\n",
       "    <tr>\n",
       "      <th>top</th>\n",
       "      <td>Toyota Camry</td>\n",
       "      <td>Lagos</td>\n",
       "      <td>Foreign Used</td>\n",
       "      <td>4-cylinder(I4)</td>\n",
       "      <td>automatic</td>\n",
       "      <td>petrol</td>\n",
       "      <td>Black</td>\n",
       "    </tr>\n",
       "    <tr>\n",
       "      <th>freq</th>\n",
       "      <td>129</td>\n",
       "      <td>792</td>\n",
       "      <td>744</td>\n",
       "      <td>618</td>\n",
       "      <td>965</td>\n",
       "      <td>970</td>\n",
       "      <td>292</td>\n",
       "    </tr>\n",
       "  </tbody>\n",
       "</table>\n",
       "</div>"
      ],
      "text/plain": [
       "               title location    isimported          engine transmission  \\\n",
       "count           1015     1015          1015            1015         1015   \n",
       "unique           203       13             3               8            2   \n",
       "top     Toyota Camry    Lagos  Foreign Used  4-cylinder(I4)    automatic   \n",
       "freq             129      792           744             618          965   \n",
       "\n",
       "          fuel  paint  \n",
       "count     1015   1015  \n",
       "unique       2     76  \n",
       "top     petrol  Black  \n",
       "freq       970    292  "
      ]
     },
     "execution_count": 56,
     "metadata": {},
     "output_type": "execute_result"
    }
   ],
   "source": [
    "#범주형 변수\n",
    "#describe에 include=\"object\"을 주면 범주형 변수의 count, unique, top, freq 통계치를 얻을 수 있음\n",
    "train.describe(include=\"object\")"
   ]
  },
  {
   "cell_type": "markdown",
   "metadata": {},
   "source": [
    "unique 행을 보면 title(201)과 paint은(76)의 카테고리가 매우 많이 있는 것으로 보고 다른 변수들과 비슷하게 줄여주고자 함."
   ]
  },
  {
   "cell_type": "code",
   "execution_count": 57,
   "metadata": {},
   "outputs": [
    {
     "data": {
      "text/plain": [
       "Toyota Camry            129\n",
       "Toyota Corolla          108\n",
       "Toyota Highlander        50\n",
       "Toyota Sienna            49\n",
       "Toyota RAV 4             40\n",
       "Honda Accord             38\n",
       "Lexus RX 350             33\n",
       "Lexus ES 350             24\n",
       "Toyota Venza             16\n",
       "Lexus GX 460             16\n",
       "Honda Pilot              15\n",
       "Lexus LX 570             14\n",
       "Mercedes-Benz ML 350     13\n",
       "Toyota Avalon            13\n",
       "Mercedes-Benz E 350      12\n",
       "Toyota Tacoma            12\n",
       "Ford Explorer            12\n",
       "Toyota Matrix            12\n",
       "Toyota 4-Runner          12\n",
       "Mercedes-Benz GL 450     12\n",
       "Name: title, dtype: int64"
      ]
     },
     "execution_count": 57,
     "metadata": {},
     "output_type": "execute_result"
    }
   ],
   "source": [
    "# 도요타, 혼다, 렉서스, 벤츠 등 title 변수를 통하여 브랜드 별 카테고리 변수로 추가해주면 분석에 용이 할 것이라 판단.\n",
    "train['title'].value_counts()[:20]"
   ]
  },
  {
   "cell_type": "code",
   "execution_count": 58,
   "metadata": {},
   "outputs": [
    {
     "data": {
      "text/plain": [
       "0       Toyota\n",
       "1       Toyota\n",
       "2         Land\n",
       "3        Lexus\n",
       "4       Toyota\n",
       "         ...  \n",
       "1010    Toyota\n",
       "1011    Toyota\n",
       "1012    Toyota\n",
       "1013     Lexus\n",
       "1014       DAF\n",
       "Name: title, Length: 1015, dtype: object"
      ]
     },
     "execution_count": 58,
     "metadata": {},
     "output_type": "execute_result"
    }
   ],
   "source": [
    "#브랜드는 띄어쓰기 기준으로 첫번째 단어에 위치해 있으므로 첫번째 단어를 플래그로 기준으로 나눔\n",
    "train['title'].apply(lambda x : x.split(\" \")[0])"
   ]
  },
  {
   "cell_type": "code",
   "execution_count": 59,
   "metadata": {},
   "outputs": [
    {
     "data": {
      "text/html": [
       "<div>\n",
       "<style scoped>\n",
       "    .dataframe tbody tr th:only-of-type {\n",
       "        vertical-align: middle;\n",
       "    }\n",
       "\n",
       "    .dataframe tbody tr th {\n",
       "        vertical-align: top;\n",
       "    }\n",
       "\n",
       "    .dataframe thead th {\n",
       "        text-align: right;\n",
       "    }\n",
       "</style>\n",
       "<table border=\"1\" class=\"dataframe\">\n",
       "  <thead>\n",
       "    <tr style=\"text-align: right;\">\n",
       "      <th></th>\n",
       "      <th>id</th>\n",
       "      <th>title</th>\n",
       "      <th>odometer</th>\n",
       "      <th>location</th>\n",
       "      <th>isimported</th>\n",
       "      <th>engine</th>\n",
       "      <th>transmission</th>\n",
       "      <th>fuel</th>\n",
       "      <th>paint</th>\n",
       "      <th>year</th>\n",
       "      <th>target</th>\n",
       "      <th>brand</th>\n",
       "    </tr>\n",
       "  </thead>\n",
       "  <tbody>\n",
       "    <tr>\n",
       "      <th>0</th>\n",
       "      <td>0</td>\n",
       "      <td>Toyota RAV 4</td>\n",
       "      <td>18277</td>\n",
       "      <td>Lagos</td>\n",
       "      <td>Foreign Used</td>\n",
       "      <td>4-cylinder(I4)</td>\n",
       "      <td>automatic</td>\n",
       "      <td>petrol</td>\n",
       "      <td>Red</td>\n",
       "      <td>2016</td>\n",
       "      <td>13665000</td>\n",
       "      <td>Toyota</td>\n",
       "    </tr>\n",
       "    <tr>\n",
       "      <th>1</th>\n",
       "      <td>1</td>\n",
       "      <td>Toyota Land Cruiser</td>\n",
       "      <td>10</td>\n",
       "      <td>Lagos</td>\n",
       "      <td>New</td>\n",
       "      <td>4-cylinder(I4)</td>\n",
       "      <td>automatic</td>\n",
       "      <td>petrol</td>\n",
       "      <td>Black</td>\n",
       "      <td>2019</td>\n",
       "      <td>33015000</td>\n",
       "      <td>Toyota</td>\n",
       "    </tr>\n",
       "    <tr>\n",
       "      <th>2</th>\n",
       "      <td>2</td>\n",
       "      <td>Land Rover Range Rover Evoque</td>\n",
       "      <td>83091</td>\n",
       "      <td>Lagos</td>\n",
       "      <td>Foreign Used</td>\n",
       "      <td>6-cylinder(V6)</td>\n",
       "      <td>automatic</td>\n",
       "      <td>petrol</td>\n",
       "      <td>Red</td>\n",
       "      <td>2012</td>\n",
       "      <td>9915000</td>\n",
       "      <td>Land</td>\n",
       "    </tr>\n",
       "    <tr>\n",
       "      <th>3</th>\n",
       "      <td>3</td>\n",
       "      <td>Lexus ES 350</td>\n",
       "      <td>91524</td>\n",
       "      <td>Lagos</td>\n",
       "      <td>Foreign Used</td>\n",
       "      <td>4-cylinder(I4)</td>\n",
       "      <td>automatic</td>\n",
       "      <td>petrol</td>\n",
       "      <td>Gray</td>\n",
       "      <td>2007</td>\n",
       "      <td>3815000</td>\n",
       "      <td>Lexus</td>\n",
       "    </tr>\n",
       "    <tr>\n",
       "      <th>4</th>\n",
       "      <td>4</td>\n",
       "      <td>Toyota Venza</td>\n",
       "      <td>94177</td>\n",
       "      <td>Lagos</td>\n",
       "      <td>Foreign Used</td>\n",
       "      <td>6-cylinder(V6)</td>\n",
       "      <td>automatic</td>\n",
       "      <td>petrol</td>\n",
       "      <td>Red</td>\n",
       "      <td>2010</td>\n",
       "      <td>7385000</td>\n",
       "      <td>Toyota</td>\n",
       "    </tr>\n",
       "  </tbody>\n",
       "</table>\n",
       "</div>"
      ],
      "text/plain": [
       "   id                          title  odometer location    isimported  \\\n",
       "0   0                   Toyota RAV 4     18277   Lagos   Foreign Used   \n",
       "1   1            Toyota Land Cruiser        10    Lagos          New    \n",
       "2   2  Land Rover Range Rover Evoque     83091    Lagos  Foreign Used   \n",
       "3   3                   Lexus ES 350     91524    Lagos  Foreign Used   \n",
       "4   4                   Toyota Venza     94177    Lagos  Foreign Used   \n",
       "\n",
       "           engine transmission    fuel  paint  year    target   brand  \n",
       "0  4-cylinder(I4)    automatic  petrol    Red  2016  13665000  Toyota  \n",
       "1  4-cylinder(I4)    automatic  petrol  Black  2019  33015000  Toyota  \n",
       "2  6-cylinder(V6)    automatic  petrol    Red  2012   9915000    Land  \n",
       "3  4-cylinder(I4)    automatic  petrol   Gray  2007   3815000   Lexus  \n",
       "4  6-cylinder(V6)    automatic  petrol    Red  2010   7385000  Toyota  "
      ]
     },
     "execution_count": 59,
     "metadata": {},
     "output_type": "execute_result"
    }
   ],
   "source": [
    "#이 데이터를 새로운 'brand' 라는 컬럼을 생성하여 train 데이터에 추가\n",
    "train['brand'] = train['title'].apply(lambda x : x.split(\" \")[0])\n",
    "train.head()"
   ]
  },
  {
   "cell_type": "code",
   "execution_count": 60,
   "metadata": {},
   "outputs": [
    {
     "name": "stdout",
     "output_type": "stream",
     "text": [
      "title의 unique 카테고리 개수 :  203\n",
      "brand의 unique 카테고리 개수 :  42\n"
     ]
    }
   ],
   "source": [
    "# 줄은 것을 확인\n",
    "print('title의 unique 카테고리 개수 : ', len(train['title'].value_counts()))\n",
    "print('brand의 unique 카테고리 개수 : ', len(train['brand'].value_counts()))"
   ]
  },
  {
   "cell_type": "code",
   "execution_count": 61,
   "metadata": {},
   "outputs": [
    {
     "data": {
      "text/plain": [
       "Black         292\n",
       "White         115\n",
       "Silver        103\n",
       "Grey           84\n",
       "Blue           70\n",
       "Red            53\n",
       "Dark Grey      47\n",
       "Gold           37\n",
       "white          26\n",
       "Green          18\n",
       "Gray           17\n",
       "Brown          16\n",
       "Black          15\n",
       "Dark Blue      14\n",
       "Wine            8\n",
       "Sliver          5\n",
       "Silver          5\n",
       "red             5\n",
       "blue            5\n",
       "Dark blue       3\n",
       "Name: paint, dtype: int64"
      ]
     },
     "execution_count": 61,
     "metadata": {},
     "output_type": "execute_result"
    }
   ],
   "source": [
    "#paint 변수도 마찬가지로 실행\n",
    "train['paint'].value_counts()[:20]"
   ]
  },
  {
   "cell_type": "markdown",
   "metadata": {},
   "source": [
    "'Black', 'Black '\n",
    "\n",
    "'Red', 'red'\n",
    "\n",
    "띄어쓰기, 대소문자가 고르지 못한 단어들을 볼 수 있음\n",
    "\n",
    "정규표현식을 이용하여 통일"
   ]
  },
  {
   "cell_type": "code",
   "execution_count": 63,
   "metadata": {},
   "outputs": [],
   "source": [
    "# 정규표현식을 이용하여 통일화\n",
    "import re \n",
    "\n",
    "def clean_text(texts): \n",
    "    corpus = [] \n",
    "    for i in range(0, len(texts)): \n",
    "        review = re.sub(r'[@%\\\\*=()/~#&\\+á?\\xc3\\xa1\\-\\|\\.\\:\\;\\!\\-\\,\\_\\~\\$\\'\\\"\\n\\]\\[\\>\\<]', '',texts[i]) #@%*=()/+ 와 같은 문장부호 제거\n",
    "        review = re.sub(r'\\d+','',review)#숫자 제거\n",
    "        review = review.lower() #소문자 변환\n",
    "        review = re.sub(r'\\s+', ' ', review) #extra space 제거\n",
    "        review = re.sub(r'<[^>]+>','',review) #Html tags 제거\n",
    "        review = re.sub(r'\\s+', ' ', review) #spaces 제거\n",
    "        review = re.sub(r\"^\\s+\", '', review) #space from start 제거\n",
    "        review = re.sub(r'\\s+$', '', review) #space from the end 제거\n",
    "        review = re.sub(r'_', ' ', review) #space from the end 제거\n",
    "        #review = re.sub(r'l', '', review)\n",
    "        corpus.append(review) \n",
    "        \n",
    "    return corpus"
   ]
  },
  {
   "cell_type": "code",
   "execution_count": 64,
   "metadata": {},
   "outputs": [],
   "source": [
    "temp = clean_text(train['paint']) #메소드 적용\n",
    "train['paint'] = temp"
   ]
  },
  {
   "cell_type": "code",
   "execution_count": 65,
   "metadata": {},
   "outputs": [
    {
     "name": "stdout",
     "output_type": "stream",
     "text": [
      "brand의 unique 카테고리 개수 :  51\n"
     ]
    }
   ],
   "source": [
    "print('brand의 unique 카테고리 개수 : ', len(train['paint'].unique()))"
   ]
  },
  {
   "cell_type": "code",
   "execution_count": 66,
   "metadata": {},
   "outputs": [
    {
     "data": {
      "text/plain": [
       "black        310\n",
       "white        144\n",
       "silver       109\n",
       "grey          87\n",
       "blue          78\n",
       "red           58\n",
       "dark grey     48\n",
       "gold          41\n",
       "green         20\n",
       "gray          18\n",
       "dark blue     17\n",
       "brown         16\n",
       "wine           9\n",
       "sliver         5\n",
       "cream          4\n",
       "dark ash       4\n",
       "purple         3\n",
       "ash            3\n",
       "yellow         3\n",
       "maroon         2\n",
       "Name: paint, dtype: int64"
      ]
     },
     "execution_count": 66,
     "metadata": {},
     "output_type": "execute_result"
    }
   ],
   "source": [
    "# 생각보다 색상이 너무 많은 것 같아 다시 확인\n",
    "train['paint'].value_counts()[:20]"
   ]
  },
  {
   "cell_type": "markdown",
   "metadata": {},
   "source": [
    "'Silver, 'Sliver'\n",
    "\n",
    "'grey', 'dark grey'\n",
    "\n",
    "등 오타가 있고,\n",
    "\n",
    "색상의 명도 및 채도 차이로 색상이 많아짐\n",
    "\n",
    "오타는 수정해주고 명도 및 채도는 그 색의 대표색으로 변경"
   ]
  },
  {
   "cell_type": "code",
   "execution_count": 68,
   "metadata": {},
   "outputs": [],
   "source": [
    "# 오타는 수정, 명도 및 채도는 그 색의 대표색으로 변경\n",
    "train['paint'] = train['paint'] = train['paint'].apply(lambda x : 'blue' if x.find('blue') >= 0 else x)\n",
    "train['paint'] = train['paint'] = train['paint'].apply(lambda x : 'red' if x.find('red') >= 0 else x)\n",
    "train['paint'] = train['paint'] = train['paint'].apply(lambda x : 'green' if x.find('green') >= 0 else x)\n",
    "train['paint'] = train['paint'] = train['paint'].apply(lambda x : 'white' if x.find('white') >= 0 else x)\n",
    "train['paint'] = train['paint'] = train['paint'].apply(lambda x : 'grey' if x.find('grey') >= 0 else x)\n",
    "train['paint'] = train['paint'] = train['paint'].apply(lambda x : 'grey' if x.find('gery') >= 0 else x)\n",
    "train['paint'] = train['paint'] = train['paint'].apply(lambda x : 'grey' if x.find('gray') >= 0 else x)\n",
    "train['paint'] = train['paint'] = train['paint'].apply(lambda x : 'ash' if x.find('ash') >= 0 else x)\n",
    "train['paint'] = train['paint'] = train['paint'].apply(lambda x : 'brown' if x.find('brown') >= 0 else x)\n",
    "train['paint'] = train['paint'] = train['paint'].apply(lambda x : 'silver' if x.find('silver') >= 0 else x)\n",
    "train['paint'] = train['paint'] = train['paint'].apply(lambda x : 'silver' if x.find('sliver') >= 0 else x)\n",
    "train['paint'] = train['paint'] = train['paint'].apply(lambda x : 'black' if x.find('black') >= 0 else x)\n",
    "train['paint'] = train['paint'] = train['paint'].apply(lambda x : 'gold' if x.find('gold') >= 0 else x)\n",
    "train['paint'] = train['paint'] = train['paint'].apply(lambda x : 'wine' if x.find('whine') >= 0 else x)"
   ]
  },
  {
   "cell_type": "code",
   "execution_count": 70,
   "metadata": {},
   "outputs": [
    {
     "name": "stdout",
     "output_type": "stream",
     "text": [
      "paint의 unique 카테고리 개수 :  18\n"
     ]
    }
   ],
   "source": [
    "print('paint의 unique 카테고리 개수 : ', len(train['paint'].value_counts()))"
   ]
  },
  {
   "cell_type": "markdown",
   "metadata": {},
   "source": [
    "최종적으로 paint 변수를 76개 카테고리에서 18개 카테고리로 준 것을 확인"
   ]
  },
  {
   "cell_type": "markdown",
   "metadata": {},
   "source": [
    "# 범주형 변수 시각화(히스토그램) <a class=\"anchor\" id=\"section_2_8\"></a>"
   ]
  },
  {
   "cell_type": "markdown",
   "metadata": {},
   "source": [
    "데이터 분포를 확인하기 위해서 count를 나타내는 히스토그램으로 데이터의 분포를 확인"
   ]
  },
  {
   "cell_type": "code",
   "execution_count": 72,
   "metadata": {},
   "outputs": [
    {
     "data": {
      "image/png": "[encoded data removed]",
      "text/plain": [
       "<Figure size 1800x1080 with 8 Axes>"
      ]
     },
     "metadata": {},
     "output_type": "display_data"
    }
   ],
   "source": [
    "plt.style.use(\"ggplot\")\n",
    "\n",
    "plt.figure(figsize=(25,15))\n",
    "count = 1\n",
    "\n",
    "for i in train.describe(include=\"object\").columns:\n",
    "    plt.subplot(4,2,count)\n",
    "    # countplot 을 사용해서 데이터의 분포를 살핌.\n",
    "    sns.countplot(data=train, x=i)\n",
    "    count += 1"
   ]
  },
  {
   "cell_type": "markdown",
   "metadata": {},
   "source": [
    "title과 brand는 너무 unique 카테고리가 많아서 알아 보기 어려움\n",
    "\n",
    "따라서 count 상위 15개 카테고리만 뽑아 확인"
   ]
  },
  {
   "cell_type": "code",
   "execution_count": 73,
   "metadata": {},
   "outputs": [],
   "source": [
    "train_title10 = train[train['title'].apply(lambda x : x in train['title'].value_counts()[:10].keys())]\n",
    "train_brand10 = train[train['brand'].apply(lambda x : x in train['brand'].value_counts()[:10].keys())]"
   ]
  },
  {
   "cell_type": "code",
   "execution_count": 74,
   "metadata": {},
   "outputs": [
    {
     "data": {
      "image/png": "[encoded data removed]",
      "text/plain": [
       "<Figure size 1800x1080 with 8 Axes>"
      ]
     },
     "metadata": {},
     "output_type": "display_data"
    }
   ],
   "source": [
    "plt.style.use(\"ggplot\")\n",
    "\n",
    "plt.figure(figsize=(25,15))\n",
    "plt.subplot(4,2,1)\n",
    "sns.countplot(data=train_title10, x='title')\n",
    "plt.subplot(4,2,2)\n",
    "sns.countplot(data=train_brand10, x='brand')\n",
    "count = 3\n",
    "\n",
    "for i in train.describe(include=\"object\").columns.drop(['title'])[:-1]:\n",
    "    plt.subplot(4,2,count)\n",
    "    sns.countplot(data=train, x=i)\n",
    "    count += 1"
   ]
  },
  {
   "cell_type": "markdown",
   "metadata": {},
   "source": [
    "#  범주형 인사이트 <a class=\"anchor\" id=\"section_2_9\"></a>"
   ]
  },
  {
   "cell_type": "markdown",
   "metadata": {},
   "source": [
    "인사이트\n",
    "\n",
    "해석 결과\n",
    "\n",
    "title과 brand에서 Toyota가 압도적으로 중고차가 많다는 것을 확인\n",
    "\n",
    "location에서 Lagos 지역이 압도적으로 중고차가 많다는 것을 확인\n",
    "\n",
    "isimported에서 New 차는 적고, Foreign Used>Locally used>New 순으로 중고차 대수가 이루어진 것을 확인\n",
    "\n",
    "engine에서 4-cylinder가 압도적으로 중고차가 많다는 것을 확인\n",
    "\n",
    "trainsmission에서 automatic가 압도적으로 중고차가 많다는 것을 확인\n",
    "\n",
    "fuel에서 petrol가 압도적으로 중고차가 많다는 것을 확인\n",
    "\n",
    "paint에서 black>grey>white>sliver>red>gold .. 순으로 중고차 대수가 이루어진 것을 확인\n",
    "\n",
    "이를 통하여 isimported, transmission, fuel 등 몇몇 피쳐들이 데이터가 불균형이 심한 것을 확인할 수 있었습니다. 따라서 몇몇 피쳐들을 가지고 모델이 \n",
    "정답값인 중고차 가격을 잘 맞추기엔 데이터가 부족할 수 있을 것 같다는 생각이 듬\n",
    "\n",
    "따라서 이 문제를 해결하기 위하여 부족한 데이터를 증강 하는 것이 좋다고 생각하지만 대회규칙상 다른 데이터사용 불가."
   ]
  },
  {
   "cell_type": "markdown",
   "metadata": {},
   "source": [
    "# title 라벨링 <a class=\"anchor\" id=\"section_2_10\"></a>"
   ]
  },
  {
   "cell_type": "code",
   "execution_count": 164,
   "metadata": {},
   "outputs": [
    {
     "data": {
      "text/plain": [
       "{'ALPINA B3',\n",
       " 'Acura MDX',\n",
       " 'Acura RDX',\n",
       " 'Acura TL',\n",
       " 'Acura TSX',\n",
       " 'Acura ZDX',\n",
       " 'Audi S6',\n",
       " 'BMW 325',\n",
       " 'BMW 335',\n",
       " 'BMW 525',\n",
       " 'BMW 528',\n",
       " 'BMW 535',\n",
       " 'BMW 730',\n",
       " 'BMW 740',\n",
       " 'BMW 745',\n",
       " 'BMW 750',\n",
       " 'BMW X3',\n",
       " 'BMW X6',\n",
       " 'Bentley Arnage',\n",
       " 'Chevrolet Camaro',\n",
       " 'Chevrolet Evanda',\n",
       " 'Chevrolet Traverse',\n",
       " 'DAF 45',\n",
       " 'DAF 95XF TRACTOR HEAD',\n",
       " 'DAF CF',\n",
       " 'DAF FA 55. 180',\n",
       " 'DAF XF TRACTOR HEAD',\n",
       " 'Dodge Charger',\n",
       " 'Fiat Ducato',\n",
       " 'Ford Edge',\n",
       " 'Ford Escape',\n",
       " 'Ford Expedition',\n",
       " 'Ford Explorer',\n",
       " 'Ford F 150',\n",
       " 'Ford Focus',\n",
       " 'Ford Fusion',\n",
       " 'Ford Mondeo',\n",
       " 'Ford Mustang',\n",
       " 'Ford TRANSIT PICKUP',\n",
       " 'Ford Transit',\n",
       " 'GAC Gonow Other',\n",
       " 'GMC Terrain',\n",
       " 'Honda Accord',\n",
       " 'Honda CR-V',\n",
       " 'Honda Civic',\n",
       " 'Honda Crosstour',\n",
       " 'Honda Element',\n",
       " 'Honda Fit',\n",
       " 'Honda Insight',\n",
       " 'Honda Odyssey',\n",
       " 'Honda Pilot',\n",
       " 'Honda Ridgeline',\n",
       " 'Hyundai Azera',\n",
       " 'Hyundai Elantra',\n",
       " 'Hyundai Santa Fe',\n",
       " 'Hyundai Sonata',\n",
       " 'Hyundai Tucson',\n",
       " 'Hyundai ix35',\n",
       " 'IVECO EUROTECH 7.50E-16',\n",
       " 'IVM LT35',\n",
       " 'Infiniti FX',\n",
       " 'Infiniti JX',\n",
       " 'Infiniti M35',\n",
       " 'Infiniti QX80',\n",
       " 'Isuzu CABSTER',\n",
       " 'Isuzu NQR',\n",
       " 'Iveco EUROCARGO 120e18',\n",
       " 'Iveco TRUCK',\n",
       " 'JMC Vigus',\n",
       " 'Jaguar X-Type',\n",
       " 'Jaguar XJ8',\n",
       " 'Jeep Cherokee',\n",
       " 'Jeep Wrangler',\n",
       " 'Kia Cerato',\n",
       " 'Kia Optima',\n",
       " 'Kia Picanto',\n",
       " 'Kia Rio',\n",
       " 'Kia Sorento',\n",
       " 'Kia Soul',\n",
       " 'Kia Stinger',\n",
       " 'Land Rover Discovery',\n",
       " 'Land Rover Range Rover',\n",
       " 'Land Rover Range Rover Evoque',\n",
       " 'Land Rover Range Rover Sport',\n",
       " 'Land Rover Range Rover Velar',\n",
       " 'Lexus CT 200h',\n",
       " 'Lexus ES 300',\n",
       " 'Lexus ES 330',\n",
       " 'Lexus ES 350',\n",
       " 'Lexus GS 300',\n",
       " 'Lexus GS 350',\n",
       " 'Lexus GX 460',\n",
       " 'Lexus GX 470',\n",
       " 'Lexus IS 250',\n",
       " 'Lexus LS 460',\n",
       " 'Lexus LX 570',\n",
       " 'Lexus RX 300',\n",
       " 'Lexus RX 330',\n",
       " 'Lexus RX 350',\n",
       " 'Lexus RX 400',\n",
       " 'Lincoln Mark',\n",
       " 'MAN-VOLKSWAGEN FLATBED',\n",
       " 'MINI Cooper',\n",
       " 'MINI Cooper Countryman',\n",
       " 'MINI Cooper Coupé',\n",
       " 'Mack CH613',\n",
       " 'Mack CH613 CONVENTIONAL CAB',\n",
       " 'Mack CXN613',\n",
       " 'Mack CXN613 CAB BEHIND ENGINE',\n",
       " 'Mack R-686ST',\n",
       " 'Man 26-403',\n",
       " 'Man BOCKMANN',\n",
       " 'Man Diesel 19.314 FILT-N',\n",
       " 'Man LE 8. 180 PLATFORM TRUCK',\n",
       " 'Man TGA 18.360',\n",
       " 'Man Truck 18.44',\n",
       " 'Mazda 323',\n",
       " 'Mazda 6',\n",
       " 'Mazda CX-9',\n",
       " 'Mazda Tribute',\n",
       " 'Mercedes-Benz 200',\n",
       " 'Mercedes-Benz 220',\n",
       " 'Mercedes-Benz 300',\n",
       " 'Mercedes-Benz 320',\n",
       " 'Mercedes-Benz 350',\n",
       " 'Mercedes-Benz 450',\n",
       " 'Mercedes-Benz 709 DB',\n",
       " 'Mercedes-Benz 814',\n",
       " 'Mercedes-Benz ATEGO',\n",
       " 'Mercedes-Benz C 180',\n",
       " 'Mercedes-Benz C 250',\n",
       " 'Mercedes-Benz C 300',\n",
       " 'Mercedes-Benz C 320',\n",
       " 'Mercedes-Benz C 350',\n",
       " 'Mercedes-Benz C 450 AMG',\n",
       " 'Mercedes-Benz C 63 AMG',\n",
       " 'Mercedes-Benz CABIN PLUS CHASSIS ONLY',\n",
       " 'Mercedes-Benz CLA 250',\n",
       " 'Mercedes-Benz CLS 500',\n",
       " 'Mercedes-Benz DUMP TRUCK',\n",
       " 'Mercedes-Benz E 200',\n",
       " 'Mercedes-Benz E 300',\n",
       " 'Mercedes-Benz E 320',\n",
       " 'Mercedes-Benz E 350',\n",
       " 'Mercedes-Benz E 550',\n",
       " 'Mercedes-Benz G 550',\n",
       " 'Mercedes-Benz G 63 AMG',\n",
       " 'Mercedes-Benz GL 450',\n",
       " 'Mercedes-Benz GLA 180',\n",
       " 'Mercedes-Benz GLA 250',\n",
       " 'Mercedes-Benz GLC 300',\n",
       " 'Mercedes-Benz GLE 350',\n",
       " 'Mercedes-Benz GLE 43 AMG',\n",
       " 'Mercedes-Benz GLE 450',\n",
       " 'Mercedes-Benz GLK 300',\n",
       " 'Mercedes-Benz GLK 350',\n",
       " 'Mercedes-Benz ML 320',\n",
       " 'Mercedes-Benz ML 350',\n",
       " 'Mercedes-Benz ML 430',\n",
       " 'Mercedes-Benz Maybach',\n",
       " 'Mercedes-Benz S 450',\n",
       " 'Mercedes-Benz S 550',\n",
       " 'Mercedes-Benz SL 400',\n",
       " 'Mercedes-Benz WATER TANKER',\n",
       " 'Mercedes-Benz/52',\n",
       " 'Mitsubishi CANTER PICK UP',\n",
       " 'Mitsubishi Eclipse',\n",
       " 'Mitsubishi Galant',\n",
       " 'Mitsubishi L200',\n",
       " 'Mitsubishi Montero',\n",
       " 'Mitsubishi Pajero',\n",
       " 'Nissan A',\n",
       " 'Nissan Altima',\n",
       " 'Nissan Cabstar',\n",
       " 'Nissan Frontier',\n",
       " 'Nissan INFINITI M90.150/2',\n",
       " 'Nissan Maxima',\n",
       " 'Nissan Murano',\n",
       " 'Nissan Pathfinder',\n",
       " 'Nissan Primera',\n",
       " 'Nissan Quest',\n",
       " 'Nissan Rogue',\n",
       " 'Nissan Sentra',\n",
       " 'Nissan Titan',\n",
       " 'Nissan Versa',\n",
       " 'Nissan X-Trail',\n",
       " 'Nissan Xterra',\n",
       " 'Peugeot 206',\n",
       " 'Peugeot 307',\n",
       " 'Peugeot 308',\n",
       " 'Peugeot 607',\n",
       " 'Pontiac Vibe',\n",
       " 'Porsche Cayenne',\n",
       " 'Porsche Macan',\n",
       " 'Porsche Panamera',\n",
       " 'Rolls-Royce Ghost',\n",
       " 'Scania P94 FLATBED',\n",
       " 'Scania TRACTOR HEAD',\n",
       " 'Toyota 4-Runner',\n",
       " 'Toyota Avalon',\n",
       " 'Toyota Avensis',\n",
       " 'Toyota C-HR',\n",
       " 'Toyota Camry',\n",
       " 'Toyota Coaster',\n",
       " 'Toyota Corolla',\n",
       " 'Toyota DYNA 200',\n",
       " 'Toyota Dyna',\n",
       " 'Toyota Hiace',\n",
       " 'Toyota Highlander',\n",
       " 'Toyota Hilux',\n",
       " 'Toyota Land Cruiser',\n",
       " 'Toyota Matrix',\n",
       " 'Toyota Prado',\n",
       " 'Toyota Prius',\n",
       " 'Toyota RAV 4',\n",
       " 'Toyota Sequoia',\n",
       " 'Toyota Sienna',\n",
       " 'Toyota Solara',\n",
       " 'Toyota Tacoma',\n",
       " 'Toyota Tundra',\n",
       " 'Toyota Venza',\n",
       " 'Toyota Vitz',\n",
       " 'Toyota Yaris',\n",
       " 'Volkswagen 17.22',\n",
       " 'Volkswagen Golf',\n",
       " 'Volkswagen Jetta',\n",
       " 'Volkswagen LT',\n",
       " 'Volkswagen Passat',\n",
       " 'Volkswagen Sharan',\n",
       " 'Volkswagen T4 Caravelle',\n",
       " 'Volkswagen T6 other',\n",
       " 'Volkswagen Tiguan',\n",
       " 'Volkswagen Touareg',\n",
       " 'Volvo FH12',\n",
       " 'Volvo FL12',\n",
       " 'Volvo FL6',\n",
       " 'Volvo FL7',\n",
       " 'Volvo S80',\n",
       " 'Volvo XC60',\n",
       " 'Volvo XC90'}"
      ]
     },
     "execution_count": 164,
     "metadata": {},
     "output_type": "execute_result"
    }
   ],
   "source": [
    "# train, test 데이터에 있는 모든 car title 합치기\n",
    "car_title = pd.concat([train.title, test.title], ignore_index = True)\n",
    "car_title = set(car_title)\n",
    "car_title"
   ]
  },
  {
   "cell_type": "code",
   "execution_count": 168,
   "metadata": {},
   "outputs": [
    {
     "data": {
      "text/plain": [
       "{'Mazda CX-9': 0,\n",
       " 'Mercedes-Benz C 180': 1,\n",
       " 'Hyundai Tucson': 2,\n",
       " 'Mercedes-Benz GL 450': 3,\n",
       " 'Infiniti JX': 4,\n",
       " 'Chevrolet Camaro': 5,\n",
       " 'Honda Crosstour': 6,\n",
       " 'Lexus GS 350': 7,\n",
       " 'Mercedes-Benz GLK 350': 8,\n",
       " 'Toyota Camry': 9,\n",
       " 'Mack CH613 CONVENTIONAL CAB': 10,\n",
       " 'Land Rover Range Rover Sport': 11,\n",
       " 'Bentley Arnage': 12,\n",
       " 'Iveco EUROCARGO 120e18': 13,\n",
       " 'BMW X6': 14,\n",
       " 'Hyundai ix35': 15,\n",
       " 'Mitsubishi CANTER PICK UP': 16,\n",
       " 'Mercedes-Benz 814': 17,\n",
       " 'Acura RDX': 18,\n",
       " 'Nissan Quest': 19,\n",
       " 'Toyota Sequoia': 20,\n",
       " 'Porsche Cayenne': 21,\n",
       " 'Isuzu NQR': 22,\n",
       " 'Rolls-Royce Ghost': 23,\n",
       " 'Toyota Tundra': 24,\n",
       " 'Lexus LS 460': 25,\n",
       " 'Mercedes-Benz E 550': 26,\n",
       " 'Mercedes-Benz ML 430': 27,\n",
       " 'Mercedes-Benz E 200': 28,\n",
       " 'Audi S6': 29,\n",
       " 'Honda Odyssey': 30,\n",
       " 'Nissan Maxima': 31,\n",
       " 'Lexus ES 330': 32,\n",
       " 'Mack R-686ST': 33,\n",
       " 'BMW 740': 34,\n",
       " 'Toyota Hiace': 35,\n",
       " 'BMW 535': 36,\n",
       " 'Mercedes-Benz C 350': 37,\n",
       " 'Land Rover Discovery': 38,\n",
       " 'Nissan Primera': 39,\n",
       " 'Nissan Cabstar': 40,\n",
       " 'Mercedes-Benz CABIN PLUS CHASSIS ONLY': 41,\n",
       " 'Mercedes-Benz GLK 300': 42,\n",
       " 'Mercedes-Benz S 550': 43,\n",
       " 'Man LE 8. 180 PLATFORM TRUCK': 44,\n",
       " 'Ford Explorer': 45,\n",
       " 'IVECO EUROTECH 7.50E-16': 46,\n",
       " 'Kia Optima': 47,\n",
       " 'Mercedes-Benz ML 320': 48,\n",
       " 'Nissan INFINITI M90.150/2': 49,\n",
       " 'Toyota DYNA 200': 50,\n",
       " 'Mazda 6': 51,\n",
       " 'Ford Mustang': 52,\n",
       " 'Honda Ridgeline': 53,\n",
       " 'Lexus CT 200h': 54,\n",
       " 'Lexus RX 400': 55,\n",
       " 'Mercedes-Benz GLE 43 AMG': 56,\n",
       " 'Volkswagen Jetta': 57,\n",
       " 'Nissan Rogue': 58,\n",
       " 'Nissan Pathfinder': 59,\n",
       " 'Peugeot 607': 60,\n",
       " 'Pontiac Vibe': 61,\n",
       " 'GAC Gonow Other': 62,\n",
       " 'Lincoln Mark': 63,\n",
       " 'DAF CF': 64,\n",
       " 'Hyundai Santa Fe': 65,\n",
       " 'Mercedes-Benz E 300': 66,\n",
       " 'Mercedes-Benz/52': 67,\n",
       " 'Mercedes-Benz GLE 450': 68,\n",
       " 'Toyota Avensis': 69,\n",
       " 'Peugeot 206': 70,\n",
       " 'Toyota Vitz': 71,\n",
       " 'Nissan X-Trail': 72,\n",
       " 'Ford Escape': 73,\n",
       " 'Volkswagen 17.22': 74,\n",
       " 'Lexus ES 300': 75,\n",
       " 'Toyota Prius': 76,\n",
       " 'Kia Cerato': 77,\n",
       " 'Mack CXN613': 78,\n",
       " 'Volkswagen T6 other': 79,\n",
       " 'Mercedes-Benz 220': 80,\n",
       " 'Nissan Murano': 81,\n",
       " 'Nissan Frontier': 82,\n",
       " 'Volkswagen Golf': 83,\n",
       " 'Isuzu CABSTER': 84,\n",
       " 'Mitsubishi Montero': 85,\n",
       " 'Toyota Hilux': 86,\n",
       " 'BMW 325': 87,\n",
       " 'Honda Element': 88,\n",
       " 'Land Rover Range Rover Velar': 89,\n",
       " 'Mercedes-Benz SL 400': 90,\n",
       " 'Mercedes-Benz G 550': 91,\n",
       " 'Peugeot 307': 92,\n",
       " 'Infiniti FX': 93,\n",
       " 'Lexus IS 250': 94,\n",
       " 'Hyundai Azera': 95,\n",
       " 'Chevrolet Evanda': 96,\n",
       " 'Man Truck 18.44': 97,\n",
       " 'Nissan Sentra': 98,\n",
       " 'Dodge Charger': 99,\n",
       " 'Mercedes-Benz 709 DB': 100,\n",
       " 'Mercedes-Benz E 350': 101,\n",
       " 'ALPINA B3': 102,\n",
       " 'Kia Rio': 103,\n",
       " 'Ford TRANSIT PICKUP': 104,\n",
       " 'Toyota Tacoma': 105,\n",
       " 'Toyota Coaster': 106,\n",
       " 'MINI Cooper Countryman': 107,\n",
       " 'Porsche Macan': 108,\n",
       " 'Mercedes-Benz C 450 AMG': 109,\n",
       " 'Mercedes-Benz DUMP TRUCK': 110,\n",
       " 'Honda Civic': 111,\n",
       " 'Volvo FL7': 112,\n",
       " 'Lexus RX 330': 113,\n",
       " 'Mack CH613': 114,\n",
       " 'Nissan Xterra': 115,\n",
       " 'Mitsubishi Eclipse': 116,\n",
       " 'Scania P94 FLATBED': 117,\n",
       " 'Volvo XC90': 118,\n",
       " 'Peugeot 308': 119,\n",
       " 'Mercedes-Benz 350': 120,\n",
       " 'Mercedes-Benz G 63 AMG': 121,\n",
       " 'Infiniti M35': 122,\n",
       " 'Mitsubishi L200': 123,\n",
       " 'Acura MDX': 124,\n",
       " 'Mazda 323': 125,\n",
       " 'Iveco TRUCK': 126,\n",
       " 'Jaguar XJ8': 127,\n",
       " 'Mercedes-Benz CLS 500': 128,\n",
       " 'BMW 335': 129,\n",
       " 'BMW X3': 130,\n",
       " 'Mercedes-Benz GLC 300': 131,\n",
       " 'Lexus GX 460': 132,\n",
       " 'MAN-VOLKSWAGEN FLATBED': 133,\n",
       " 'Lexus LX 570': 134,\n",
       " 'Fiat Ducato': 135,\n",
       " 'Jaguar X-Type': 136,\n",
       " 'Mercedes-Benz ATEGO': 137,\n",
       " 'Honda CR-V': 138,\n",
       " 'Nissan Versa': 139,\n",
       " 'Jeep Cherokee': 140,\n",
       " 'Mercedes-Benz C 300': 141,\n",
       " 'Mitsubishi Pajero': 142,\n",
       " 'Toyota Highlander': 143,\n",
       " 'Volkswagen T4 Caravelle': 144,\n",
       " 'Mercedes-Benz E 320': 145,\n",
       " 'Toyota Solara': 146,\n",
       " 'Kia Soul': 147,\n",
       " 'Toyota Corolla': 148,\n",
       " 'BMW 745': 149,\n",
       " 'Honda Insight': 150,\n",
       " 'Man TGA 18.360': 151,\n",
       " 'Ford F 150': 152,\n",
       " 'Mercedes-Benz 200': 153,\n",
       " 'DAF 45': 154,\n",
       " 'Mitsubishi Galant': 155,\n",
       " 'Kia Picanto': 156,\n",
       " 'Mercedes-Benz GLA 180': 157,\n",
       " 'Mercedes-Benz S 450': 158,\n",
       " 'Land Rover Range Rover Evoque': 159,\n",
       " 'GMC Terrain': 160,\n",
       " 'Lexus GX 470': 161,\n",
       " 'Man BOCKMANN': 162,\n",
       " 'Man 26-403': 163,\n",
       " 'Mercedes-Benz CLA 250': 164,\n",
       " 'Volkswagen Tiguan': 165,\n",
       " 'Mercedes-Benz Maybach': 166,\n",
       " 'Volkswagen Sharan': 167,\n",
       " 'Volvo FH12': 168,\n",
       " 'BMW 528': 169,\n",
       " 'Toyota Avalon': 170,\n",
       " 'Toyota Dyna': 171,\n",
       " 'Volvo FL12': 172,\n",
       " 'BMW 730': 173,\n",
       " 'BMW 525': 174,\n",
       " 'Toyota 4-Runner': 175,\n",
       " 'Hyundai Elantra': 176,\n",
       " 'Mack CXN613 CAB BEHIND ENGINE': 177,\n",
       " 'Mercedes-Benz 300': 178,\n",
       " 'Ford Focus': 179,\n",
       " 'Volvo XC60': 180,\n",
       " 'Mercedes-Benz GLE 350': 181,\n",
       " 'Toyota Prado': 182,\n",
       " 'Jeep Wrangler': 183,\n",
       " 'Nissan Altima': 184,\n",
       " 'Toyota Matrix': 185,\n",
       " 'Acura TL': 186,\n",
       " 'Hyundai Sonata': 187,\n",
       " 'Porsche Panamera': 188,\n",
       " 'Volkswagen Touareg': 189,\n",
       " 'DAF 95XF TRACTOR HEAD': 190,\n",
       " 'Man Diesel 19.314 FILT-N': 191,\n",
       " 'Scania TRACTOR HEAD': 192,\n",
       " 'JMC Vigus': 193,\n",
       " 'Mercedes-Benz C 250': 194,\n",
       " 'Mercedes-Benz ML 350': 195,\n",
       " 'Land Rover Range Rover': 196,\n",
       " 'IVM LT35': 197,\n",
       " 'Kia Stinger': 198,\n",
       " 'Toyota Yaris': 199,\n",
       " 'Mercedes-Benz 450': 200,\n",
       " 'Nissan Titan': 201,\n",
       " 'Volkswagen Passat': 202,\n",
       " 'Chevrolet Traverse': 203,\n",
       " 'Mazda Tribute': 204,\n",
       " 'Ford Edge': 205,\n",
       " 'Mercedes-Benz C 320': 206,\n",
       " 'DAF XF TRACTOR HEAD': 207,\n",
       " 'Volvo FL6': 208,\n",
       " 'Toyota Land Cruiser': 209,\n",
       " 'Ford Expedition': 210,\n",
       " 'Nissan A': 211,\n",
       " 'DAF FA 55. 180': 212,\n",
       " 'MINI Cooper': 213,\n",
       " 'Acura TSX': 214,\n",
       " 'Honda Pilot': 215,\n",
       " 'Mercedes-Benz WATER TANKER': 216,\n",
       " 'Honda Accord': 217,\n",
       " 'Lexus RX 350': 218,\n",
       " 'MINI Cooper Coupé': 219,\n",
       " 'Toyota Venza': 220,\n",
       " 'Ford Mondeo': 221,\n",
       " 'Ford Transit': 222,\n",
       " 'Acura ZDX': 223,\n",
       " 'Mercedes-Benz 320': 224,\n",
       " 'BMW 750': 225,\n",
       " 'Mercedes-Benz C 63 AMG': 226,\n",
       " 'Lexus GS 300': 227,\n",
       " 'Toyota C-HR': 228,\n",
       " 'Volvo S80': 229,\n",
       " 'Lexus ES 350': 230,\n",
       " 'Volkswagen LT': 231,\n",
       " 'Ford Fusion': 232,\n",
       " 'Toyota Sienna': 233,\n",
       " 'Lexus RX 300': 234,\n",
       " 'Honda Fit': 235,\n",
       " 'Kia Sorento': 236,\n",
       " 'Infiniti QX80': 237,\n",
       " 'Toyota RAV 4': 238,\n",
       " 'Mercedes-Benz GLA 250': 239}"
      ]
     },
     "execution_count": 168,
     "metadata": {},
     "output_type": "execute_result"
    }
   ],
   "source": [
    "# label 생성을 위한 dictionary 생성\n",
    "car_title_label = {car_title : label for label, car_title in enumerate(car_title)}\n",
    "car_title_label"
   ]
  },
  {
   "cell_type": "code",
   "execution_count": 169,
   "metadata": {},
   "outputs": [],
   "source": [
    "# 생성된 dictionary를 이용하여 car title labeling\n",
    "train['title'] = train['title'].replace(car_title_label)\n",
    "test['title'] = test['title'].replace(car_title_label)"
   ]
  },
  {
   "cell_type": "markdown",
   "metadata": {},
   "source": [
    "# location 라벨링 <a class=\"anchor\" id=\"section_2_11\"></a>"
   ]
  },
  {
   "cell_type": "code",
   "execution_count": 170,
   "metadata": {},
   "outputs": [
    {
     "data": {
      "text/plain": [
       "array(['Lagos ', 'Lagos', 'Abuja', 'Lagos State', 'Ogun', 'FCT', 'Accra',\n",
       "       'other', 'Abuja ', 'Abia State', 'Adamawa ', 'Abia', 'Ogun State'],\n",
       "      dtype=object)"
      ]
     },
     "execution_count": 170,
     "metadata": {},
     "output_type": "execute_result"
    }
   ],
   "source": [
    "# 변수에 띄어쓰기나 같은 도시인데 표기법이 다른 경우 하나로 묶어줌\n",
    "train.location.unique()"
   ]
  },
  {
   "cell_type": "code",
   "execution_count": 171,
   "metadata": {},
   "outputs": [
    {
     "data": {
      "text/plain": [
       "array(['Abuja', 'Lagos', 'Lagos ', 'Ogun', 'Mushin', 'Lagos State',\n",
       "       'other', 'Abuja ', 'Arepo ogun state ', 'Ogun State', 'Abia'],\n",
       "      dtype=object)"
      ]
     },
     "execution_count": 171,
     "metadata": {},
     "output_type": "execute_result"
    }
   ],
   "source": [
    "test.location.unique()"
   ]
  },
  {
   "cell_type": "code",
   "execution_count": 172,
   "metadata": {},
   "outputs": [],
   "source": [
    "train['location'] = train['location'].replace({\n",
    "    'Abia State' : 'Abia',\n",
    "    'Abuja ' : 'Abuja',\n",
    "    'Lagos ' : 'Lagos',\n",
    "    'Lagos State' : 'Lagos',\n",
    "    'Ogun State' : 'Ogun'\n",
    "    })"
   ]
  },
  {
   "cell_type": "code",
   "execution_count": 173,
   "metadata": {},
   "outputs": [],
   "source": [
    "test['location'] = test['location'].replace({\n",
    "    'Abuja ' : 'Abuja',\n",
    "    'Lagos ' : 'Lagos',\n",
    "    'Lagos State' : 'Lagos',\n",
    "    'Ogun State' : 'Ogun',\n",
    "    'Arepo ogun state ' : 'Ogun'\n",
    "})"
   ]
  },
  {
   "cell_type": "code",
   "execution_count": 174,
   "metadata": {},
   "outputs": [
    {
     "data": {
      "text/plain": [
       "{'Accra', 'Adamawa ', 'FCT', 'Mushin'}"
      ]
     },
     "execution_count": 174,
     "metadata": {},
     "output_type": "execute_result"
    }
   ],
   "source": [
    "#train data와 test data에 공통적으로 존재하는 값을 제외하고 other로 통합하기\n",
    "set(set(train.location.unique()) | set(test.location.unique())) - set(set(train.location.unique()) & set(test.location.unique()))"
   ]
  },
  {
   "cell_type": "code",
   "execution_count": 175,
   "metadata": {},
   "outputs": [
    {
     "data": {
      "text/plain": [
       "array(['Lagos', 'Abuja', 'Ogun', 'other', 'Abia'], dtype=object)"
      ]
     },
     "execution_count": 175,
     "metadata": {},
     "output_type": "execute_result"
    }
   ],
   "source": [
    "train['location'] = train['location'].replace({\n",
    "    'Accra' : 'other',\n",
    "    'Adamawa ' : 'other',\n",
    "    'FCT' : 'other',\n",
    "    'Mushin' : 'other'\n",
    "})\n",
    "\n",
    "train.location.unique()"
   ]
  },
  {
   "cell_type": "code",
   "execution_count": 176,
   "metadata": {},
   "outputs": [
    {
     "data": {
      "text/plain": [
       "array(['Abuja', 'Lagos', 'Ogun', 'other', 'Abia'], dtype=object)"
      ]
     },
     "execution_count": 176,
     "metadata": {},
     "output_type": "execute_result"
    }
   ],
   "source": [
    "test['location'] = test['location'].replace({\n",
    "    'Accra' : 'other',\n",
    "    'Adamawa ' : 'other',\n",
    "    'FCT' : 'other',\n",
    "    'Mushin' : 'other'\n",
    "})\n",
    "\n",
    "test.location.unique()"
   ]
  },
  {
   "cell_type": "code",
   "execution_count": 177,
   "metadata": {},
   "outputs": [
    {
     "data": {
      "text/plain": [
       "{'Lagos': 0, 'Abuja': 1, 'Ogun': 2, 'other': 3, 'Abia': 4}"
      ]
     },
     "execution_count": 177,
     "metadata": {},
     "output_type": "execute_result"
    }
   ],
   "source": [
    "# labeling 작업\n",
    "location_label = {location : label for label, location in enumerate(train.location.unique())}\n",
    "location_label"
   ]
  },
  {
   "cell_type": "code",
   "execution_count": 178,
   "metadata": {},
   "outputs": [],
   "source": [
    "train['location'] = train['location'].replace(location_label)\n",
    "test['location'] = test['location'].replace(location_label)"
   ]
  },
  {
   "cell_type": "markdown",
   "metadata": {},
   "source": [
    "# paint 라벨링 <a class=\"anchor\" id=\"section_2_12\"></a>"
   ]
  },
  {
   "cell_type": "code",
   "execution_count": 179,
   "metadata": {},
   "outputs": [],
   "source": [
    "paint_label = {_paint : label for label, _paint in enumerate(set(pd.concat([train.paint, test.paint])))}"
   ]
  },
  {
   "cell_type": "code",
   "execution_count": 180,
   "metadata": {},
   "outputs": [
    {
     "data": {
      "text/plain": [
       "{'White ': 0,\n",
       " 'Pale brown': 1,\n",
       " 'Light silver ': 2,\n",
       " 'SILVER': 3,\n",
       " 'Off white': 4,\n",
       " 'Green ': 5,\n",
       " 'Light Gold': 6,\n",
       " 'Dark gray': 7,\n",
       " 'White orchild pearl': 8,\n",
       " 'Ash and black': 9,\n",
       " 'Sliver ': 10,\n",
       " 'Black.': 11,\n",
       " 'Classic Silver Met(1F7)': 12,\n",
       " 'Blac': 13,\n",
       " 'Deep Blue': 14,\n",
       " 'Grey and black': 15,\n",
       " 'Blue ': 16,\n",
       " 'blue': 17,\n",
       " 'orange': 18,\n",
       " 'red': 19,\n",
       " 'Silver/grey': 20,\n",
       " 'Sky blue': 21,\n",
       " '  Brown': 22,\n",
       " 'Midnight Black Metal': 23,\n",
       " 'White and green': 24,\n",
       " 'BLACK': 25,\n",
       " 'Indigo ink pearl': 26,\n",
       " 'Ash': 27,\n",
       " 'Super White': 28,\n",
       " 'black': 29,\n",
       " 'Yellow': 30,\n",
       " 'Dark Green': 31,\n",
       " 'Silver ': 32,\n",
       " 'Magnetic Gray': 33,\n",
       " 'yellow': 34,\n",
       " 'Black': 35,\n",
       " 'Magnetic Gray Metallic': 36,\n",
       " 'Black ': 37,\n",
       " 'Whine ': 38,\n",
       " 'White': 39,\n",
       " 'Ink blue': 40,\n",
       " 'Sliver': 41,\n",
       " 'green': 42,\n",
       " 'Gray ': 43,\n",
       " 'Navy blue': 44,\n",
       " 'DARK GREY': 45,\n",
       " 'Black and silver': 46,\n",
       " 'Maroon': 47,\n",
       " 'Blue': 48,\n",
       " 'WHITE': 49,\n",
       " 'Skye blue': 50,\n",
       " 'Black sand pearl': 51,\n",
       " 'Gery': 52,\n",
       " 'Redl': 53,\n",
       " 'WINE': 54,\n",
       " 'Deep blue': 55,\n",
       " 'Wine': 56,\n",
       " 'Dark blue ': 57,\n",
       " 'Green': 58,\n",
       " 'Light Grey': 59,\n",
       " 'Dark Grey': 60,\n",
       " 'Mint green': 61,\n",
       " 'white-blue': 62,\n",
       " 'Grey ': 63,\n",
       " 'Off white l': 64,\n",
       " 'Purple': 65,\n",
       " 'Dark Blue': 66,\n",
       " 'Gold': 67,\n",
       " ' Black/Red': 68,\n",
       " 'Cream ': 69,\n",
       " 'GOLD': 70,\n",
       " 'Brown': 71,\n",
       " 'Gray': 72,\n",
       " 'Cream': 73,\n",
       " 'Dark ash': 74,\n",
       " 'Dark Ash': 75,\n",
       " 'Milk': 76,\n",
       " 'Gold ': 77,\n",
       " 'Red': 78,\n",
       " 'Grey': 79,\n",
       " 'Golf': 80,\n",
       " ' Black': 81,\n",
       " 'Beige': 82,\n",
       " 'Silver': 83,\n",
       " 'Dark silver ': 84,\n",
       " 'white': 85,\n",
       " 'Light blue': 86}"
      ]
     },
     "execution_count": 180,
     "metadata": {},
     "output_type": "execute_result"
    }
   ],
   "source": [
    "paint_label"
   ]
  },
  {
   "cell_type": "code",
   "execution_count": 181,
   "metadata": {},
   "outputs": [],
   "source": [
    "train['paint'] = train['paint'].replace(paint_label)\n",
    "test['paint'] = test['paint'].replace(paint_label)"
   ]
  },
  {
   "cell_type": "markdown",
   "metadata": {},
   "source": [
    "# engine 라벨링 <a class=\"anchor\" id=\"section_2_13\"></a>"
   ]
  },
  {
   "cell_type": "code",
   "execution_count": 182,
   "metadata": {},
   "outputs": [
    {
     "data": {
      "text/plain": [
       "{'12-cylinder(V12)', '4-cylinder(H4)'}"
      ]
     },
     "execution_count": 182,
     "metadata": {},
     "output_type": "execute_result"
    }
   ],
   "source": [
    "#train 또는 test 데이터세트에서 공통적으로 존재하지 않은 경우 가장 가까운 실린더 갯수로 통합\n",
    "set(set(train.engine.unique()) | set(test.engine.unique())) - set(set(train.engine.unique()) & set(test.engine.unique()))"
   ]
  },
  {
   "cell_type": "code",
   "execution_count": 183,
   "metadata": {},
   "outputs": [
    {
     "data": {
      "text/html": [
       "<div>\n",
       "<style scoped>\n",
       "    .dataframe tbody tr th:only-of-type {\n",
       "        vertical-align: middle;\n",
       "    }\n",
       "\n",
       "    .dataframe tbody tr th {\n",
       "        vertical-align: top;\n",
       "    }\n",
       "\n",
       "    .dataframe thead th {\n",
       "        text-align: right;\n",
       "    }\n",
       "</style>\n",
       "<table border=\"1\" class=\"dataframe\">\n",
       "  <thead>\n",
       "    <tr style=\"text-align: right;\">\n",
       "      <th></th>\n",
       "      <th>id</th>\n",
       "      <th>title</th>\n",
       "      <th>odometer</th>\n",
       "      <th>location</th>\n",
       "      <th>isimported</th>\n",
       "      <th>engine</th>\n",
       "      <th>transmission</th>\n",
       "      <th>fuel</th>\n",
       "      <th>paint</th>\n",
       "      <th>year</th>\n",
       "      <th>target</th>\n",
       "    </tr>\n",
       "  </thead>\n",
       "  <tbody>\n",
       "    <tr>\n",
       "      <th>327</th>\n",
       "      <td>327</td>\n",
       "      <td>9</td>\n",
       "      <td>3656</td>\n",
       "      <td>1</td>\n",
       "      <td>Foreign Used</td>\n",
       "      <td>4-cylinder(H4)</td>\n",
       "      <td>automatic</td>\n",
       "      <td>petrol</td>\n",
       "      <td>83</td>\n",
       "      <td>2020</td>\n",
       "      <td>20015000</td>\n",
       "    </tr>\n",
       "    <tr>\n",
       "      <th>830</th>\n",
       "      <td>830</td>\n",
       "      <td>217</td>\n",
       "      <td>152229</td>\n",
       "      <td>0</td>\n",
       "      <td>Foreign Used</td>\n",
       "      <td>4-cylinder(H4)</td>\n",
       "      <td>automatic</td>\n",
       "      <td>petrol</td>\n",
       "      <td>60</td>\n",
       "      <td>2007</td>\n",
       "      <td>2765000</td>\n",
       "    </tr>\n",
       "  </tbody>\n",
       "</table>\n",
       "</div>"
      ],
      "text/plain": [
       "      id  title  odometer  location    isimported          engine  \\\n",
       "327  327      9      3656         1  Foreign Used  4-cylinder(H4)   \n",
       "830  830    217    152229         0  Foreign Used  4-cylinder(H4)   \n",
       "\n",
       "    transmission    fuel  paint  year    target  \n",
       "327    automatic  petrol     83  2020  20015000  \n",
       "830    automatic  petrol     60  2007   2765000  "
      ]
     },
     "execution_count": 183,
     "metadata": {},
     "output_type": "execute_result"
    }
   ],
   "source": [
    "#4-cylinder(H4) -> 4-cylinder(I4)로 통합\n",
    "train[train.engine == '4-cylinder(H4)']"
   ]
  },
  {
   "cell_type": "code",
   "execution_count": 184,
   "metadata": {},
   "outputs": [],
   "source": [
    "train = train.replace({'4-cylinder(H4)' : '4-cylinder(I4)'})"
   ]
  },
  {
   "cell_type": "code",
   "execution_count": 185,
   "metadata": {},
   "outputs": [
    {
     "data": {
      "text/html": [
       "<div>\n",
       "<style scoped>\n",
       "    .dataframe tbody tr th:only-of-type {\n",
       "        vertical-align: middle;\n",
       "    }\n",
       "\n",
       "    .dataframe tbody tr th {\n",
       "        vertical-align: top;\n",
       "    }\n",
       "\n",
       "    .dataframe thead th {\n",
       "        text-align: right;\n",
       "    }\n",
       "</style>\n",
       "<table border=\"1\" class=\"dataframe\">\n",
       "  <thead>\n",
       "    <tr style=\"text-align: right;\">\n",
       "      <th></th>\n",
       "      <th>id</th>\n",
       "      <th>title</th>\n",
       "      <th>odometer</th>\n",
       "      <th>location</th>\n",
       "      <th>isimported</th>\n",
       "      <th>engine</th>\n",
       "      <th>transmission</th>\n",
       "      <th>fuel</th>\n",
       "      <th>paint</th>\n",
       "      <th>year</th>\n",
       "      <th>target</th>\n",
       "    </tr>\n",
       "  </thead>\n",
       "  <tbody>\n",
       "    <tr>\n",
       "      <th>327</th>\n",
       "      <td>327</td>\n",
       "      <td>9</td>\n",
       "      <td>3656</td>\n",
       "      <td>1</td>\n",
       "      <td>Foreign Used</td>\n",
       "      <td>4-cylinder(I4)</td>\n",
       "      <td>automatic</td>\n",
       "      <td>petrol</td>\n",
       "      <td>83</td>\n",
       "      <td>2020</td>\n",
       "      <td>20015000</td>\n",
       "    </tr>\n",
       "    <tr>\n",
       "      <th>830</th>\n",
       "      <td>830</td>\n",
       "      <td>217</td>\n",
       "      <td>152229</td>\n",
       "      <td>0</td>\n",
       "      <td>Foreign Used</td>\n",
       "      <td>4-cylinder(I4)</td>\n",
       "      <td>automatic</td>\n",
       "      <td>petrol</td>\n",
       "      <td>60</td>\n",
       "      <td>2007</td>\n",
       "      <td>2765000</td>\n",
       "    </tr>\n",
       "  </tbody>\n",
       "</table>\n",
       "</div>"
      ],
      "text/plain": [
       "      id  title  odometer  location    isimported          engine  \\\n",
       "327  327      9      3656         1  Foreign Used  4-cylinder(I4)   \n",
       "830  830    217    152229         0  Foreign Used  4-cylinder(I4)   \n",
       "\n",
       "    transmission    fuel  paint  year    target  \n",
       "327    automatic  petrol     83  2020  20015000  \n",
       "830    automatic  petrol     60  2007   2765000  "
      ]
     },
     "execution_count": 185,
     "metadata": {},
     "output_type": "execute_result"
    }
   ],
   "source": [
    "train.iloc[[327, 830]]"
   ]
  },
  {
   "cell_type": "code",
   "execution_count": 186,
   "metadata": {},
   "outputs": [
    {
     "data": {
      "text/html": [
       "<div>\n",
       "<style scoped>\n",
       "    .dataframe tbody tr th:only-of-type {\n",
       "        vertical-align: middle;\n",
       "    }\n",
       "\n",
       "    .dataframe tbody tr th {\n",
       "        vertical-align: top;\n",
       "    }\n",
       "\n",
       "    .dataframe thead th {\n",
       "        text-align: right;\n",
       "    }\n",
       "</style>\n",
       "<table border=\"1\" class=\"dataframe\">\n",
       "  <thead>\n",
       "    <tr style=\"text-align: right;\">\n",
       "      <th></th>\n",
       "      <th>id</th>\n",
       "      <th>title</th>\n",
       "      <th>odometer</th>\n",
       "      <th>location</th>\n",
       "      <th>isimported</th>\n",
       "      <th>engine</th>\n",
       "      <th>transmission</th>\n",
       "      <th>fuel</th>\n",
       "      <th>paint</th>\n",
       "      <th>year</th>\n",
       "    </tr>\n",
       "  </thead>\n",
       "  <tbody>\n",
       "    <tr>\n",
       "      <th>142</th>\n",
       "      <td>142</td>\n",
       "      <td>166</td>\n",
       "      <td>6758</td>\n",
       "      <td>0</td>\n",
       "      <td>New</td>\n",
       "      <td>12-cylinder(V12)</td>\n",
       "      <td>automatic</td>\n",
       "      <td>petrol</td>\n",
       "      <td>35</td>\n",
       "      <td>2019</td>\n",
       "    </tr>\n",
       "  </tbody>\n",
       "</table>\n",
       "</div>"
      ],
      "text/plain": [
       "      id  title  odometer  location isimported            engine transmission  \\\n",
       "142  142    166      6758         0       New   12-cylinder(V12)    automatic   \n",
       "\n",
       "       fuel  paint  year  \n",
       "142  petrol     35  2019  "
      ]
     },
     "execution_count": 186,
     "metadata": {},
     "output_type": "execute_result"
    }
   ],
   "source": [
    "#'12-cylinder(V12)' -> '8-cylinder(V8)'로 통합\n",
    "test[test.engine == '12-cylinder(V12)']"
   ]
  },
  {
   "cell_type": "code",
   "execution_count": 187,
   "metadata": {},
   "outputs": [],
   "source": [
    "test = test.replace({'12-cylinder(V12)' : '8-cylinder(V8)'})"
   ]
  },
  {
   "cell_type": "code",
   "execution_count": 188,
   "metadata": {},
   "outputs": [
    {
     "data": {
      "text/html": [
       "<div>\n",
       "<style scoped>\n",
       "    .dataframe tbody tr th:only-of-type {\n",
       "        vertical-align: middle;\n",
       "    }\n",
       "\n",
       "    .dataframe tbody tr th {\n",
       "        vertical-align: top;\n",
       "    }\n",
       "\n",
       "    .dataframe thead th {\n",
       "        text-align: right;\n",
       "    }\n",
       "</style>\n",
       "<table border=\"1\" class=\"dataframe\">\n",
       "  <thead>\n",
       "    <tr style=\"text-align: right;\">\n",
       "      <th></th>\n",
       "      <th>id</th>\n",
       "      <th>title</th>\n",
       "      <th>odometer</th>\n",
       "      <th>location</th>\n",
       "      <th>isimported</th>\n",
       "      <th>engine</th>\n",
       "      <th>transmission</th>\n",
       "      <th>fuel</th>\n",
       "      <th>paint</th>\n",
       "      <th>year</th>\n",
       "    </tr>\n",
       "  </thead>\n",
       "  <tbody>\n",
       "    <tr>\n",
       "      <th>142</th>\n",
       "      <td>142</td>\n",
       "      <td>166</td>\n",
       "      <td>6758</td>\n",
       "      <td>0</td>\n",
       "      <td>New</td>\n",
       "      <td>8-cylinder(V8)</td>\n",
       "      <td>automatic</td>\n",
       "      <td>petrol</td>\n",
       "      <td>35</td>\n",
       "      <td>2019</td>\n",
       "    </tr>\n",
       "  </tbody>\n",
       "</table>\n",
       "</div>"
      ],
      "text/plain": [
       "      id  title  odometer  location isimported          engine transmission  \\\n",
       "142  142    166      6758         0       New   8-cylinder(V8)    automatic   \n",
       "\n",
       "       fuel  paint  year  \n",
       "142  petrol     35  2019  "
      ]
     },
     "execution_count": 188,
     "metadata": {},
     "output_type": "execute_result"
    }
   ],
   "source": [
    "test.iloc[[142]]"
   ]
  },
  {
   "cell_type": "code",
   "execution_count": 189,
   "metadata": {},
   "outputs": [
    {
     "data": {
      "text/plain": [
       "{'5-cylinder(I5)': 0,\n",
       " '4-cylinder(I4)': 1,\n",
       " '6-cylinder(V6)': 2,\n",
       " '2-cylinder(I2)': 3,\n",
       " '8-cylinder(V8)': 4,\n",
       " '6-cylinder(I6)': 5,\n",
       " '3-cylinder(I3)': 6}"
      ]
     },
     "execution_count": 189,
     "metadata": {},
     "output_type": "execute_result"
    }
   ],
   "source": [
    "engine_label = {_engine : label for label, _engine in enumerate(set(pd.concat([train.engine, test.engine])))}\n",
    "engine_label"
   ]
  },
  {
   "cell_type": "code",
   "execution_count": 190,
   "metadata": {},
   "outputs": [],
   "source": [
    "train = train.replace(engine_label)\n",
    "test = test.replace(engine_label)"
   ]
  },
  {
   "cell_type": "markdown",
   "metadata": {},
   "source": [
    "# year 라벨링 <a class=\"anchor\" id=\"section_2_14\"></a>\n"
   ]
  },
  {
   "cell_type": "code",
   "execution_count": 191,
   "metadata": {},
   "outputs": [
    {
     "data": {
      "text/html": [
       "<div>\n",
       "<style scoped>\n",
       "    .dataframe tbody tr th:only-of-type {\n",
       "        vertical-align: middle;\n",
       "    }\n",
       "\n",
       "    .dataframe tbody tr th {\n",
       "        vertical-align: top;\n",
       "    }\n",
       "\n",
       "    .dataframe thead th {\n",
       "        text-align: right;\n",
       "    }\n",
       "</style>\n",
       "<table border=\"1\" class=\"dataframe\">\n",
       "  <thead>\n",
       "    <tr style=\"text-align: right;\">\n",
       "      <th></th>\n",
       "      <th>id</th>\n",
       "      <th>title</th>\n",
       "      <th>odometer</th>\n",
       "      <th>location</th>\n",
       "      <th>isimported</th>\n",
       "      <th>engine</th>\n",
       "      <th>transmission</th>\n",
       "      <th>fuel</th>\n",
       "      <th>paint</th>\n",
       "      <th>year</th>\n",
       "      <th>target</th>\n",
       "    </tr>\n",
       "  </thead>\n",
       "  <tbody>\n",
       "    <tr>\n",
       "      <th>415</th>\n",
       "      <td>415</td>\n",
       "      <td>137</td>\n",
       "      <td>403461</td>\n",
       "      <td>0</td>\n",
       "      <td>Locally used</td>\n",
       "      <td>1</td>\n",
       "      <td>manual</td>\n",
       "      <td>diesel</td>\n",
       "      <td>85</td>\n",
       "      <td>1218</td>\n",
       "      <td>6015000</td>\n",
       "    </tr>\n",
       "    <tr>\n",
       "      <th>827</th>\n",
       "      <td>827</td>\n",
       "      <td>67</td>\n",
       "      <td>510053</td>\n",
       "      <td>0</td>\n",
       "      <td>Locally used</td>\n",
       "      <td>2</td>\n",
       "      <td>manual</td>\n",
       "      <td>diesel</td>\n",
       "      <td>85</td>\n",
       "      <td>1217</td>\n",
       "      <td>75015000</td>\n",
       "    </tr>\n",
       "  </tbody>\n",
       "</table>\n",
       "</div>"
      ],
      "text/plain": [
       "      id  title  odometer  location    isimported  engine transmission  \\\n",
       "415  415    137    403461         0  Locally used       1       manual   \n",
       "827  827     67    510053         0  Locally used       2       manual   \n",
       "\n",
       "       fuel  paint  year    target  \n",
       "415  diesel     85  1218   6015000  \n",
       "827  diesel     85  1217  75015000  "
      ]
     },
     "execution_count": 191,
     "metadata": {},
     "output_type": "execute_result"
    }
   ],
   "source": [
    "train[(train.year == 1217) | (train.year == 1218)] "
   ]
  },
  {
   "cell_type": "code",
   "execution_count": 192,
   "metadata": {},
   "outputs": [
    {
     "data": {
      "text/html": [
       "<div>\n",
       "<style scoped>\n",
       "    .dataframe tbody tr th:only-of-type {\n",
       "        vertical-align: middle;\n",
       "    }\n",
       "\n",
       "    .dataframe tbody tr th {\n",
       "        vertical-align: top;\n",
       "    }\n",
       "\n",
       "    .dataframe thead th {\n",
       "        text-align: right;\n",
       "    }\n",
       "</style>\n",
       "<table border=\"1\" class=\"dataframe\">\n",
       "  <thead>\n",
       "    <tr style=\"text-align: right;\">\n",
       "      <th></th>\n",
       "      <th>id</th>\n",
       "      <th>title</th>\n",
       "      <th>odometer</th>\n",
       "      <th>location</th>\n",
       "      <th>isimported</th>\n",
       "      <th>engine</th>\n",
       "      <th>transmission</th>\n",
       "      <th>fuel</th>\n",
       "      <th>paint</th>\n",
       "      <th>year</th>\n",
       "    </tr>\n",
       "  </thead>\n",
       "  <tbody>\n",
       "    <tr>\n",
       "      <th>304</th>\n",
       "      <td>304</td>\n",
       "      <td>41</td>\n",
       "      <td>650923</td>\n",
       "      <td>0</td>\n",
       "      <td>Locally used</td>\n",
       "      <td>2</td>\n",
       "      <td>manual</td>\n",
       "      <td>diesel</td>\n",
       "      <td>17</td>\n",
       "      <td>1324</td>\n",
       "    </tr>\n",
       "    <tr>\n",
       "      <th>406</th>\n",
       "      <td>406</td>\n",
       "      <td>110</td>\n",
       "      <td>0</td>\n",
       "      <td>0</td>\n",
       "      <td>Locally used</td>\n",
       "      <td>4</td>\n",
       "      <td>manual</td>\n",
       "      <td>diesel</td>\n",
       "      <td>85</td>\n",
       "      <td>2626</td>\n",
       "    </tr>\n",
       "    <tr>\n",
       "      <th>411</th>\n",
       "      <td>411</td>\n",
       "      <td>216</td>\n",
       "      <td>701934</td>\n",
       "      <td>0</td>\n",
       "      <td>Locally used</td>\n",
       "      <td>4</td>\n",
       "      <td>manual</td>\n",
       "      <td>diesel</td>\n",
       "      <td>85</td>\n",
       "      <td>1726</td>\n",
       "    </tr>\n",
       "  </tbody>\n",
       "</table>\n",
       "</div>"
      ],
      "text/plain": [
       "      id  title  odometer  location    isimported  engine transmission  \\\n",
       "304  304     41    650923         0  Locally used       2       manual   \n",
       "406  406    110         0         0  Locally used       4       manual   \n",
       "411  411    216    701934         0  Locally used       4       manual   \n",
       "\n",
       "       fuel  paint  year  \n",
       "304  diesel     17  1324  \n",
       "406  diesel     85  2626  \n",
       "411  diesel     85  1726  "
      ]
     },
     "execution_count": 192,
     "metadata": {},
     "output_type": "execute_result"
    }
   ],
   "source": [
    "test[(test.year == 1324) | (test.year == 1726) | (test.year == 2626)]"
   ]
  },
  {
   "cell_type": "code",
   "execution_count": 193,
   "metadata": {},
   "outputs": [],
   "source": [
    "#train data 에서 415번과 827번, test data 에서 304번과 411번 차량의 경우 평균과 중앙값인 2010년으로 변경\n",
    "\n",
    "#test data에서 406번 차량의 경우 주행거리가 0이므로 가장 최신년도인 2020년으로 변경\n",
    "\n",
    "train['year'] = train['year'].replace([1218, 1217], [2010, 2010])\n",
    "test['year'] = test['year'].replace([1324, 1726, 2626], [2010, 2010, 2020])"
   ]
  },
  {
   "cell_type": "code",
   "execution_count": 194,
   "metadata": {},
   "outputs": [
    {
     "data": {
      "text/html": [
       "<div>\n",
       "<style scoped>\n",
       "    .dataframe tbody tr th:only-of-type {\n",
       "        vertical-align: middle;\n",
       "    }\n",
       "\n",
       "    .dataframe tbody tr th {\n",
       "        vertical-align: top;\n",
       "    }\n",
       "\n",
       "    .dataframe thead th {\n",
       "        text-align: right;\n",
       "    }\n",
       "</style>\n",
       "<table border=\"1\" class=\"dataframe\">\n",
       "  <thead>\n",
       "    <tr style=\"text-align: right;\">\n",
       "      <th></th>\n",
       "      <th>id</th>\n",
       "      <th>title</th>\n",
       "      <th>odometer</th>\n",
       "      <th>location</th>\n",
       "      <th>isimported</th>\n",
       "      <th>engine</th>\n",
       "      <th>transmission</th>\n",
       "      <th>fuel</th>\n",
       "      <th>paint</th>\n",
       "      <th>year</th>\n",
       "      <th>target</th>\n",
       "    </tr>\n",
       "  </thead>\n",
       "  <tbody>\n",
       "    <tr>\n",
       "      <th>415</th>\n",
       "      <td>415</td>\n",
       "      <td>137</td>\n",
       "      <td>403461</td>\n",
       "      <td>0</td>\n",
       "      <td>Locally used</td>\n",
       "      <td>1</td>\n",
       "      <td>manual</td>\n",
       "      <td>diesel</td>\n",
       "      <td>85</td>\n",
       "      <td>2010</td>\n",
       "      <td>6015000</td>\n",
       "    </tr>\n",
       "    <tr>\n",
       "      <th>827</th>\n",
       "      <td>827</td>\n",
       "      <td>67</td>\n",
       "      <td>510053</td>\n",
       "      <td>0</td>\n",
       "      <td>Locally used</td>\n",
       "      <td>2</td>\n",
       "      <td>manual</td>\n",
       "      <td>diesel</td>\n",
       "      <td>85</td>\n",
       "      <td>2010</td>\n",
       "      <td>75015000</td>\n",
       "    </tr>\n",
       "  </tbody>\n",
       "</table>\n",
       "</div>"
      ],
      "text/plain": [
       "      id  title  odometer  location    isimported  engine transmission  \\\n",
       "415  415    137    403461         0  Locally used       1       manual   \n",
       "827  827     67    510053         0  Locally used       2       manual   \n",
       "\n",
       "       fuel  paint  year    target  \n",
       "415  diesel     85  2010   6015000  \n",
       "827  diesel     85  2010  75015000  "
      ]
     },
     "execution_count": 194,
     "metadata": {},
     "output_type": "execute_result"
    }
   ],
   "source": [
    "train.iloc[[415, 827]]"
   ]
  },
  {
   "cell_type": "code",
   "execution_count": 195,
   "metadata": {},
   "outputs": [
    {
     "data": {
      "text/html": [
       "<div>\n",
       "<style scoped>\n",
       "    .dataframe tbody tr th:only-of-type {\n",
       "        vertical-align: middle;\n",
       "    }\n",
       "\n",
       "    .dataframe tbody tr th {\n",
       "        vertical-align: top;\n",
       "    }\n",
       "\n",
       "    .dataframe thead th {\n",
       "        text-align: right;\n",
       "    }\n",
       "</style>\n",
       "<table border=\"1\" class=\"dataframe\">\n",
       "  <thead>\n",
       "    <tr style=\"text-align: right;\">\n",
       "      <th></th>\n",
       "      <th>id</th>\n",
       "      <th>title</th>\n",
       "      <th>odometer</th>\n",
       "      <th>location</th>\n",
       "      <th>isimported</th>\n",
       "      <th>engine</th>\n",
       "      <th>transmission</th>\n",
       "      <th>fuel</th>\n",
       "      <th>paint</th>\n",
       "      <th>year</th>\n",
       "    </tr>\n",
       "  </thead>\n",
       "  <tbody>\n",
       "    <tr>\n",
       "      <th>304</th>\n",
       "      <td>304</td>\n",
       "      <td>41</td>\n",
       "      <td>650923</td>\n",
       "      <td>0</td>\n",
       "      <td>Locally used</td>\n",
       "      <td>2</td>\n",
       "      <td>manual</td>\n",
       "      <td>diesel</td>\n",
       "      <td>17</td>\n",
       "      <td>2010</td>\n",
       "    </tr>\n",
       "    <tr>\n",
       "      <th>406</th>\n",
       "      <td>406</td>\n",
       "      <td>110</td>\n",
       "      <td>0</td>\n",
       "      <td>0</td>\n",
       "      <td>Locally used</td>\n",
       "      <td>4</td>\n",
       "      <td>manual</td>\n",
       "      <td>diesel</td>\n",
       "      <td>85</td>\n",
       "      <td>2020</td>\n",
       "    </tr>\n",
       "    <tr>\n",
       "      <th>411</th>\n",
       "      <td>411</td>\n",
       "      <td>216</td>\n",
       "      <td>701934</td>\n",
       "      <td>0</td>\n",
       "      <td>Locally used</td>\n",
       "      <td>4</td>\n",
       "      <td>manual</td>\n",
       "      <td>diesel</td>\n",
       "      <td>85</td>\n",
       "      <td>2010</td>\n",
       "    </tr>\n",
       "  </tbody>\n",
       "</table>\n",
       "</div>"
      ],
      "text/plain": [
       "      id  title  odometer  location    isimported  engine transmission  \\\n",
       "304  304     41    650923         0  Locally used       2       manual   \n",
       "406  406    110         0         0  Locally used       4       manual   \n",
       "411  411    216    701934         0  Locally used       4       manual   \n",
       "\n",
       "       fuel  paint  year  \n",
       "304  diesel     17  2010  \n",
       "406  diesel     85  2020  \n",
       "411  diesel     85  2010  "
      ]
     },
     "execution_count": 195,
     "metadata": {},
     "output_type": "execute_result"
    }
   ],
   "source": [
    "test.iloc[[304, 406, 411]]"
   ]
  },
  {
   "cell_type": "markdown",
   "metadata": {},
   "source": [
    "# 특이점이 없는 isimported, transmission, fuel 라벨링 <a class=\"anchor\" id=\"section_2_15\"></a>"
   ]
  },
  {
   "cell_type": "code",
   "execution_count": 196,
   "metadata": {},
   "outputs": [],
   "source": [
    "isimported_label = {'Foreign Used': 0, 'Locally used' : 1, 'New ' : 2}\n",
    "transmission_label = {'automatic' : 0, 'manual' : 1}\n",
    "fuel_label = {'petrol' : 0, 'diesel' : 1}"
   ]
  },
  {
   "cell_type": "code",
   "execution_count": 197,
   "metadata": {},
   "outputs": [],
   "source": [
    "train['isimported'] = train['isimported'].replace(isimported_label)\n",
    "test['isimported'] = test['isimported'].replace(isimported_label)\n",
    "\n",
    "train['transmission'] = train['transmission'].replace(transmission_label)\n",
    "test['transmission'] = test['transmission'].replace(transmission_label)\n",
    "\n",
    "train['fuel'] = train['fuel'].replace(fuel_label)\n",
    "test['fuel'] = test['fuel'].replace(fuel_label)"
   ]
  },
  {
   "cell_type": "markdown",
   "metadata": {},
   "source": [
    "# 라벨링 처리 후 데이터 <a class=\"anchor\" id=\"section_2_16\"></a>"
   ]
  },
  {
   "cell_type": "code",
   "execution_count": 198,
   "metadata": {},
   "outputs": [
    {
     "data": {
      "text/html": [
       "<div>\n",
       "<style scoped>\n",
       "    .dataframe tbody tr th:only-of-type {\n",
       "        vertical-align: middle;\n",
       "    }\n",
       "\n",
       "    .dataframe tbody tr th {\n",
       "        vertical-align: top;\n",
       "    }\n",
       "\n",
       "    .dataframe thead th {\n",
       "        text-align: right;\n",
       "    }\n",
       "</style>\n",
       "<table border=\"1\" class=\"dataframe\">\n",
       "  <thead>\n",
       "    <tr style=\"text-align: right;\">\n",
       "      <th></th>\n",
       "      <th>id</th>\n",
       "      <th>title</th>\n",
       "      <th>odometer</th>\n",
       "      <th>location</th>\n",
       "      <th>isimported</th>\n",
       "      <th>engine</th>\n",
       "      <th>transmission</th>\n",
       "      <th>fuel</th>\n",
       "      <th>paint</th>\n",
       "      <th>year</th>\n",
       "      <th>target</th>\n",
       "    </tr>\n",
       "  </thead>\n",
       "  <tbody>\n",
       "    <tr>\n",
       "      <th>0</th>\n",
       "      <td>0</td>\n",
       "      <td>238</td>\n",
       "      <td>18277</td>\n",
       "      <td>0</td>\n",
       "      <td>0</td>\n",
       "      <td>1</td>\n",
       "      <td>0</td>\n",
       "      <td>0</td>\n",
       "      <td>78</td>\n",
       "      <td>2016</td>\n",
       "      <td>13665000</td>\n",
       "    </tr>\n",
       "    <tr>\n",
       "      <th>1</th>\n",
       "      <td>1</td>\n",
       "      <td>209</td>\n",
       "      <td>10</td>\n",
       "      <td>0</td>\n",
       "      <td>2</td>\n",
       "      <td>1</td>\n",
       "      <td>0</td>\n",
       "      <td>0</td>\n",
       "      <td>35</td>\n",
       "      <td>2019</td>\n",
       "      <td>33015000</td>\n",
       "    </tr>\n",
       "    <tr>\n",
       "      <th>2</th>\n",
       "      <td>2</td>\n",
       "      <td>159</td>\n",
       "      <td>83091</td>\n",
       "      <td>0</td>\n",
       "      <td>0</td>\n",
       "      <td>2</td>\n",
       "      <td>0</td>\n",
       "      <td>0</td>\n",
       "      <td>78</td>\n",
       "      <td>2012</td>\n",
       "      <td>9915000</td>\n",
       "    </tr>\n",
       "    <tr>\n",
       "      <th>3</th>\n",
       "      <td>3</td>\n",
       "      <td>230</td>\n",
       "      <td>91524</td>\n",
       "      <td>0</td>\n",
       "      <td>0</td>\n",
       "      <td>1</td>\n",
       "      <td>0</td>\n",
       "      <td>0</td>\n",
       "      <td>72</td>\n",
       "      <td>2007</td>\n",
       "      <td>3815000</td>\n",
       "    </tr>\n",
       "    <tr>\n",
       "      <th>4</th>\n",
       "      <td>4</td>\n",
       "      <td>220</td>\n",
       "      <td>94177</td>\n",
       "      <td>0</td>\n",
       "      <td>0</td>\n",
       "      <td>2</td>\n",
       "      <td>0</td>\n",
       "      <td>0</td>\n",
       "      <td>78</td>\n",
       "      <td>2010</td>\n",
       "      <td>7385000</td>\n",
       "    </tr>\n",
       "  </tbody>\n",
       "</table>\n",
       "</div>"
      ],
      "text/plain": [
       "   id  title  odometer  location  isimported  engine  transmission  fuel  \\\n",
       "0   0    238     18277         0           0       1             0     0   \n",
       "1   1    209        10         0           2       1             0     0   \n",
       "2   2    159     83091         0           0       2             0     0   \n",
       "3   3    230     91524         0           0       1             0     0   \n",
       "4   4    220     94177         0           0       2             0     0   \n",
       "\n",
       "   paint  year    target  \n",
       "0     78  2016  13665000  \n",
       "1     35  2019  33015000  \n",
       "2     78  2012   9915000  \n",
       "3     72  2007   3815000  \n",
       "4     78  2010   7385000  "
      ]
     },
     "execution_count": 198,
     "metadata": {},
     "output_type": "execute_result"
    }
   ],
   "source": [
    "train.head()"
   ]
  },
  {
   "cell_type": "code",
   "execution_count": 199,
   "metadata": {},
   "outputs": [
    {
     "data": {
      "text/html": [
       "<div>\n",
       "<style scoped>\n",
       "    .dataframe tbody tr th:only-of-type {\n",
       "        vertical-align: middle;\n",
       "    }\n",
       "\n",
       "    .dataframe tbody tr th {\n",
       "        vertical-align: top;\n",
       "    }\n",
       "\n",
       "    .dataframe thead th {\n",
       "        text-align: right;\n",
       "    }\n",
       "</style>\n",
       "<table border=\"1\" class=\"dataframe\">\n",
       "  <thead>\n",
       "    <tr style=\"text-align: right;\">\n",
       "      <th></th>\n",
       "      <th>id</th>\n",
       "      <th>title</th>\n",
       "      <th>odometer</th>\n",
       "      <th>location</th>\n",
       "      <th>isimported</th>\n",
       "      <th>engine</th>\n",
       "      <th>transmission</th>\n",
       "      <th>fuel</th>\n",
       "      <th>paint</th>\n",
       "      <th>year</th>\n",
       "    </tr>\n",
       "  </thead>\n",
       "  <tbody>\n",
       "    <tr>\n",
       "      <th>0</th>\n",
       "      <td>0</td>\n",
       "      <td>141</td>\n",
       "      <td>1234</td>\n",
       "      <td>1</td>\n",
       "      <td>2</td>\n",
       "      <td>1</td>\n",
       "      <td>0</td>\n",
       "      <td>0</td>\n",
       "      <td>39</td>\n",
       "      <td>2017</td>\n",
       "    </tr>\n",
       "    <tr>\n",
       "      <th>1</th>\n",
       "      <td>1</td>\n",
       "      <td>217</td>\n",
       "      <td>29938</td>\n",
       "      <td>1</td>\n",
       "      <td>0</td>\n",
       "      <td>1</td>\n",
       "      <td>0</td>\n",
       "      <td>0</td>\n",
       "      <td>39</td>\n",
       "      <td>2013</td>\n",
       "    </tr>\n",
       "    <tr>\n",
       "      <th>2</th>\n",
       "      <td>2</td>\n",
       "      <td>43</td>\n",
       "      <td>87501</td>\n",
       "      <td>0</td>\n",
       "      <td>0</td>\n",
       "      <td>1</td>\n",
       "      <td>0</td>\n",
       "      <td>0</td>\n",
       "      <td>35</td>\n",
       "      <td>2012</td>\n",
       "    </tr>\n",
       "    <tr>\n",
       "      <th>3</th>\n",
       "      <td>3</td>\n",
       "      <td>233</td>\n",
       "      <td>180894</td>\n",
       "      <td>0</td>\n",
       "      <td>1</td>\n",
       "      <td>2</td>\n",
       "      <td>0</td>\n",
       "      <td>0</td>\n",
       "      <td>60</td>\n",
       "      <td>2001</td>\n",
       "    </tr>\n",
       "    <tr>\n",
       "      <th>4</th>\n",
       "      <td>4</td>\n",
       "      <td>35</td>\n",
       "      <td>104814</td>\n",
       "      <td>0</td>\n",
       "      <td>0</td>\n",
       "      <td>1</td>\n",
       "      <td>0</td>\n",
       "      <td>0</td>\n",
       "      <td>39</td>\n",
       "      <td>2000</td>\n",
       "    </tr>\n",
       "  </tbody>\n",
       "</table>\n",
       "</div>"
      ],
      "text/plain": [
       "   id  title  odometer  location  isimported  engine  transmission  fuel  \\\n",
       "0   0    141      1234         1           2       1             0     0   \n",
       "1   1    217     29938         1           0       1             0     0   \n",
       "2   2     43     87501         0           0       1             0     0   \n",
       "3   3    233    180894         0           1       2             0     0   \n",
       "4   4     35    104814         0           0       1             0     0   \n",
       "\n",
       "   paint  year  \n",
       "0     39  2017  \n",
       "1     39  2013  \n",
       "2     35  2012  \n",
       "3     60  2001  \n",
       "4     39  2000  "
      ]
     },
     "execution_count": 199,
     "metadata": {},
     "output_type": "execute_result"
    }
   ],
   "source": [
    "test.head()"
   ]
  },
  {
   "cell_type": "markdown",
   "metadata": {},
   "source": [
    "# 모델링 <a class=\"anchor\" id=\"chapter3\"></a>"
   ]
  },
  {
   "cell_type": "markdown",
   "metadata": {},
   "source": [
    "# linear Regression 모델을 이용하여 결과값 예측하기 <a class=\"anchor\" id=\"section_3_1\"></a>"
   ]
  },
  {
   "cell_type": "code",
   "execution_count": 200,
   "metadata": {},
   "outputs": [],
   "source": [
    "#linear Regression 모델을 이용하여 결과값 예측하기\n",
    "from sklearn.linear_model import LinearRegression\n",
    "\n",
    "model = LinearRegression()"
   ]
  },
  {
   "cell_type": "code",
   "execution_count": 201,
   "metadata": {},
   "outputs": [],
   "source": [
    "train_X = train.drop(['id', 'target'], axis = 1)\n",
    "train_y = train.target\n",
    "\n",
    "test_X = test.drop(['id'], axis = 1)"
   ]
  },
  {
   "cell_type": "code",
   "execution_count": 202,
   "metadata": {},
   "outputs": [
    {
     "data": {
      "text/plain": [
       "LinearRegression()"
      ]
     },
     "execution_count": 202,
     "metadata": {},
     "output_type": "execute_result"
    }
   ],
   "source": [
    "model.fit(train_X, train_y)"
   ]
  },
  {
   "cell_type": "code",
   "execution_count": 203,
   "metadata": {},
   "outputs": [],
   "source": [
    "pred = model.predict(test_X)"
   ]
  },
  {
   "cell_type": "code",
   "execution_count": 204,
   "metadata": {},
   "outputs": [
    {
     "data": {
      "text/html": [
       "<div>\n",
       "<style scoped>\n",
       "    .dataframe tbody tr th:only-of-type {\n",
       "        vertical-align: middle;\n",
       "    }\n",
       "\n",
       "    .dataframe tbody tr th {\n",
       "        vertical-align: top;\n",
       "    }\n",
       "\n",
       "    .dataframe thead th {\n",
       "        text-align: right;\n",
       "    }\n",
       "</style>\n",
       "<table border=\"1\" class=\"dataframe\">\n",
       "  <thead>\n",
       "    <tr style=\"text-align: right;\">\n",
       "      <th></th>\n",
       "      <th>id</th>\n",
       "      <th>target</th>\n",
       "    </tr>\n",
       "  </thead>\n",
       "  <tbody>\n",
       "    <tr>\n",
       "      <th>0</th>\n",
       "      <td>0</td>\n",
       "      <td>2.176790e+07</td>\n",
       "    </tr>\n",
       "    <tr>\n",
       "      <th>1</th>\n",
       "      <td>1</td>\n",
       "      <td>9.418189e+06</td>\n",
       "    </tr>\n",
       "    <tr>\n",
       "      <th>2</th>\n",
       "      <td>2</td>\n",
       "      <td>9.748552e+06</td>\n",
       "    </tr>\n",
       "    <tr>\n",
       "      <th>3</th>\n",
       "      <td>3</td>\n",
       "      <td>-3.171161e+05</td>\n",
       "    </tr>\n",
       "    <tr>\n",
       "      <th>4</th>\n",
       "      <td>4</td>\n",
       "      <td>-4.389342e+06</td>\n",
       "    </tr>\n",
       "    <tr>\n",
       "      <th>...</th>\n",
       "      <td>...</td>\n",
       "      <td>...</td>\n",
       "    </tr>\n",
       "    <tr>\n",
       "      <th>431</th>\n",
       "      <td>431</td>\n",
       "      <td>1.182084e+07</td>\n",
       "    </tr>\n",
       "    <tr>\n",
       "      <th>432</th>\n",
       "      <td>432</td>\n",
       "      <td>7.466198e+06</td>\n",
       "    </tr>\n",
       "    <tr>\n",
       "      <th>433</th>\n",
       "      <td>433</td>\n",
       "      <td>1.061022e+07</td>\n",
       "    </tr>\n",
       "    <tr>\n",
       "      <th>434</th>\n",
       "      <td>434</td>\n",
       "      <td>-1.795755e+06</td>\n",
       "    </tr>\n",
       "    <tr>\n",
       "      <th>435</th>\n",
       "      <td>435</td>\n",
       "      <td>2.234578e+06</td>\n",
       "    </tr>\n",
       "  </tbody>\n",
       "</table>\n",
       "<p>436 rows × 2 columns</p>\n",
       "</div>"
      ],
      "text/plain": [
       "      id        target\n",
       "0      0  2.176790e+07\n",
       "1      1  9.418189e+06\n",
       "2      2  9.748552e+06\n",
       "3      3 -3.171161e+05\n",
       "4      4 -4.389342e+06\n",
       "..   ...           ...\n",
       "431  431  1.182084e+07\n",
       "432  432  7.466198e+06\n",
       "433  433  1.061022e+07\n",
       "434  434 -1.795755e+06\n",
       "435  435  2.234578e+06\n",
       "\n",
       "[436 rows x 2 columns]"
      ]
     },
     "execution_count": 204,
     "metadata": {},
     "output_type": "execute_result"
    }
   ],
   "source": [
    "submission = sample_submission.copy()\n",
    "submission.target = pred\n",
    "submission"
   ]
  },
  {
   "cell_type": "code",
   "execution_count": 205,
   "metadata": {},
   "outputs": [],
   "source": [
    "submission.to_csv('submission.csv', index = False)"
   ]
  },
  {
   "cell_type": "markdown",
   "metadata": {},
   "source": [
    "# 결과 <a class=\"anchor\" id=\"chapter4\"></a>"
   ]
  },
  {
   "cell_type": "markdown",
   "metadata": {},
   "source": [
    "학습시킨 모델을 Test 데이터에 적용한 결과 0.6490197747로 예측결과가 좋지 않게 나타남\n",
    "\n",
    "이 데이터를 가지고 분석을 했을 때 아쉬웠던 점은 데이터양과 종류였습니다.\n",
    "\n",
    "누가 이차를 탔는지, 옵션은 뭐가 들어가있는지, 사고 유무, 색이 유광인지 무광인지 무늬가 있는지 등등 중고차 가격책정에 있어 필요한 정보들이 부족하다고 판단했습니다."
   ]
  }
 ],
 "metadata": {
  "interpreter": {
   "hash": "263930470851f494f0ed2879c35b57985588df20f9e529b86e97dd5eb9ddc466"
  },
  "kernelspec": {
   "display_name": "Python 3.8.8 ('base')",
   "language": "python",
   "name": "python3"
  },
  "language_info": {
   "codemirror_mode": {
    "name": "ipython",
    "version": 3
   },
   "file_extension": ".py",
   "mimetype": "text/x-python",
   "name": "python",
   "nbconvert_exporter": "python",
   "pygments_lexer": "ipython3",
   "version": "3.8.8"
  },
  "orig_nbformat": 4
 },
 "nbformat": 4,
 "nbformat_minor": 2
}
