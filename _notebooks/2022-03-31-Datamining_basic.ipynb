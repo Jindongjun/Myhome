{
 "cells": [
  {
   "cell_type": "markdown",
   "id": "ec0b2d01",
   "metadata": {},
   "source": [
    "Python Language Basics, IPython, and Jupyter Notebooks"
   ]
  },
  {
   "cell_type": "markdown",
   "id": "a2e52f5d",
   "metadata": {},
   "source": [
    "Python Language Basics"
   ]
  },
  {
   "cell_type": "markdown",
   "id": "77f843e8",
   "metadata": {},
   "source": [
    "Language Semantics"
   ]
  },
  {
   "cell_type": "markdown",
   "id": "e7a5af46",
   "metadata": {},
   "source": [
    "Indentation, not braces"
   ]
  },
  {
   "cell_type": "code",
   "execution_count": 1,
   "id": "fb22dbab",
   "metadata": {},
   "outputs": [
    {
     "ename": "NameError",
     "evalue": "name 'array' is not defined",
     "output_type": "error",
     "traceback": [
      "\u001b[1;31m---------------------------------------------------------------------------\u001b[0m",
      "\u001b[1;31mNameError\u001b[0m                                 Traceback (most recent call last)",
      "\u001b[1;32m<ipython-input-1-ffad9157dda0>\u001b[0m in \u001b[0;36m<module>\u001b[1;34m\u001b[0m\n\u001b[1;32m----> 1\u001b[1;33m \u001b[1;32mfor\u001b[0m \u001b[0mx\u001b[0m \u001b[1;32min\u001b[0m \u001b[0marray\u001b[0m\u001b[1;33m:\u001b[0m\u001b[1;33m\u001b[0m\u001b[1;33m\u001b[0m\u001b[0m\n\u001b[0m\u001b[0;32m      2\u001b[0m     \u001b[1;32mif\u001b[0m \u001b[0mx\u001b[0m \u001b[1;33m<\u001b[0m \u001b[0mpivot\u001b[0m\u001b[1;33m:\u001b[0m\u001b[1;33m\u001b[0m\u001b[1;33m\u001b[0m\u001b[0m\n\u001b[0;32m      3\u001b[0m         \u001b[0mless\u001b[0m\u001b[1;33m.\u001b[0m\u001b[0mappend\u001b[0m\u001b[1;33m(\u001b[0m\u001b[0mx\u001b[0m\u001b[1;33m)\u001b[0m\u001b[1;33m\u001b[0m\u001b[1;33m\u001b[0m\u001b[0m\n\u001b[0;32m      4\u001b[0m     \u001b[1;32melse\u001b[0m\u001b[1;33m:\u001b[0m\u001b[1;33m\u001b[0m\u001b[1;33m\u001b[0m\u001b[0m\n\u001b[0;32m      5\u001b[0m         \u001b[0mgreater\u001b[0m\u001b[1;33m.\u001b[0m\u001b[0mappend\u001b[0m\u001b[1;33m(\u001b[0m\u001b[0mx\u001b[0m\u001b[1;33m)\u001b[0m\u001b[1;33m\u001b[0m\u001b[1;33m\u001b[0m\u001b[0m\n",
      "\u001b[1;31mNameError\u001b[0m: name 'array' is not defined"
     ]
    }
   ],
   "source": [
    "for x in array:\n",
    "    if x < pivot:\n",
    "        less.append(x)\n",
    "    else:\n",
    "        greater.append(x)"
   ]
  },
  {
   "cell_type": "code",
   "execution_count": 2,
   "id": "a352c1a1",
   "metadata": {},
   "outputs": [],
   "source": [
    "a = 5; b = 6; c = 7"
   ]
  },
  {
   "cell_type": "code",
   "execution_count": 3,
   "id": "a9267db5",
   "metadata": {},
   "outputs": [
    {
     "data": {
      "text/plain": [
       "7"
      ]
     },
     "execution_count": 3,
     "metadata": {},
     "output_type": "execute_result"
    }
   ],
   "source": [
    "c"
   ]
  },
  {
   "cell_type": "markdown",
   "id": "2b5c3797",
   "metadata": {},
   "source": [
    "Everything is an object"
   ]
  },
  {
   "cell_type": "markdown",
   "id": "079d05e6",
   "metadata": {},
   "source": [
    "Comments"
   ]
  },
  {
   "cell_type": "code",
   "execution_count": null,
   "id": "4df82388",
   "metadata": {},
   "outputs": [],
   "source": [
    "results = []\n",
    "for line in file_handel:\n",
    "    # keep the empty lines for now\n",
    "    # if len(line) == 0:\n",
    "    #   continue\n",
    "    results.append(line.replace('foo','bar'))\n",
    "    print(\"Reached this line\") #Simple status report\n"
   ]
  },
  {
   "cell_type": "markdown",
   "id": "de15757c",
   "metadata": {},
   "source": [
    "Function and object method calls\n",
    "    result = f(x,y,z)\n",
    "    g()\n",
    "    \n",
    "    obj.some_method(x,y,z)\n",
    "  result = f(a,b,c,d=5,e='foo')\n",
    "  "
   ]
  },
  {
   "cell_type": "markdown",
   "id": "a7879472",
   "metadata": {},
   "source": [
    "Variables and argument passing"
   ]
  },
  {
   "cell_type": "code",
   "execution_count": 4,
   "id": "5d7db181",
   "metadata": {},
   "outputs": [],
   "source": [
    "a= [1,2,3]"
   ]
  },
  {
   "cell_type": "code",
   "execution_count": 5,
   "id": "9f5c71f6",
   "metadata": {},
   "outputs": [],
   "source": [
    "b= a"
   ]
  },
  {
   "cell_type": "markdown",
   "id": "907edeb0",
   "metadata": {},
   "source": [
    "Dynamic references, strong types"
   ]
  },
  {
   "cell_type": "code",
   "execution_count": 1,
   "id": "fd6f02da",
   "metadata": {},
   "outputs": [
    {
     "data": {
      "text/plain": [
       "int"
      ]
     },
     "execution_count": 1,
     "metadata": {},
     "output_type": "execute_result"
    }
   ],
   "source": [
    "a = 5\n",
    "type(a)"
   ]
  },
  {
   "cell_type": "code",
   "execution_count": 2,
   "id": "a8316f4e",
   "metadata": {},
   "outputs": [
    {
     "data": {
      "text/plain": [
       "str"
      ]
     },
     "execution_count": 2,
     "metadata": {},
     "output_type": "execute_result"
    }
   ],
   "source": [
    "a = 'foo'\n",
    "type(a)"
   ]
  },
  {
   "cell_type": "code",
   "execution_count": 3,
   "id": "6ef5069e",
   "metadata": {},
   "outputs": [
    {
     "ename": "TypeError",
     "evalue": "can only concatenate str (not \"int\") to str",
     "output_type": "error",
     "traceback": [
      "\u001b[1;31m---------------------------------------------------------------------------\u001b[0m",
      "\u001b[1;31mTypeError\u001b[0m                                 Traceback (most recent call last)",
      "\u001b[1;32m<ipython-input-3-01ecf7ad3a7d>\u001b[0m in \u001b[0;36m<module>\u001b[1;34m\u001b[0m\n\u001b[1;32m----> 1\u001b[1;33m \u001b[1;34m'5'\u001b[0m\u001b[1;33m+\u001b[0m \u001b[1;36m5\u001b[0m\u001b[1;33m\u001b[0m\u001b[1;33m\u001b[0m\u001b[0m\n\u001b[0m",
      "\u001b[1;31mTypeError\u001b[0m: can only concatenate str (not \"int\") to str"
     ]
    }
   ],
   "source": [
    "'5'+ 5"
   ]
  },
  {
   "cell_type": "code",
   "execution_count": 4,
   "id": "57380e8a",
   "metadata": {},
   "outputs": [
    {
     "name": "stdout",
     "output_type": "stream",
     "text": [
      "a is <class 'float'>, b is <class 'int'>\n"
     ]
    },
    {
     "data": {
      "text/plain": [
       "2.25"
      ]
     },
     "execution_count": 4,
     "metadata": {},
     "output_type": "execute_result"
    }
   ],
   "source": [
    "a = 4.5\n",
    "b = 2\n",
    "# String formatting, to be visited later\n",
    "print('a is {0}, b is {1}'.format(type(a),type(b)))\n",
    "a / b"
   ]
  },
  {
   "cell_type": "code",
   "execution_count": 5,
   "id": "d516799b",
   "metadata": {},
   "outputs": [
    {
     "data": {
      "text/plain": [
       "True"
      ]
     },
     "execution_count": 5,
     "metadata": {},
     "output_type": "execute_result"
    }
   ],
   "source": [
    "a = 5\n",
    "isinstance(a, int)"
   ]
  },
  {
   "cell_type": "code",
   "execution_count": 6,
   "id": "facbf25f",
   "metadata": {},
   "outputs": [
    {
     "data": {
      "text/plain": [
       "True"
      ]
     },
     "execution_count": 6,
     "metadata": {},
     "output_type": "execute_result"
    }
   ],
   "source": [
    "a = 5; b = 4.5\n",
    "isinstance(a, (int,float))\n",
    "isinstance(b, (int,float))"
   ]
  },
  {
   "cell_type": "code",
   "execution_count": 11,
   "id": "5576c82e",
   "metadata": {},
   "outputs": [],
   "source": [
    "a = 'foo'"
   ]
  },
  {
   "cell_type": "code",
   "execution_count": 12,
   "id": "9a83068d",
   "metadata": {},
   "outputs": [
    {
     "ename": "SyntaxError",
     "evalue": "invalid syntax (<ipython-input-12-656d30e2deb8>, line 1)",
     "output_type": "error",
     "traceback": [
      "\u001b[1;36m  File \u001b[1;32m\"<ipython-input-12-656d30e2deb8>\"\u001b[1;36m, line \u001b[1;32m1\u001b[0m\n\u001b[1;33m    a.<Press Tab>\u001b[0m\n\u001b[1;37m      ^\u001b[0m\n\u001b[1;31mSyntaxError\u001b[0m\u001b[1;31m:\u001b[0m invalid syntax\n"
     ]
    }
   ],
   "source": [
    "a.<Press Tab>"
   ]
  },
  {
   "cell_type": "code",
   "execution_count": 13,
   "id": "e73b6fb4",
   "metadata": {},
   "outputs": [
    {
     "data": {
      "text/plain": [
       "'FOO'"
      ]
     },
     "execution_count": 13,
     "metadata": {},
     "output_type": "execute_result"
    }
   ],
   "source": [
    "a.upper()"
   ]
  },
  {
   "cell_type": "code",
   "execution_count": 14,
   "id": "7bd3fb2b",
   "metadata": {},
   "outputs": [
    {
     "data": {
      "text/plain": [
       "'Foo'"
      ]
     },
     "execution_count": 14,
     "metadata": {},
     "output_type": "execute_result"
    }
   ],
   "source": [
    "#앞에 첫 글자 대문자화\n",
    "a.capitalize()"
   ]
  },
  {
   "cell_type": "code",
   "execution_count": 15,
   "id": "b25a4de7",
   "metadata": {},
   "outputs": [
    {
     "data": {
      "text/plain": [
       "<function str.split(sep=None, maxsplit=-1)>"
      ]
     },
     "execution_count": 15,
     "metadata": {},
     "output_type": "execute_result"
    }
   ],
   "source": [
    "getattr(a,'split')"
   ]
  },
  {
   "cell_type": "markdown",
   "id": "970733d9",
   "metadata": {},
   "source": [
    "Duck typing"
   ]
  },
  {
   "cell_type": "code",
   "execution_count": 16,
   "id": "f383be53",
   "metadata": {},
   "outputs": [],
   "source": [
    "def isiterable(obj):\n",
    "    try:\n",
    "        iter(obj)\n",
    "        return True\n",
    "    except TypeError: # nor iterable\n",
    "        return False\n",
    "    "
   ]
  },
  {
   "cell_type": "code",
   "execution_count": 17,
   "id": "58a18151",
   "metadata": {},
   "outputs": [
    {
     "data": {
      "text/plain": [
       "True"
      ]
     },
     "execution_count": 17,
     "metadata": {},
     "output_type": "execute_result"
    }
   ],
   "source": [
    "isiterable('a string')"
   ]
  },
  {
   "cell_type": "code",
   "execution_count": 18,
   "id": "523751f9",
   "metadata": {},
   "outputs": [
    {
     "data": {
      "text/plain": [
       "True"
      ]
     },
     "execution_count": 18,
     "metadata": {},
     "output_type": "execute_result"
    }
   ],
   "source": [
    "isiterable([1, 2, 3])"
   ]
  },
  {
   "cell_type": "code",
   "execution_count": 19,
   "id": "5c53f9d5",
   "metadata": {},
   "outputs": [
    {
     "data": {
      "text/plain": [
       "False"
      ]
     },
     "execution_count": 19,
     "metadata": {},
     "output_type": "execute_result"
    }
   ],
   "source": [
    "isiterable(5)"
   ]
  },
  {
   "cell_type": "markdown",
   "id": "db4496a4",
   "metadata": {},
   "source": [
    "if not isiterable(x,list)and isiterable(x):=list(x)"
   ]
  },
  {
   "cell_type": "markdown",
   "id": "391e8bed",
   "metadata": {},
   "source": [
    "Imports\n",
    "In Python a midule is simply a file with the.py extension containing Python code. Suppose that we had the following module:\n",
    "some_module.py\n",
    "PI = 3.14159\n",
    "\n",
    "def f(x):\n",
    "    return x + 2\n",
    "def g(a,b):\n",
    "    return a + b\n",
    "\n",
    "If we wanted to access the variables and functions defined in some_module.py,from another file in the same directory we could do:"
   ]
  },
  {
   "cell_type": "code",
   "execution_count": 9,
   "id": "358c985a",
   "metadata": {},
   "outputs": [],
   "source": [
    "import some_module\n",
    "\n",
    "result = some_module.f(5)"
   ]
  },
  {
   "cell_type": "code",
   "execution_count": 10,
   "id": "c612d711",
   "metadata": {},
   "outputs": [
    {
     "data": {
      "text/plain": [
       "3.14"
      ]
     },
     "execution_count": 10,
     "metadata": {},
     "output_type": "execute_result"
    }
   ],
   "source": [
    "pi = some_module.PI\n",
    "pi"
   ]
  },
  {
   "cell_type": "markdown",
   "id": "c54ba4ef",
   "metadata": {},
   "source": [
    "Or equivalently:"
   ]
  },
  {
   "cell_type": "code",
   "execution_count": 11,
   "id": "944a9806",
   "metadata": {},
   "outputs": [
    {
     "data": {
      "text/plain": [
       "8.14"
      ]
     },
     "execution_count": 11,
     "metadata": {},
     "output_type": "execute_result"
    }
   ],
   "source": [
    "from some_module import f, g, PI\n",
    "result = g (5, PI)\n",
    "result"
   ]
  },
  {
   "cell_type": "code",
   "execution_count": null,
   "id": "53b45a30",
   "metadata": {},
   "outputs": [],
   "source": [
    "By using whe as keyword you can give imports differnt variable names:"
   ]
  },
  {
   "cell_type": "code",
   "execution_count": null,
   "id": "b4f48331",
   "metadata": {},
   "outputs": [],
   "source": [
    "import some_mudule as sm\n",
    "from some_mudule import PI as pi, g as gf\n",
    "\n",
    "r1= sm.f(pi)\n",
    "r2 = gf(6,pi)"
   ]
  },
  {
   "cell_type": "code",
   "execution_count": null,
   "id": "72133240",
   "metadata": {},
   "outputs": [],
   "source": [
    "r1"
   ]
  },
  {
   "cell_type": "code",
   "execution_count": null,
   "id": "fb8c1fb5",
   "metadata": {},
   "outputs": [],
   "source": [
    "r2"
   ]
  },
  {
   "cell_type": "markdown",
   "id": "ea10ff7f",
   "metadata": {},
   "source": [
    "Binary operators and comparisons"
   ]
  },
  {
   "cell_type": "markdown",
   "id": "579bcb50",
   "metadata": {},
   "source": [
    "Most of the binary math operations and comparisons are as might expect:"
   ]
  },
  {
   "cell_type": "code",
   "execution_count": 31,
   "id": "552f629a",
   "metadata": {},
   "outputs": [
    {
     "data": {
      "text/plain": [
       "False"
      ]
     },
     "execution_count": 31,
     "metadata": {},
     "output_type": "execute_result"
    }
   ],
   "source": [
    "5 - 7\n",
    "12 + 21.5\n",
    "5 <= 2"
   ]
  },
  {
   "cell_type": "markdown",
   "id": "c41aa5fc",
   "metadata": {},
   "source": [
    "To check if two references refer to the same object, use the is keyword. is not also perfectly valid if you want to check that two objects are not the same:"
   ]
  },
  {
   "cell_type": "code",
   "execution_count": 33,
   "id": "49036cb8",
   "metadata": {},
   "outputs": [
    {
     "data": {
      "text/plain": [
       "True"
      ]
     },
     "execution_count": 33,
     "metadata": {},
     "output_type": "execute_result"
    }
   ],
   "source": [
    "a = [1, 2, 3]\n",
    "b = a\n",
    "c= list(a)\n",
    "a is b\n",
    "a is not c"
   ]
  },
  {
   "cell_type": "markdown",
   "id": "aaef297b",
   "metadata": {},
   "source": [
    "Since list always creates a new Python list(i.e.,a copy), we can be sure that c is distinct from a.\n",
    "Comparing with is is not the same as the == operator, in this case we have:"
   ]
  },
  {
   "cell_type": "code",
   "execution_count": 34,
   "id": "954a314b",
   "metadata": {},
   "outputs": [
    {
     "data": {
      "text/plain": [
       "True"
      ]
     },
     "execution_count": 34,
     "metadata": {},
     "output_type": "execute_result"
    }
   ],
   "source": [
    "a == c"
   ]
  },
  {
   "cell_type": "code",
   "execution_count": 35,
   "id": "f93a6c1a",
   "metadata": {},
   "outputs": [
    {
     "data": {
      "text/plain": [
       "True"
      ]
     },
     "execution_count": 35,
     "metadata": {},
     "output_type": "execute_result"
    }
   ],
   "source": [
    "a = None\n",
    "a is None"
   ]
  },
  {
   "cell_type": "markdown",
   "id": "0da03453",
   "metadata": {},
   "source": [
    "Mutable and immutable objects\n",
    "Most objects in Python, such as lists, dicts, NumPy arrays, and most-user-defined types (calsses), are mutable.\n",
    "This means that the object or values that they contain can be modifide:"
   ]
  },
  {
   "cell_type": "code",
   "execution_count": 36,
   "id": "1ef81924",
   "metadata": {},
   "outputs": [
    {
     "data": {
      "text/plain": [
       "['foo', 2, (3, 4)]"
      ]
     },
     "execution_count": 36,
     "metadata": {},
     "output_type": "execute_result"
    }
   ],
   "source": [
    "a_list = ['foo', 2, [4, 5]]\n",
    "a_list [2] = (3, 4)\n",
    "a_list"
   ]
  },
  {
   "cell_type": "markdown",
   "id": "917e216b",
   "metadata": {},
   "source": [
    "Other, like strings and tuples, are immutable:"
   ]
  },
  {
   "cell_type": "code",
   "execution_count": 37,
   "id": "b8697267",
   "metadata": {},
   "outputs": [
    {
     "ename": "TypeError",
     "evalue": "'tuple' object does not support item assignment",
     "output_type": "error",
     "traceback": [
      "\u001b[1;31m---------------------------------------------------------------------------\u001b[0m",
      "\u001b[1;31mTypeError\u001b[0m                                 Traceback (most recent call last)",
      "\u001b[1;32m<ipython-input-37-2c9bddc8679c>\u001b[0m in \u001b[0;36m<module>\u001b[1;34m\u001b[0m\n\u001b[0;32m      1\u001b[0m \u001b[0ma_tuple\u001b[0m \u001b[1;33m=\u001b[0m \u001b[1;33m(\u001b[0m\u001b[1;36m3\u001b[0m\u001b[1;33m,\u001b[0m \u001b[1;36m5\u001b[0m\u001b[1;33m,\u001b[0m \u001b[1;33m(\u001b[0m\u001b[1;36m4\u001b[0m\u001b[1;33m,\u001b[0m \u001b[1;36m5\u001b[0m\u001b[1;33m)\u001b[0m\u001b[1;33m)\u001b[0m\u001b[1;33m\u001b[0m\u001b[1;33m\u001b[0m\u001b[0m\n\u001b[1;32m----> 2\u001b[1;33m \u001b[0ma_tuple\u001b[0m\u001b[1;33m[\u001b[0m\u001b[1;36m1\u001b[0m\u001b[1;33m]\u001b[0m \u001b[1;33m=\u001b[0m \u001b[1;34m'four'\u001b[0m\u001b[1;33m\u001b[0m\u001b[1;33m\u001b[0m\u001b[0m\n\u001b[0m",
      "\u001b[1;31mTypeError\u001b[0m: 'tuple' object does not support item assignment"
     ]
    }
   ],
   "source": [
    "a_tuple = (3, 5, (4, 5))\n",
    "a_tuple[1] = 'four'"
   ]
  },
  {
   "cell_type": "markdown",
   "id": "22c0a661",
   "metadata": {},
   "source": [
    "## Scalar Types,\n",
    "\n",
    "### Numeric types,\n",
    "\n",
    "The primary Python types for numbers are int and float. An int can store arbitarily large numbers:\n"
   ]
  },
  {
   "cell_type": "code",
   "execution_count": 38,
   "id": "f170a82e",
   "metadata": {},
   "outputs": [
    {
     "data": {
      "text/plain": [
       "26254519291092456596965462913230729701102721"
      ]
     },
     "execution_count": 38,
     "metadata": {},
     "output_type": "execute_result"
    }
   ],
   "source": [
    "ival = 17239871\n",
    "ival ** 6"
   ]
  },
  {
   "cell_type": "markdown",
   "id": "be359e61",
   "metadata": {},
   "source": [
    "Floating-point nimbers are represented with the Python float type. Under the hood each one is a double-precision ( 64-bit)value. They can also be expressed with scientific notation:"
   ]
  },
  {
   "cell_type": "code",
   "execution_count": 39,
   "id": "0c9a6286",
   "metadata": {},
   "outputs": [],
   "source": [
    "fval = 7.243\n",
    "fval2 = 6.78e-5"
   ]
  },
  {
   "cell_type": "code",
   "execution_count": 40,
   "id": "14cc4c6a",
   "metadata": {},
   "outputs": [
    {
     "data": {
      "text/plain": [
       "1.5"
      ]
     },
     "execution_count": 40,
     "metadata": {},
     "output_type": "execute_result"
    }
   ],
   "source": [
    "3 / 2"
   ]
  },
  {
   "cell_type": "code",
   "execution_count": 41,
   "id": "d284fe14",
   "metadata": {},
   "outputs": [
    {
     "data": {
      "text/plain": [
       "float"
      ]
     },
     "execution_count": 41,
     "metadata": {},
     "output_type": "execute_result"
    }
   ],
   "source": [
    "type(3/2)"
   ]
  },
  {
   "cell_type": "code",
   "execution_count": 42,
   "id": "b5e939c8",
   "metadata": {},
   "outputs": [
    {
     "data": {
      "text/plain": [
       "1"
      ]
     },
     "execution_count": 42,
     "metadata": {},
     "output_type": "execute_result"
    }
   ],
   "source": [
    "3//2"
   ]
  },
  {
   "cell_type": "code",
   "execution_count": 43,
   "id": "3ea044c0",
   "metadata": {},
   "outputs": [
    {
     "data": {
      "text/plain": [
       "int"
      ]
     },
     "execution_count": 43,
     "metadata": {},
     "output_type": "execute_result"
    }
   ],
   "source": [
    "type(3//2)"
   ]
  },
  {
   "cell_type": "markdown",
   "id": "c5b0d777",
   "metadata": {},
   "source": [
    "Strings\n",
    "Many people use Python for its powerful and flexible built-in string processing capabilities.\n",
    "You can write string literals using either single quotes 'or double quotes':"
   ]
  },
  {
   "cell_type": "code",
   "execution_count": 44,
   "id": "6cab1d76",
   "metadata": {},
   "outputs": [],
   "source": [
    "a = 'one way of writing a string'\n",
    "b= \"another way\""
   ]
  },
  {
   "cell_type": "markdown",
   "id": "1ae53c84",
   "metadata": {},
   "source": [
    "For multiline strings with line breaks, you can use triple quotes,either'''or'''\"\"\"\"\"\":"
   ]
  },
  {
   "cell_type": "code",
   "execution_count": 45,
   "id": "d54825ae",
   "metadata": {},
   "outputs": [],
   "source": [
    "c = \"\"\"\n",
    "This is a longer string that\n",
    "spans multiple lines\n",
    "\"\"\""
   ]
  },
  {
   "cell_type": "code",
   "execution_count": 46,
   "id": "955989f6",
   "metadata": {},
   "outputs": [
    {
     "data": {
      "text/plain": [
       "'\\nThis is a longer string that\\nspans multiple lines\\n'"
      ]
     },
     "execution_count": 46,
     "metadata": {},
     "output_type": "execute_result"
    }
   ],
   "source": [
    "c"
   ]
  },
  {
   "cell_type": "markdown",
   "id": "a26cd17a",
   "metadata": {},
   "source": [
    "'|nThis is a longer sring that|nspans multiple lines|n'\n",
    "\n",
    "it may surprise you that this string c actually contains four lines of text;\n",
    "the line breaks after\"\"\"and after lines are included in string.\n",
    "We can count the new line characters with count method on c:"
   ]
  },
  {
   "cell_type": "code",
   "execution_count": 47,
   "id": "b28da04a",
   "metadata": {},
   "outputs": [
    {
     "data": {
      "text/plain": [
       "0"
      ]
     },
     "execution_count": 47,
     "metadata": {},
     "output_type": "execute_result"
    }
   ],
   "source": [
    "c.count('|n')"
   ]
  },
  {
   "cell_type": "markdown",
   "id": "901db54c",
   "metadata": {},
   "source": [
    "Python string are immutable; you cannot modify a string:"
   ]
  },
  {
   "cell_type": "code",
   "execution_count": 48,
   "id": "8315cf6a",
   "metadata": {},
   "outputs": [
    {
     "ename": "TypeError",
     "evalue": "'str' object does not support item assignment",
     "output_type": "error",
     "traceback": [
      "\u001b[1;31m---------------------------------------------------------------------------\u001b[0m",
      "\u001b[1;31mTypeError\u001b[0m                                 Traceback (most recent call last)",
      "\u001b[1;32m<ipython-input-48-cfa170a67205>\u001b[0m in \u001b[0;36m<module>\u001b[1;34m\u001b[0m\n\u001b[0;32m      1\u001b[0m \u001b[0ma\u001b[0m \u001b[1;33m=\u001b[0m \u001b[1;34m'this is a string'\u001b[0m\u001b[1;33m\u001b[0m\u001b[1;33m\u001b[0m\u001b[0m\n\u001b[1;32m----> 2\u001b[1;33m \u001b[0ma\u001b[0m\u001b[1;33m[\u001b[0m\u001b[1;36m10\u001b[0m\u001b[1;33m]\u001b[0m \u001b[1;33m=\u001b[0m \u001b[1;34m'f'\u001b[0m\u001b[1;33m\u001b[0m\u001b[1;33m\u001b[0m\u001b[0m\n\u001b[0m",
      "\u001b[1;31mTypeError\u001b[0m: 'str' object does not support item assignment"
     ]
    }
   ],
   "source": [
    "a = 'this is a string'\n",
    "a[10] = 'f'"
   ]
  },
  {
   "cell_type": "code",
   "execution_count": 50,
   "id": "ffca259b",
   "metadata": {},
   "outputs": [
    {
     "data": {
      "text/plain": [
       "'this is a longer string'"
      ]
     },
     "execution_count": 50,
     "metadata": {},
     "output_type": "execute_result"
    }
   ],
   "source": [
    "b = a.replace('string', 'longer string')\n",
    "b"
   ]
  },
  {
   "cell_type": "code",
   "execution_count": 51,
   "id": "0b0f0367",
   "metadata": {},
   "outputs": [
    {
     "data": {
      "text/plain": [
       "'this is a string'"
      ]
     },
     "execution_count": 51,
     "metadata": {},
     "output_type": "execute_result"
    }
   ],
   "source": [
    "a"
   ]
  },
  {
   "cell_type": "markdown",
   "id": "cce39b61",
   "metadata": {},
   "source": [
    "Many Python object can be converted to a string using the str function"
   ]
  },
  {
   "cell_type": "code",
   "execution_count": 53,
   "id": "726e4fd6",
   "metadata": {},
   "outputs": [
    {
     "name": "stdout",
     "output_type": "stream",
     "text": [
      "5.6\n"
     ]
    }
   ],
   "source": [
    "a = 5.6\n",
    "s = str(a)\n",
    "print(s)"
   ]
  },
  {
   "cell_type": "markdown",
   "id": "e039a9f3",
   "metadata": {},
   "source": [
    "String are a sequence of Unicode characters and therefore can be treated like other sequences, such as list and tuples(which we will explore in more detail in the next chapter):"
   ]
  },
  {
   "cell_type": "code",
   "execution_count": 54,
   "id": "5681e5a7",
   "metadata": {},
   "outputs": [
    {
     "data": {
      "text/plain": [
       "['p', 'y', 't', 'h', 'o', 'n']"
      ]
     },
     "execution_count": 54,
     "metadata": {},
     "output_type": "execute_result"
    }
   ],
   "source": [
    "s = 'python'\n",
    "list(s)"
   ]
  },
  {
   "cell_type": "code",
   "execution_count": 55,
   "id": "b8d09fc5",
   "metadata": {},
   "outputs": [
    {
     "data": {
      "text/plain": [
       "'pyt'"
      ]
     },
     "execution_count": 55,
     "metadata": {},
     "output_type": "execute_result"
    }
   ],
   "source": [
    "s[:3]"
   ]
  },
  {
   "cell_type": "markdown",
   "id": "867acf6c",
   "metadata": {},
   "source": [
    "The syntax s [:3] is called slicing and is implemented for many kinds of Python sequences. This will be explained in more detail later on, as it is used extensively in this book.\n",
    "The backslash character | is an escape character, meaning that it is used to specify special characters like newline |n or Unicode characters. To write a string literal with backslashes, you need to escape them:"
   ]
  },
  {
   "cell_type": "code",
   "execution_count": 60,
   "id": "ad434d32",
   "metadata": {},
   "outputs": [
    {
     "name": "stdout",
     "output_type": "stream",
     "text": [
      "12\n",
      "34\n"
     ]
    }
   ],
   "source": [
    "print('12\\n34')"
   ]
  },
  {
   "cell_type": "code",
   "execution_count": 61,
   "id": "ba724acc",
   "metadata": {},
   "outputs": [
    {
     "name": "stdout",
     "output_type": "stream",
     "text": [
      "12\\34\n"
     ]
    }
   ],
   "source": [
    "s = '12\\\\34'\n",
    "print(s)"
   ]
  },
  {
   "cell_type": "markdown",
   "id": "712ff2e7",
   "metadata": {},
   "source": [
    "Adding two string together concatenates them and produces a new string:"
   ]
  },
  {
   "cell_type": "code",
   "execution_count": 62,
   "id": "d2f1f8ec",
   "metadata": {},
   "outputs": [
    {
     "data": {
      "text/plain": [
       "'this is the first halfand this is the second half'"
      ]
     },
     "execution_count": 62,
     "metadata": {},
     "output_type": "execute_result"
    }
   ],
   "source": [
    "a = 'this is the first half'\n",
    "b = 'and this is the second half'\n",
    "a + b"
   ]
  },
  {
   "cell_type": "markdown",
   "id": "5d35036d",
   "metadata": {},
   "source": [
    "String templating or formatting is another important topic.\n",
    "The number of ways to do so has expanded with the advent of Python 3,\n",
    "and here i will briefy describe the mechanics of one of the main interfaces.\n",
    "String object have a format method that can be used to substitute formatted arguments into the string, producing a new string:"
   ]
  },
  {
   "cell_type": "code",
   "execution_count": 63,
   "id": "524d839f",
   "metadata": {},
   "outputs": [
    {
     "data": {
      "text/plain": [
       "'{0:.2f} {1:s} are worth US${2:d}'"
      ]
     },
     "execution_count": 63,
     "metadata": {},
     "output_type": "execute_result"
    }
   ],
   "source": [
    "template = '{0:.2f} {1:s} are worth US${2:d}'\n",
    "template"
   ]
  },
  {
   "cell_type": "markdown",
   "id": "744cd22b",
   "metadata": {},
   "source": [
    "{0:2f} means to format the first argument as a floating-point umber with two decimal places.\n",
    "{1:s} means to format the second argument as a string.\n",
    "{2:d} means to format the third argument as an exact integer."
   ]
  },
  {
   "cell_type": "code",
   "execution_count": 64,
   "id": "26d73d65",
   "metadata": {},
   "outputs": [
    {
     "data": {
      "text/plain": [
       "'4.56 Argentine Pesos are worth US$1'"
      ]
     },
     "execution_count": 64,
     "metadata": {},
     "output_type": "execute_result"
    }
   ],
   "source": [
    "template.format(4.5560, 'Argentine Pesos',1)"
   ]
  },
  {
   "cell_type": "code",
   "execution_count": 65,
   "id": "7e1cc5a7",
   "metadata": {},
   "outputs": [
    {
     "data": {
      "text/plain": [
       "'1263.23 won are worth US$1'"
      ]
     },
     "execution_count": 65,
     "metadata": {},
     "output_type": "execute_result"
    }
   ],
   "source": [
    "template.format(1263.23, 'won',1)"
   ]
  },
  {
   "cell_type": "markdown",
   "id": "00c833f4",
   "metadata": {},
   "source": [
    "Booleans\n",
    "\n",
    "The two boolean values in Python are written as True and False.\n",
    "Comaparisons and other conditional and other conditional expressions evaluate to either True or Fales.\n",
    "\n",
    "Boolean values are combined with the and or leywords:"
   ]
  },
  {
   "cell_type": "code",
   "execution_count": 66,
   "id": "76c433dc",
   "metadata": {},
   "outputs": [
    {
     "data": {
      "text/plain": [
       "True"
      ]
     },
     "execution_count": 66,
     "metadata": {},
     "output_type": "execute_result"
    }
   ],
   "source": [
    "True and True"
   ]
  },
  {
   "cell_type": "code",
   "execution_count": 67,
   "id": "ab807900",
   "metadata": {},
   "outputs": [
    {
     "data": {
      "text/plain": [
       "True"
      ]
     },
     "execution_count": 67,
     "metadata": {},
     "output_type": "execute_result"
    }
   ],
   "source": [
    "False or True"
   ]
  },
  {
   "cell_type": "markdown",
   "id": "38e54d17",
   "metadata": {},
   "source": [
    "Type casting\n",
    "The srt bool, int,and float types are also functions that can be used to cast values"
   ]
  },
  {
   "cell_type": "code",
   "execution_count": 68,
   "id": "88c65f6c",
   "metadata": {},
   "outputs": [
    {
     "data": {
      "text/plain": [
       "float"
      ]
     },
     "execution_count": 68,
     "metadata": {},
     "output_type": "execute_result"
    }
   ],
   "source": [
    "s = '3.14159'\n",
    "fval = float(s)\n",
    "type(fval)"
   ]
  },
  {
   "cell_type": "code",
   "execution_count": 69,
   "id": "8a878b03",
   "metadata": {},
   "outputs": [
    {
     "data": {
      "text/plain": [
       "3"
      ]
     },
     "execution_count": 69,
     "metadata": {},
     "output_type": "execute_result"
    }
   ],
   "source": [
    "int(fval)"
   ]
  },
  {
   "cell_type": "code",
   "execution_count": 70,
   "id": "3516d43a",
   "metadata": {},
   "outputs": [
    {
     "data": {
      "text/plain": [
       "True"
      ]
     },
     "execution_count": 70,
     "metadata": {},
     "output_type": "execute_result"
    }
   ],
   "source": [
    "bool(fval)"
   ]
  },
  {
   "cell_type": "code",
   "execution_count": 71,
   "id": "b5738d70",
   "metadata": {},
   "outputs": [
    {
     "data": {
      "text/plain": [
       "False"
      ]
     },
     "execution_count": 71,
     "metadata": {},
     "output_type": "execute_result"
    }
   ],
   "source": [
    "bool(0)"
   ]
  },
  {
   "cell_type": "markdown",
   "id": "823247a4",
   "metadata": {},
   "source": [
    "None\n",
    "\n",
    "none is the Python null value type. If a function does not explicitly return a value, it impliccitly return returns None:"
   ]
  },
  {
   "cell_type": "code",
   "execution_count": 72,
   "id": "926fa2ea",
   "metadata": {},
   "outputs": [
    {
     "data": {
      "text/plain": [
       "True"
      ]
     },
     "execution_count": 72,
     "metadata": {},
     "output_type": "execute_result"
    }
   ],
   "source": [
    "a = None\n",
    "a is None"
   ]
  },
  {
   "cell_type": "code",
   "execution_count": 73,
   "id": "c6c5538d",
   "metadata": {},
   "outputs": [
    {
     "data": {
      "text/plain": [
       "True"
      ]
     },
     "execution_count": 73,
     "metadata": {},
     "output_type": "execute_result"
    }
   ],
   "source": [
    "b = 5\n",
    "b is not None"
   ]
  },
  {
   "cell_type": "code",
   "execution_count": 74,
   "id": "dc0c380a",
   "metadata": {},
   "outputs": [],
   "source": [
    "def add_and_maybe_multiply(a, b, c = None):\n",
    "    result = a + b\n",
    "    \n",
    "    if c is not None:\n",
    "        result = result * c\n",
    "        \n",
    "    return result"
   ]
  },
  {
   "cell_type": "code",
   "execution_count": 75,
   "id": "63572ff0",
   "metadata": {},
   "outputs": [
    {
     "ename": "SyntaxError",
     "evalue": "invalid syntax (<ipython-input-75-8b5f16fce071>, line 1)",
     "output_type": "error",
     "traceback": [
      "\u001b[1;36m  File \u001b[1;32m\"<ipython-input-75-8b5f16fce071>\"\u001b[1;36m, line \u001b[1;32m1\u001b[0m\n\u001b[1;33m    None is also a common default value for unction arguments:\u001b[0m\n\u001b[1;37m                 ^\u001b[0m\n\u001b[1;31mSyntaxError\u001b[0m\u001b[1;31m:\u001b[0m invalid syntax\n"
     ]
    }
   ],
   "source": [
    "None is also a common default value for unction arguments:"
   ]
  },
  {
   "cell_type": "code",
   "execution_count": 76,
   "id": "e21ace78",
   "metadata": {},
   "outputs": [],
   "source": [
    "def add_and_maybe_multiply(a, b, c=None):\n",
    "    result = a + b\n",
    "    \n",
    "    if c is not None:\n",
    "        result = result * c\n",
    "        \n",
    "    return result"
   ]
  },
  {
   "cell_type": "code",
   "execution_count": 77,
   "id": "160b2edb",
   "metadata": {},
   "outputs": [
    {
     "data": {
      "text/plain": [
       "8"
      ]
     },
     "execution_count": 77,
     "metadata": {},
     "output_type": "execute_result"
    }
   ],
   "source": [
    "add_and_maybe_multiply(5,3)"
   ]
  },
  {
   "cell_type": "code",
   "execution_count": 78,
   "id": "35ef3792",
   "metadata": {},
   "outputs": [
    {
     "data": {
      "text/plain": [
       "80"
      ]
     },
     "execution_count": 78,
     "metadata": {},
     "output_type": "execute_result"
    }
   ],
   "source": [
    "add_and_maybe_multiply(5,3,10)"
   ]
  },
  {
   "cell_type": "markdown",
   "id": "605eb772",
   "metadata": {},
   "source": [
    "While a technical point, it`s worth bearing in mind that None is not only a reserved keyword but also a unique instance of NoneType:\n",
    "    "
   ]
  },
  {
   "cell_type": "code",
   "execution_count": 79,
   "id": "fb29b0d0",
   "metadata": {},
   "outputs": [
    {
     "data": {
      "text/plain": [
       "NoneType"
      ]
     },
     "execution_count": 79,
     "metadata": {},
     "output_type": "execute_result"
    }
   ],
   "source": [
    "type(None)"
   ]
  },
  {
   "cell_type": "markdown",
   "id": "269f36a0",
   "metadata": {},
   "source": [
    "Dates and times\n",
    "\n",
    "The built-in Python datetime module provides datetime, date,and time types.\n",
    "The datetime type, as you may imagine, combines the information stored in date and time and is the most commonly used:"
   ]
  },
  {
   "cell_type": "code",
   "execution_count": 80,
   "id": "71fe07a5",
   "metadata": {},
   "outputs": [
    {
     "data": {
      "text/plain": [
       "datetime.datetime(2011, 10, 29, 20, 30, 21)"
      ]
     },
     "execution_count": 80,
     "metadata": {},
     "output_type": "execute_result"
    }
   ],
   "source": [
    "from datetime import datetime, date, time\n",
    "dt = datetime(2011, 10 , 29, 20, 30, 21)\n",
    "dt"
   ]
  },
  {
   "cell_type": "code",
   "execution_count": 81,
   "id": "226234ea",
   "metadata": {},
   "outputs": [
    {
     "data": {
      "text/plain": [
       "29"
      ]
     },
     "execution_count": 81,
     "metadata": {},
     "output_type": "execute_result"
    }
   ],
   "source": [
    "dt.day"
   ]
  },
  {
   "cell_type": "code",
   "execution_count": 82,
   "id": "41b466fd",
   "metadata": {},
   "outputs": [
    {
     "data": {
      "text/plain": [
       "30"
      ]
     },
     "execution_count": 82,
     "metadata": {},
     "output_type": "execute_result"
    }
   ],
   "source": [
    "dt.minute"
   ]
  },
  {
   "cell_type": "markdown",
   "id": "c3581118",
   "metadata": {},
   "source": [
    "Given a datetime instance, you can extract the equivalent date and time objects by calling methods on the datetime of the same name:"
   ]
  },
  {
   "cell_type": "code",
   "execution_count": 83,
   "id": "9921269d",
   "metadata": {},
   "outputs": [
    {
     "data": {
      "text/plain": [
       "datetime.date(2011, 10, 29)"
      ]
     },
     "execution_count": 83,
     "metadata": {},
     "output_type": "execute_result"
    }
   ],
   "source": [
    "dt.date()"
   ]
  },
  {
   "cell_type": "code",
   "execution_count": 84,
   "id": "0377f92d",
   "metadata": {},
   "outputs": [
    {
     "data": {
      "text/plain": [
       "datetime.time(20, 30, 21)"
      ]
     },
     "execution_count": 84,
     "metadata": {},
     "output_type": "execute_result"
    }
   ],
   "source": [
    "dt.time()"
   ]
  },
  {
   "cell_type": "markdown",
   "id": "47134a00",
   "metadata": {},
   "source": [
    "The strftime method formats a datetime as a string:"
   ]
  },
  {
   "cell_type": "code",
   "execution_count": 87,
   "id": "c28df1fc",
   "metadata": {},
   "outputs": [
    {
     "data": {
      "text/plain": [
       "'10/29/2011 20:30'"
      ]
     },
     "execution_count": 87,
     "metadata": {},
     "output_type": "execute_result"
    }
   ],
   "source": [
    "dt.strftime('%m/%d/%Y %H:%M')"
   ]
  },
  {
   "cell_type": "code",
   "execution_count": 90,
   "id": "27c6af30",
   "metadata": {},
   "outputs": [
    {
     "data": {
      "text/plain": [
       "'2011/30/10/29/11 20:30'"
      ]
     },
     "execution_count": 90,
     "metadata": {},
     "output_type": "execute_result"
    }
   ],
   "source": [
    "dt.strftime('%Y/%M/%D %H:%M')"
   ]
  },
  {
   "cell_type": "markdown",
   "id": "24512be2",
   "metadata": {},
   "source": [
    "strings can be converted(pared) into datetime objects with the strptime function:"
   ]
  },
  {
   "cell_type": "code",
   "execution_count": 91,
   "id": "94a2c09d",
   "metadata": {},
   "outputs": [
    {
     "data": {
      "text/plain": [
       "datetime.datetime(2009, 1, 31, 0, 10)"
      ]
     },
     "execution_count": 91,
     "metadata": {},
     "output_type": "execute_result"
    }
   ],
   "source": [
    "datetime.strptime('20091031','%Y%M%d')"
   ]
  },
  {
   "cell_type": "markdown",
   "id": "05a15ec8",
   "metadata": {},
   "source": [
    "When you are aggregating or otherwise grouping time series data, it will occasionally be useful to replace time fields of a series of datetimes-for example,replacing the minute and second fields with zero:"
   ]
  },
  {
   "cell_type": "code",
   "execution_count": 92,
   "id": "fcd9aa95",
   "metadata": {},
   "outputs": [
    {
     "data": {
      "text/plain": [
       "datetime.datetime(2011, 10, 29, 20, 0)"
      ]
     },
     "execution_count": 92,
     "metadata": {},
     "output_type": "execute_result"
    }
   ],
   "source": [
    "dt.replace(minute=0, second=0)"
   ]
  },
  {
   "cell_type": "code",
   "execution_count": 93,
   "id": "cfda1710",
   "metadata": {},
   "outputs": [
    {
     "data": {
      "text/plain": [
       "datetime.timedelta(days=17, seconds=7179)"
      ]
     },
     "execution_count": 93,
     "metadata": {},
     "output_type": "execute_result"
    }
   ],
   "source": [
    "dt2= datetime(2011, 11, 15, 22, 30)\n",
    "delta = dt2 - dt\n",
    "delta"
   ]
  },
  {
   "cell_type": "code",
   "execution_count": 94,
   "id": "0e17bf80",
   "metadata": {},
   "outputs": [
    {
     "data": {
      "text/plain": [
       "datetime.datetime(2011, 11, 15, 22, 30)"
      ]
     },
     "execution_count": 94,
     "metadata": {},
     "output_type": "execute_result"
    }
   ],
   "source": [
    "type(delta)\n",
    "dt\n",
    "dt+delta"
   ]
  },
  {
   "cell_type": "markdown",
   "id": "07eadb97",
   "metadata": {},
   "source": [
    "## Contril Flow\n",
    "Python has several built-in keywords for conditional logic, loops,and other standard control flow concepts found in other programming languages.\n",
    "## if, elif, and eles\n",
    "The of statement is one of the most well-known control flow statement types.\n",
    "It checks a condition that, if True, evaluates the code in the block that follows:"
   ]
  },
  {
   "cell_type": "code",
   "execution_count": null,
   "id": "67d03f8e",
   "metadata": {},
   "outputs": [],
   "source": [
    "x = -5\n",
    "if x < 0:\n",
    "    print('It is negative')"
   ]
  },
  {
   "cell_type": "markdown",
   "id": "ec7390b3",
   "metadata": {},
   "source": [
    "It is negative\n",
    "#### An if statement ane be optionally followed by one or more elif blocks and a catch all else block if all of the conditions are False "
   ]
  },
  {
   "cell_type": "code",
   "execution_count": 95,
   "id": "790d210b",
   "metadata": {},
   "outputs": [
    {
     "name": "stdout",
     "output_type": "stream",
     "text": [
      "It is negative\n"
     ]
    }
   ],
   "source": [
    "x = -5\n",
    "\n",
    "if x < 0:\n",
    "    print('It is negative')\n",
    "elif x == 0:\n",
    "    print('Equal to zero')\n",
    "elif 0 < x< 5 :\n",
    "    print('Positvie but smaller than 5')\n",
    "else:\n",
    "    print('Positive and larger than or equal to 5')"
   ]
  },
  {
   "cell_type": "markdown",
   "id": "894adf01",
   "metadata": {},
   "source": [
    "if any of the conditions is True, no furtther elif or elif or else blocks will be reached.\n",
    "\n",
    "With a compound condition using and or or, conditions are evaluated left to right and will short-circuit:"
   ]
  },
  {
   "cell_type": "code",
   "execution_count": 96,
   "id": "a715ecad",
   "metadata": {},
   "outputs": [
    {
     "name": "stdout",
     "output_type": "stream",
     "text": [
      "Made it\n"
     ]
    }
   ],
   "source": [
    "a = 5; b = 7\n",
    "c = 8; d = 4\n",
    "if a < b or c > d:\n",
    "    print('Made it')"
   ]
  },
  {
   "cell_type": "markdown",
   "id": "c750fb5a",
   "metadata": {},
   "source": [
    "in this example, the comparison c > d never gets evaluated because the frist compar-ison was True.\n",
    "\n",
    "it is also possible to chain comparisons:"
   ]
  },
  {
   "cell_type": "code",
   "execution_count": 98,
   "id": "fadc8282",
   "metadata": {},
   "outputs": [
    {
     "data": {
      "text/plain": [
       "True"
      ]
     },
     "execution_count": 98,
     "metadata": {},
     "output_type": "execute_result"
    }
   ],
   "source": [
    "4 > 3 > 2 > 1"
   ]
  },
  {
   "cell_type": "code",
   "execution_count": 99,
   "id": "26177021",
   "metadata": {},
   "outputs": [
    {
     "data": {
      "text/plain": [
       "True"
      ]
     },
     "execution_count": 99,
     "metadata": {},
     "output_type": "execute_result"
    }
   ],
   "source": [
    "3>5 or 2>1"
   ]
  },
  {
   "cell_type": "code",
   "execution_count": 100,
   "id": "b83d88f5",
   "metadata": {},
   "outputs": [
    {
     "data": {
      "text/plain": [
       "False"
      ]
     },
     "execution_count": 100,
     "metadata": {},
     "output_type": "execute_result"
    }
   ],
   "source": [
    "3>5>2>1"
   ]
  },
  {
   "cell_type": "markdown",
   "id": "699ca19f",
   "metadata": {},
   "source": [
    "### for loops\n",
    "\n",
    "for loops are for iteraiting over a collection (like a list or tuple) or an iterater. The standard syntax for a for loop is:\n",
    "   \n",
    "   for value in collection:\n",
    "   \n",
    "        # do something wiht value\n",
    "\n",
    "you can advance a for loop to the next iteration, skipping the remaionder of the block, using the continue keyword.\n",
    "\n",
    "Consdider this code, which sums up integers in a list and skips None values"
   ]
  },
  {
   "cell_type": "code",
   "execution_count": 101,
   "id": "cbda86f1",
   "metadata": {},
   "outputs": [
    {
     "ename": "TypeError",
     "evalue": "unsupported operand type(s) for +=: 'int' and 'NoneType'",
     "output_type": "error",
     "traceback": [
      "\u001b[1;31m---------------------------------------------------------------------------\u001b[0m",
      "\u001b[1;31mTypeError\u001b[0m                                 Traceback (most recent call last)",
      "\u001b[1;32m<ipython-input-101-78868adf9f7e>\u001b[0m in \u001b[0;36m<module>\u001b[1;34m\u001b[0m\n\u001b[0;32m      3\u001b[0m \u001b[1;33m\u001b[0m\u001b[0m\n\u001b[0;32m      4\u001b[0m \u001b[1;32mfor\u001b[0m \u001b[0mvalue\u001b[0m \u001b[1;32min\u001b[0m \u001b[0msequence\u001b[0m\u001b[1;33m:\u001b[0m\u001b[1;33m\u001b[0m\u001b[1;33m\u001b[0m\u001b[0m\n\u001b[1;32m----> 5\u001b[1;33m     \u001b[0mtotal\u001b[0m \u001b[1;33m+=\u001b[0m \u001b[0mvalue\u001b[0m\u001b[1;33m\u001b[0m\u001b[1;33m\u001b[0m\u001b[0m\n\u001b[0m",
      "\u001b[1;31mTypeError\u001b[0m: unsupported operand type(s) for +=: 'int' and 'NoneType'"
     ]
    }
   ],
   "source": [
    "sequence = [1, 2, None, 4, None, 5]\n",
    "total = 0\n",
    "\n",
    "for value in sequence:\n",
    "    total += value"
   ]
  },
  {
   "cell_type": "code",
   "execution_count": 102,
   "id": "7a1b3692",
   "metadata": {},
   "outputs": [],
   "source": [
    "sequence = [1, 2, None, 4, None, 5]\n",
    "total = 0\n",
    "\n",
    "for value in sequence:\n",
    "    if value is None:\n",
    "        continue\n",
    "    total += value"
   ]
  },
  {
   "cell_type": "code",
   "execution_count": 103,
   "id": "faa277ad",
   "metadata": {},
   "outputs": [
    {
     "data": {
      "text/plain": [
       "12"
      ]
     },
     "execution_count": 103,
     "metadata": {},
     "output_type": "execute_result"
    }
   ],
   "source": [
    "total"
   ]
  },
  {
   "cell_type": "markdown",
   "id": "7d4f0e48",
   "metadata": {},
   "source": [
    "A for loop can be exited altogether with the break keyword. This code sums ele-ments of the list until a 5 is reached:"
   ]
  },
  {
   "cell_type": "code",
   "execution_count": 104,
   "id": "865c1e21",
   "metadata": {},
   "outputs": [],
   "source": [
    "sequence = [1, 2, 0, 4, 6, 5, 2, 1]\n",
    "total_until_5 = 0\n",
    "for value in sequence:\n",
    "    if value == 5:\n",
    "        break\n",
    "    total_until_5 += value"
   ]
  },
  {
   "cell_type": "code",
   "execution_count": 106,
   "id": "a7f81c70",
   "metadata": {},
   "outputs": [
    {
     "data": {
      "text/plain": [
       "13"
      ]
     },
     "execution_count": 106,
     "metadata": {},
     "output_type": "execute_result"
    }
   ],
   "source": [
    "total_until_5"
   ]
  },
  {
   "cell_type": "markdown",
   "id": "95162ca2",
   "metadata": {},
   "source": [
    "The break keyword only termonates the innermost for loop; any outer for loops will continue to run:"
   ]
  },
  {
   "cell_type": "code",
   "execution_count": 108,
   "id": "1d78bacc",
   "metadata": {},
   "outputs": [
    {
     "name": "stdout",
     "output_type": "stream",
     "text": [
      "(0, 0)\n",
      "(1, 0)\n",
      "(1, 1)\n",
      "(2, 0)\n",
      "(2, 1)\n",
      "(2, 2)\n",
      "(3, 0)\n",
      "(3, 1)\n",
      "(3, 2)\n",
      "(3, 3)\n"
     ]
    }
   ],
   "source": [
    "for i in range(4):\n",
    "    for j in range(4):\n",
    "        if j > i:\n",
    "            break\n",
    "        print((i,j))"
   ]
  },
  {
   "cell_type": "markdown",
   "id": "6da2cbc4",
   "metadata": {},
   "source": [
    "As we will see in more detail, if the elements in the collection or iterator are sequence(tuples or list, say),\n",
    "\n",
    "they can be conveniently unpack into variables in the for loop statement:\n",
    "    for a, b, c in iterator:\n",
    "        #do something"
   ]
  },
  {
   "cell_type": "code",
   "execution_count": 109,
   "id": "6c40cb7e",
   "metadata": {},
   "outputs": [
    {
     "name": "stdout",
     "output_type": "stream",
     "text": [
      "1 2 3\n",
      "4 5 6\n",
      "7 8 9\n"
     ]
    }
   ],
   "source": [
    "for a, b, c in [[1,2,3,],[4,5,6],[7,8,9]]:\n",
    "    print(a,b,c)"
   ]
  },
  {
   "cell_type": "markdown",
   "id": "a84de9ec",
   "metadata": {},
   "source": [
    "while loops\n",
    "\n",
    "A while loop specifies a comdition and ablock of code that is to be executed until the condition evaluates to False or the loop is explicity ended with break:"
   ]
  },
  {
   "cell_type": "code",
   "execution_count": 110,
   "id": "fc081437",
   "metadata": {},
   "outputs": [],
   "source": [
    "x = 256\n",
    "total = 0\n",
    "while x > 0:\n",
    "    if total > 500:\n",
    "        break\n",
    "    total += x\n",
    "    x = x // 2"
   ]
  },
  {
   "cell_type": "code",
   "execution_count": 111,
   "id": "b0978fae",
   "metadata": {},
   "outputs": [
    {
     "data": {
      "text/plain": [
       "504"
      ]
     },
     "execution_count": 111,
     "metadata": {},
     "output_type": "execute_result"
    }
   ],
   "source": [
    "total"
   ]
  },
  {
   "cell_type": "code",
   "execution_count": 112,
   "id": "3ae87910",
   "metadata": {},
   "outputs": [
    {
     "data": {
      "text/plain": [
       "4"
      ]
     },
     "execution_count": 112,
     "metadata": {},
     "output_type": "execute_result"
    }
   ],
   "source": [
    "x"
   ]
  },
  {
   "cell_type": "code",
   "execution_count": 113,
   "id": "a04632b0",
   "metadata": {},
   "outputs": [
    {
     "data": {
      "text/plain": [
       "504"
      ]
     },
     "execution_count": 113,
     "metadata": {},
     "output_type": "execute_result"
    }
   ],
   "source": [
    "256+128+64+32+16+8"
   ]
  },
  {
   "cell_type": "markdown",
   "id": "551ff92c",
   "metadata": {},
   "source": [
    "### pass\n",
    "\n",
    "pass is the \"no-op\"(No Operation) statement in Python. it can be used in blocks where no action is to\n",
    "\n",
    "be taken (or as a placeholder for code not yet implemented); it is only required\n",
    "\n",
    "because Python uses whitespace to delimit blocks:"
   ]
  },
  {
   "cell_type": "code",
   "execution_count": 114,
   "id": "b28af251",
   "metadata": {},
   "outputs": [
    {
     "name": "stdout",
     "output_type": "stream",
     "text": [
      "negative!\n"
     ]
    }
   ],
   "source": [
    "x= -1\n",
    "if x < 0 :\n",
    "    print('negative!')\n",
    "elif x == 0:\n",
    "    # TODO : put something smart here\n",
    "    pass\n",
    "else:\n",
    "    print('positive!')"
   ]
  },
  {
   "cell_type": "markdown",
   "id": "b669cd12",
   "metadata": {},
   "source": [
    "### range\n",
    "\n",
    "the range function returns an iterator that yields a sequence of evenly spaced integers:\n"
   ]
  },
  {
   "cell_type": "code",
   "execution_count": 115,
   "id": "c9ef9820",
   "metadata": {},
   "outputs": [
    {
     "data": {
      "text/plain": [
       "range(0, 10)"
      ]
     },
     "execution_count": 115,
     "metadata": {},
     "output_type": "execute_result"
    }
   ],
   "source": [
    "range(10)"
   ]
  },
  {
   "cell_type": "code",
   "execution_count": 116,
   "id": "c7bb1f12",
   "metadata": {},
   "outputs": [
    {
     "data": {
      "text/plain": [
       "[0, 1, 2, 3, 4, 5, 6, 7, 8, 9]"
      ]
     },
     "execution_count": 116,
     "metadata": {},
     "output_type": "execute_result"
    }
   ],
   "source": [
    "list(range(10))"
   ]
  },
  {
   "cell_type": "markdown",
   "id": "3d10f8c1",
   "metadata": {},
   "source": [
    "Both a start, end, and step (which may be negative) can be given:"
   ]
  },
  {
   "cell_type": "code",
   "execution_count": 117,
   "id": "5c730f8c",
   "metadata": {},
   "outputs": [
    {
     "data": {
      "text/plain": [
       "[0, 2, 4, 6, 8, 10, 12, 14, 16, 18]"
      ]
     },
     "execution_count": 117,
     "metadata": {},
     "output_type": "execute_result"
    }
   ],
   "source": [
    "list(range(0,20,2))"
   ]
  },
  {
   "cell_type": "code",
   "execution_count": 118,
   "id": "d3572ab3",
   "metadata": {},
   "outputs": [
    {
     "data": {
      "text/plain": [
       "[5, 4, 3, 2, 1]"
      ]
     },
     "execution_count": 118,
     "metadata": {},
     "output_type": "execute_result"
    }
   ],
   "source": [
    "list(range(5,0,-1))"
   ]
  },
  {
   "cell_type": "raw",
   "id": "fcc5920d",
   "metadata": {},
   "source": [
    "As you can see, range produces integers up to but not including the endpoint.\n",
    "\n",
    "A common use of range is for iterating through sequence by index:"
   ]
  },
  {
   "cell_type": "code",
   "execution_count": 119,
   "id": "0f12cabb",
   "metadata": {},
   "outputs": [],
   "source": [
    "seq = [1,2,3,4]\n",
    "for i in range(len(seq)):\n",
    "    val = seq[i]"
   ]
  },
  {
   "cell_type": "code",
   "execution_count": 120,
   "id": "c30fcb09",
   "metadata": {},
   "outputs": [
    {
     "data": {
      "text/plain": [
       "4"
      ]
     },
     "execution_count": 120,
     "metadata": {},
     "output_type": "execute_result"
    }
   ],
   "source": [
    "val"
   ]
  },
  {
   "cell_type": "markdown",
   "id": "cc970c76",
   "metadata": {},
   "source": [
    "While you can use functions like list to store all the integers generated by range in\n",
    "some other data structure, often the default iterator form will be what you want. This\n",
    "svippet sums all numbers from 0 to 99,999 that ate multiples of 3 or 5:"
   ]
  },
  {
   "cell_type": "code",
   "execution_count": 121,
   "id": "ec3d06af",
   "metadata": {},
   "outputs": [],
   "source": [
    "sum = 0\n",
    "for i in range(100000):\n",
    "    # % is the modulo operator\n",
    "    if i % 3 == 0 or i % 5 == 0:\n",
    "        sum += i"
   ]
  },
  {
   "cell_type": "markdown",
   "id": "6e759951",
   "metadata": {},
   "source": [
    "### Ternary expressions\n",
    "\n",
    "value = true - expr if condition else false - expr\n",
    "\n",
    "### Here,true - expr and be any Python experssions. It has the identical effect as the verbose:\n",
    "\n",
    "if condition:\n",
    "    \n",
    "    value = true - expr\n",
    "\n",
    "else :\n",
    "    \n",
    "    value = false-expr"
   ]
  },
  {
   "cell_type": "code",
   "execution_count": 122,
   "id": "825983f0",
   "metadata": {},
   "outputs": [
    {
     "data": {
      "text/plain": [
       "'Non - negative'"
      ]
     },
     "execution_count": 122,
     "metadata": {},
     "output_type": "execute_result"
    }
   ],
   "source": [
    "x = 5\n",
    "'Non - negative' if x >= 0 else 'Negative'"
   ]
  },
  {
   "cell_type": "code",
   "execution_count": 123,
   "id": "34e90309",
   "metadata": {},
   "outputs": [
    {
     "data": {
      "text/plain": [
       "100"
      ]
     },
     "execution_count": 123,
     "metadata": {},
     "output_type": "execute_result"
    }
   ],
   "source": [
    "x = 5\n",
    "\n",
    "a = 100 if x>=0 else -100\n",
    "a"
   ]
  }
 ],
 "metadata": {
  "kernelspec": {
   "display_name": "Python 3",
   "language": "python",
   "name": "python3"
  },
  "language_info": {
   "codemirror_mode": {
    "name": "ipython",
    "version": 3
   },
   "file_extension": ".py",
   "mimetype": "text/x-python",
   "name": "python",
   "nbconvert_exporter": "python",
   "pygments_lexer": "ipython3",
   "version": "3.8.8"
  }
 },
 "nbformat": 4,
 "nbformat_minor": 5
}
